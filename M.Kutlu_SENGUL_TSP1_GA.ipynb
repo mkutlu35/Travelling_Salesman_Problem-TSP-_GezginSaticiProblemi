{
 "cells": [
  {
   "cell_type": "markdown",
   "metadata": {},
   "source": [
    "# İki Konum Arasındaki Mesafe, Sürüş Mesafesi ve Sürenin Gezgin Satıcı Problemi Genetik Algoritma Yöntemi İle Hesaplanması "
   ]
  },
  {
   "cell_type": "markdown",
   "metadata": {},
   "source": [
    "## Paketlerin ve Kütüphanelerin İndirilmesi"
   ]
  },
  {
   "cell_type": "code",
   "execution_count": 1,
   "metadata": {},
   "outputs": [],
   "source": [
    "#sklearn.externals.six paketinin hatasının çözümü maksadıyla ayrıca modül indirimi yapılmıştır.\n",
    "import six\n",
    "import sys\n",
    "sys.modules['sklearn.externals.six'] = six\n",
    "import mlrose"
   ]
  },
  {
   "cell_type": "code",
   "execution_count": 2,
   "metadata": {},
   "outputs": [],
   "source": [
    "import pandas as pd\n",
    "from geopy import distance\n",
    "import requests # to call the openmap/google apis\n",
    "import json\n",
    "import datetime\n",
    "import math\n",
    "import itertools\n",
    "\n",
    "# Eğer sklearn.external six paketi ile problemle karşılaşır iseniz yardımcı link: https://stackoverflow.com/questions/61867945/python-import-error-cannot-import-name-six-from-sklearn-externals\n",
    "# Normalde original paket indirimi şöyle yapılır:\n",
    "#from sklearn.external import six\n",
    "# to:\n",
    "# import six\n",
    "import mlrose #travelling salesman problem çözümü için\n",
    "\n",
    "# that was fixed in mlrose_hiive, though the outputs are different\n",
    "# import mlrose_hiive\n",
    "import numpy as np\n"
   ]
  },
  {
   "cell_type": "code",
   "execution_count": 3,
   "metadata": {},
   "outputs": [
    {
     "data": {
      "text/html": [
       "<div>\n",
       "<style scoped>\n",
       "    .dataframe tbody tr th:only-of-type {\n",
       "        vertical-align: middle;\n",
       "    }\n",
       "\n",
       "    .dataframe tbody tr th {\n",
       "        vertical-align: top;\n",
       "    }\n",
       "\n",
       "    .dataframe thead th {\n",
       "        text-align: right;\n",
       "    }\n",
       "</style>\n",
       "<table border=\"1\" class=\"dataframe\">\n",
       "  <thead>\n",
       "    <tr style=\"text-align: right;\">\n",
       "      <th></th>\n",
       "      <th>Country</th>\n",
       "      <th>capital</th>\n",
       "      <th>lat</th>\n",
       "      <th>lon</th>\n",
       "      <th>code</th>\n",
       "      <th>continent</th>\n",
       "    </tr>\n",
       "  </thead>\n",
       "  <tbody>\n",
       "    <tr>\n",
       "      <th>0</th>\n",
       "      <td>Somaliland</td>\n",
       "      <td>Hargeisa</td>\n",
       "      <td>9.550000</td>\n",
       "      <td>44.050000</td>\n",
       "      <td>NaN</td>\n",
       "      <td>Africa</td>\n",
       "    </tr>\n",
       "    <tr>\n",
       "      <th>1</th>\n",
       "      <td>South Georgia and South Sandwich Islands</td>\n",
       "      <td>King Edward Point</td>\n",
       "      <td>-54.283333</td>\n",
       "      <td>-36.500000</td>\n",
       "      <td>GS</td>\n",
       "      <td>Antarctica</td>\n",
       "    </tr>\n",
       "    <tr>\n",
       "      <th>2</th>\n",
       "      <td>French Southern and Antarctic Lands</td>\n",
       "      <td>Port-aux-Français</td>\n",
       "      <td>-49.350000</td>\n",
       "      <td>70.216667</td>\n",
       "      <td>TF</td>\n",
       "      <td>Antarctica</td>\n",
       "    </tr>\n",
       "    <tr>\n",
       "      <th>3</th>\n",
       "      <td>Palestine</td>\n",
       "      <td>Jerusalem</td>\n",
       "      <td>31.766667</td>\n",
       "      <td>35.233333</td>\n",
       "      <td>PS</td>\n",
       "      <td>Asia</td>\n",
       "    </tr>\n",
       "    <tr>\n",
       "      <th>4</th>\n",
       "      <td>Aland Islands</td>\n",
       "      <td>Mariehamn</td>\n",
       "      <td>60.116667</td>\n",
       "      <td>19.900000</td>\n",
       "      <td>AX</td>\n",
       "      <td>Europe</td>\n",
       "    </tr>\n",
       "    <tr>\n",
       "      <th>5</th>\n",
       "      <td>Nauru</td>\n",
       "      <td>Yaren</td>\n",
       "      <td>-0.547700</td>\n",
       "      <td>166.920867</td>\n",
       "      <td>NR</td>\n",
       "      <td>Australia</td>\n",
       "    </tr>\n",
       "    <tr>\n",
       "      <th>6</th>\n",
       "      <td>Saint Martin</td>\n",
       "      <td>Marigot</td>\n",
       "      <td>18.073100</td>\n",
       "      <td>-63.082200</td>\n",
       "      <td>MF</td>\n",
       "      <td>North America</td>\n",
       "    </tr>\n",
       "    <tr>\n",
       "      <th>7</th>\n",
       "      <td>Tokelau</td>\n",
       "      <td>Atafu</td>\n",
       "      <td>-9.166667</td>\n",
       "      <td>-171.833333</td>\n",
       "      <td>TK</td>\n",
       "      <td>Australia</td>\n",
       "    </tr>\n",
       "    <tr>\n",
       "      <th>8</th>\n",
       "      <td>Western Sahara</td>\n",
       "      <td>El-Aaiún</td>\n",
       "      <td>27.153611</td>\n",
       "      <td>-13.203333</td>\n",
       "      <td>EH</td>\n",
       "      <td>Africa</td>\n",
       "    </tr>\n",
       "    <tr>\n",
       "      <th>9</th>\n",
       "      <td>Afghanistan</td>\n",
       "      <td>Kabul</td>\n",
       "      <td>34.516667</td>\n",
       "      <td>69.183333</td>\n",
       "      <td>AF</td>\n",
       "      <td>Asia</td>\n",
       "    </tr>\n",
       "  </tbody>\n",
       "</table>\n",
       "</div>"
      ],
      "text/plain": [
       "                                    Country            capital        lat  \\\n",
       "0                                Somaliland           Hargeisa   9.550000   \n",
       "1  South Georgia and South Sandwich Islands  King Edward Point -54.283333   \n",
       "2       French Southern and Antarctic Lands  Port-aux-Français -49.350000   \n",
       "3                                 Palestine          Jerusalem  31.766667   \n",
       "4                             Aland Islands          Mariehamn  60.116667   \n",
       "5                                     Nauru              Yaren  -0.547700   \n",
       "6                              Saint Martin            Marigot  18.073100   \n",
       "7                                   Tokelau              Atafu  -9.166667   \n",
       "8                            Western Sahara           El-Aaiún  27.153611   \n",
       "9                               Afghanistan              Kabul  34.516667   \n",
       "\n",
       "          lon code      continent  \n",
       "0   44.050000  NaN         Africa  \n",
       "1  -36.500000   GS     Antarctica  \n",
       "2   70.216667   TF     Antarctica  \n",
       "3   35.233333   PS           Asia  \n",
       "4   19.900000   AX         Europe  \n",
       "5  166.920867   NR      Australia  \n",
       "6  -63.082200   MF  North America  \n",
       "7 -171.833333   TK      Australia  \n",
       "8  -13.203333   EH         Africa  \n",
       "9   69.183333   AF           Asia  "
      ]
     },
     "execution_count": 3,
     "metadata": {},
     "output_type": "execute_result"
    }
   ],
   "source": [
    "# Veri yüklenmesi yapılmıştır.(Dünya başkentlerine ait ülke ismi,başkent,enlem,boylam,kodları,kıta ismi verileri olan GPS)\n",
    "df = pd.read_csv(\"concap.csv\")\n",
    "\n",
    "# sütun adlarının daha kısa olması ve PEP-8 ile uyumlu olması için\n",
    "df.rename(columns={\"CountryName\": \"Country\", \"CapitalName\": \"capital\", \"CapitalLatitude\": \"lat\", \"CapitalLongitude\": \"lon\", \"CountryCode\": \"code\", \"ContinentName\": \"continent\"}, inplace=True)\n",
    "df.head(10)"
   ]
  },
  {
   "cell_type": "code",
   "execution_count": 4,
   "metadata": {},
   "outputs": [
    {
     "data": {
      "text/html": [
       "<div>\n",
       "<style scoped>\n",
       "    .dataframe tbody tr th:only-of-type {\n",
       "        vertical-align: middle;\n",
       "    }\n",
       "\n",
       "    .dataframe tbody tr th {\n",
       "        vertical-align: top;\n",
       "    }\n",
       "\n",
       "    .dataframe thead th {\n",
       "        text-align: right;\n",
       "    }\n",
       "</style>\n",
       "<table border=\"1\" class=\"dataframe\">\n",
       "  <thead>\n",
       "    <tr style=\"text-align: right;\">\n",
       "      <th></th>\n",
       "      <th>index</th>\n",
       "      <th>Country</th>\n",
       "      <th>capital</th>\n",
       "      <th>lat</th>\n",
       "      <th>lon</th>\n",
       "      <th>code</th>\n",
       "      <th>continent</th>\n",
       "    </tr>\n",
       "  </thead>\n",
       "  <tbody>\n",
       "    <tr>\n",
       "      <th>0</th>\n",
       "      <td>66</td>\n",
       "      <td>Denmark</td>\n",
       "      <td>Copenhagen</td>\n",
       "      <td>55.666667</td>\n",
       "      <td>12.583333</td>\n",
       "      <td>DK</td>\n",
       "      <td>Europe</td>\n",
       "    </tr>\n",
       "    <tr>\n",
       "      <th>1</th>\n",
       "      <td>219</td>\n",
       "      <td>Turkey</td>\n",
       "      <td>Ankara</td>\n",
       "      <td>39.933333</td>\n",
       "      <td>32.866667</td>\n",
       "      <td>TR</td>\n",
       "      <td>Europe</td>\n",
       "    </tr>\n",
       "    <tr>\n",
       "      <th>2</th>\n",
       "      <td>226</td>\n",
       "      <td>United Kingdom</td>\n",
       "      <td>London</td>\n",
       "      <td>51.500000</td>\n",
       "      <td>-0.083333</td>\n",
       "      <td>GB</td>\n",
       "      <td>Europe</td>\n",
       "    </tr>\n",
       "  </tbody>\n",
       "</table>\n",
       "</div>"
      ],
      "text/plain": [
       "   index         Country     capital        lat        lon code continent\n",
       "0     66         Denmark  Copenhagen  55.666667  12.583333   DK    Europe\n",
       "1    219          Turkey      Ankara  39.933333  32.866667   TR    Europe\n",
       "2    226  United Kingdom      London  51.500000  -0.083333   GB    Europe"
      ]
     },
     "execution_count": 4,
     "metadata": {},
     "output_type": "execute_result"
    }
   ],
   "source": [
    "\n",
    "# Başlangıcı üç dünya başkentini filitreliyerek başlayalım.\n",
    "ropa = df[df[\"capital\"].isin([\"Ankara\",\"London\",\"Copenhagen\"])].reset_index()\n",
    "cities = ropa.copy()\n",
    "cities"
   ]
  },
  {
   "cell_type": "markdown",
   "metadata": {},
   "source": [
    "## Mesafenin Hesaplanması"
   ]
  },
  {
   "cell_type": "markdown",
   "metadata": {},
   "source": [
    "İlk belirgin yöntem, Dünya başkentleri arasındaki, en kısa mesafeyi bulmaktdır. Çeşitli yaklaşımlar kullanılabilir"
   ]
  },
  {
   "cell_type": "markdown",
   "metadata": {},
   "source": [
    "Bu analizi tekrardan detaylı bir şekilde derinlemesine sıfırdan oluşturmamıza ve formüle etmemize gerek bırakmayan geopy uzaklık hesaplama modülü tüm bu mesafe hesaplamasını zaten uygulamaktadır.Kilometre (km), mil (mil), deniz mili (nm) veya fit (ft) cinsinden değerleri hesaplar. Tüm bu yöntemler, geopy'den içe aktardığımız uzaklık sınıfının bir parçasıdır."
   ]
  },
  {
   "cell_type": "markdown",
   "metadata": {},
   "source": [
    "distance((latitude_point_1, longitude_point_1), (lat_2, lon_2)) - using geodesic on WGS-84 ellipsoid\n",
    "geodesic((latitude_point_1, longitude_point_1), (lat_2, lon_2))\n",
    "great_circle((latitude_point_1, longitude_point_1), (lat_2, lon_2))"
   ]
  },
  {
   "cell_type": "code",
   "execution_count": 126,
   "metadata": {},
   "outputs": [
    {
     "data": {
      "text/plain": [
       "(Distance(2299.5504218172364), 2299.5504218172364, 1428.8743872144403)"
      ]
     },
     "execution_count": 126,
     "metadata": {},
     "output_type": "execute_result"
    }
   ],
   "source": [
    "d = distance.distance((cities.loc[0, \"lat\"], cities.loc[0, \"lon\"]), (cities.loc[1, \"lat\"], cities.loc[1, \"lon\"]))\n",
    "d, d.km, d.miles"
   ]
  },
  {
   "cell_type": "code",
   "execution_count": 127,
   "metadata": {},
   "outputs": [
    {
     "data": {
      "text/plain": [
       "2299.5504218172364"
      ]
     },
     "execution_count": 127,
     "metadata": {},
     "output_type": "execute_result"
    }
   ],
   "source": [
    "getattr(d, \"km\")"
   ]
  },
  {
   "cell_type": "code",
   "execution_count": 128,
   "metadata": {},
   "outputs": [
    {
     "data": {
      "text/html": [
       "<div>\n",
       "<style scoped>\n",
       "    .dataframe tbody tr th:only-of-type {\n",
       "        vertical-align: middle;\n",
       "    }\n",
       "\n",
       "    .dataframe tbody tr th {\n",
       "        vertical-align: top;\n",
       "    }\n",
       "\n",
       "    .dataframe thead th {\n",
       "        text-align: right;\n",
       "    }\n",
       "</style>\n",
       "<table border=\"1\" class=\"dataframe\">\n",
       "  <thead>\n",
       "    <tr style=\"text-align: right;\">\n",
       "      <th>measurement</th>\n",
       "      <th>feet</th>\n",
       "      <th>ft</th>\n",
       "      <th>kilometers</th>\n",
       "      <th>km</th>\n",
       "      <th>mi</th>\n",
       "      <th>miles</th>\n",
       "      <th>nautical</th>\n",
       "      <th>nm</th>\n",
       "    </tr>\n",
       "    <tr>\n",
       "      <th>method</th>\n",
       "      <th></th>\n",
       "      <th></th>\n",
       "      <th></th>\n",
       "      <th></th>\n",
       "      <th></th>\n",
       "      <th></th>\n",
       "      <th></th>\n",
       "      <th></th>\n",
       "    </tr>\n",
       "  </thead>\n",
       "  <tbody>\n",
       "    <tr>\n",
       "      <th>geodesic</th>\n",
       "      <td>7.544457e+06</td>\n",
       "      <td>7.544457e+06</td>\n",
       "      <td>2299.550422</td>\n",
       "      <td>2299.550422</td>\n",
       "      <td>1428.874387</td>\n",
       "      <td>1428.874387</td>\n",
       "      <td>1241.657895</td>\n",
       "      <td>1241.657895</td>\n",
       "    </tr>\n",
       "    <tr>\n",
       "      <th>great_circle</th>\n",
       "      <td>7.535520e+06</td>\n",
       "      <td>7.535520e+06</td>\n",
       "      <td>2296.826600</td>\n",
       "      <td>2296.826600</td>\n",
       "      <td>1427.181883</td>\n",
       "      <td>1427.181883</td>\n",
       "      <td>1240.187149</td>\n",
       "      <td>1240.187149</td>\n",
       "    </tr>\n",
       "  </tbody>\n",
       "</table>\n",
       "</div>"
      ],
      "text/plain": [
       "measurement           feet            ft   kilometers           km  \\\n",
       "method                                                               \n",
       "geodesic      7.544457e+06  7.544457e+06  2299.550422  2299.550422   \n",
       "great_circle  7.535520e+06  7.535520e+06  2296.826600  2296.826600   \n",
       "\n",
       "measurement            mi        miles     nautical           nm  \n",
       "method                                                            \n",
       "geodesic      1428.874387  1428.874387  1241.657895  1241.657895  \n",
       "great_circle  1427.181883  1427.181883  1240.187149  1240.187149  "
      ]
     },
     "execution_count": 128,
     "metadata": {},
     "output_type": "execute_result"
    }
   ],
   "source": [
    "results = []\n",
    "for f in [distance.distance, distance.great_circle, distance.geodesic]:\n",
    "    for mes in [\"kilometers\",\"km\",\"miles\",\"mi\",\"nautical\",\"nm\",\"feet\",\"ft\"]:\n",
    "        d = f((cities.loc[0, \"lat\"], cities.loc[0, \"lon\"]), (cities.loc[1, \"lat\"], cities.loc[1, \"lon\"]))\n",
    "        results.append({\"method\": f.__name__, \"measurement\": mes, \"value\": getattr(d, mes)})\n",
    "\n",
    "# show as dataframe\n",
    "results_df = pd.DataFrame(results)\n",
    "results_df.pivot_table(index=\"method\", columns=\"measurement\", values=\"value\")"
   ]
  },
  {
   "cell_type": "markdown",
   "metadata": {},
   "source": [
    "Distance.distance doğal olarak Distance.geodesic'i çağırır, bu yüzden bu iki değer sonuçlarda bir satıra sığar."
   ]
  },
  {
   "cell_type": "code",
   "execution_count": 129,
   "metadata": {},
   "outputs": [
    {
     "data": {
      "text/html": [
       "<div>\n",
       "<style scoped>\n",
       "    .dataframe tbody tr th:only-of-type {\n",
       "        vertical-align: middle;\n",
       "    }\n",
       "\n",
       "    .dataframe tbody tr th {\n",
       "        vertical-align: top;\n",
       "    }\n",
       "\n",
       "    .dataframe thead th {\n",
       "        text-align: right;\n",
       "    }\n",
       "</style>\n",
       "<table border=\"1\" class=\"dataframe\">\n",
       "  <thead>\n",
       "    <tr style=\"text-align: right;\">\n",
       "      <th>measurement</th>\n",
       "      <th>feet</th>\n",
       "      <th>ft</th>\n",
       "      <th>kilometers</th>\n",
       "      <th>km</th>\n",
       "      <th>mi</th>\n",
       "      <th>miles</th>\n",
       "      <th>nautical</th>\n",
       "      <th>nm</th>\n",
       "    </tr>\n",
       "    <tr>\n",
       "      <th>method</th>\n",
       "      <th></th>\n",
       "      <th></th>\n",
       "      <th></th>\n",
       "      <th></th>\n",
       "      <th></th>\n",
       "      <th></th>\n",
       "      <th></th>\n",
       "      <th></th>\n",
       "    </tr>\n",
       "  </thead>\n",
       "  <tbody>\n",
       "    <tr>\n",
       "      <th>geodesic</th>\n",
       "      <td>7.544457e+06</td>\n",
       "      <td>7.544457e+06</td>\n",
       "      <td>2299.550422</td>\n",
       "      <td>2299.550422</td>\n",
       "      <td>1428.874387</td>\n",
       "      <td>1428.874387</td>\n",
       "      <td>1241.657895</td>\n",
       "      <td>1241.657895</td>\n",
       "    </tr>\n",
       "    <tr>\n",
       "      <th>geodesic: Airy (1830)</th>\n",
       "      <td>7.543777e+06</td>\n",
       "      <td>7.543777e+06</td>\n",
       "      <td>2299.343094</td>\n",
       "      <td>2299.343094</td>\n",
       "      <td>1428.745560</td>\n",
       "      <td>1428.745560</td>\n",
       "      <td>1241.545947</td>\n",
       "      <td>1241.545947</td>\n",
       "    </tr>\n",
       "    <tr>\n",
       "      <th>geodesic: Clarke (1880)</th>\n",
       "      <td>7.544597e+06</td>\n",
       "      <td>7.544597e+06</td>\n",
       "      <td>2299.593244</td>\n",
       "      <td>2299.593244</td>\n",
       "      <td>1428.900996</td>\n",
       "      <td>1428.900996</td>\n",
       "      <td>1241.681017</td>\n",
       "      <td>1241.681017</td>\n",
       "    </tr>\n",
       "    <tr>\n",
       "      <th>geodesic: GRS-67</th>\n",
       "      <td>7.544484e+06</td>\n",
       "      <td>7.544484e+06</td>\n",
       "      <td>2299.558718</td>\n",
       "      <td>2299.558718</td>\n",
       "      <td>1428.879542</td>\n",
       "      <td>1428.879542</td>\n",
       "      <td>1241.662375</td>\n",
       "      <td>1241.662375</td>\n",
       "    </tr>\n",
       "    <tr>\n",
       "      <th>geodesic: GRS-80</th>\n",
       "      <td>7.544457e+06</td>\n",
       "      <td>7.544457e+06</td>\n",
       "      <td>2299.550422</td>\n",
       "      <td>2299.550422</td>\n",
       "      <td>1428.874387</td>\n",
       "      <td>1428.874387</td>\n",
       "      <td>1241.657895</td>\n",
       "      <td>1241.657895</td>\n",
       "    </tr>\n",
       "    <tr>\n",
       "      <th>geodesic: Intl 1924</th>\n",
       "      <td>7.544756e+06</td>\n",
       "      <td>7.544756e+06</td>\n",
       "      <td>2299.641536</td>\n",
       "      <td>2299.641536</td>\n",
       "      <td>1428.931003</td>\n",
       "      <td>1428.931003</td>\n",
       "      <td>1241.707093</td>\n",
       "      <td>1241.707093</td>\n",
       "    </tr>\n",
       "    <tr>\n",
       "      <th>geodesic: WGS-84</th>\n",
       "      <td>7.544457e+06</td>\n",
       "      <td>7.544457e+06</td>\n",
       "      <td>2299.550422</td>\n",
       "      <td>2299.550422</td>\n",
       "      <td>1428.874387</td>\n",
       "      <td>1428.874387</td>\n",
       "      <td>1241.657895</td>\n",
       "      <td>1241.657895</td>\n",
       "    </tr>\n",
       "    <tr>\n",
       "      <th>great_circle</th>\n",
       "      <td>7.535520e+06</td>\n",
       "      <td>7.535520e+06</td>\n",
       "      <td>2296.826600</td>\n",
       "      <td>2296.826600</td>\n",
       "      <td>1427.181883</td>\n",
       "      <td>1427.181883</td>\n",
       "      <td>1240.187149</td>\n",
       "      <td>1240.187149</td>\n",
       "    </tr>\n",
       "  </tbody>\n",
       "</table>\n",
       "</div>"
      ],
      "text/plain": [
       "measurement                      feet            ft   kilometers           km  \\\n",
       "method                                                                          \n",
       "geodesic                 7.544457e+06  7.544457e+06  2299.550422  2299.550422   \n",
       "geodesic: Airy (1830)    7.543777e+06  7.543777e+06  2299.343094  2299.343094   \n",
       "geodesic: Clarke (1880)  7.544597e+06  7.544597e+06  2299.593244  2299.593244   \n",
       "geodesic: GRS-67         7.544484e+06  7.544484e+06  2299.558718  2299.558718   \n",
       "geodesic: GRS-80         7.544457e+06  7.544457e+06  2299.550422  2299.550422   \n",
       "geodesic: Intl 1924      7.544756e+06  7.544756e+06  2299.641536  2299.641536   \n",
       "geodesic: WGS-84         7.544457e+06  7.544457e+06  2299.550422  2299.550422   \n",
       "great_circle             7.535520e+06  7.535520e+06  2296.826600  2296.826600   \n",
       "\n",
       "measurement                       mi        miles     nautical           nm  \n",
       "method                                                                       \n",
       "geodesic                 1428.874387  1428.874387  1241.657895  1241.657895  \n",
       "geodesic: Airy (1830)    1428.745560  1428.745560  1241.545947  1241.545947  \n",
       "geodesic: Clarke (1880)  1428.900996  1428.900996  1241.681017  1241.681017  \n",
       "geodesic: GRS-67         1428.879542  1428.879542  1241.662375  1241.662375  \n",
       "geodesic: GRS-80         1428.874387  1428.874387  1241.657895  1241.657895  \n",
       "geodesic: Intl 1924      1428.931003  1428.931003  1241.707093  1241.707093  \n",
       "geodesic: WGS-84         1428.874387  1428.874387  1241.657895  1241.657895  \n",
       "great_circle             1427.181883  1427.181883  1240.187149  1240.187149  "
      ]
     },
     "execution_count": 129,
     "metadata": {},
     "output_type": "execute_result"
    }
   ],
   "source": [
    "\n",
    "# the distnace for various ellipsiods\n",
    "for ellipsoid in distance.ELLIPSOIDS:\n",
    "    for mes in [\"kilometers\",\"km\",\"miles\",\"mi\",\"nautical\",\"nm\",\"feet\",\"ft\"]:\n",
    "        d = distance.geodesic((cities.loc[0, \"lat\"], cities.loc[0, \"lon\"]), (cities.loc[1, \"lat\"], cities.loc[1, \"lon\"]), ellipsoid=ellipsoid)\n",
    "        results.append({\"method\": f\"geodesic: {ellipsoid}\", \"measurement\": mes, \"value\": getattr(d, mes)})\n",
    "\n",
    "# show as dataframe\n",
    "results_df = pd.DataFrame(results)\n",
    "results_df.pivot_table(index=\"method\", columns=\"measurement\", values=\"value\")"
   ]
  },
  {
   "cell_type": "markdown",
   "metadata": {},
   "source": [
    "## Sürüş Mesafesi"
   ]
  },
  {
   "cell_type": "markdown",
   "metadata": {},
   "source": [
    "Şehirler yüzeyde oldukça yakın olabilir, ancak deniz veya dağ gibi doğal engeller sürüş mesafesinin çok daha uzun olmasına neden olabilir."
   ]
  },
  {
   "cell_type": "code",
   "execution_count": 130,
   "metadata": {},
   "outputs": [
    {
     "data": {
      "text/plain": [
       "397.76330968599365"
      ]
     },
     "execution_count": 130,
     "metadata": {},
     "output_type": "execute_result"
    }
   ],
   "source": [
    "\n",
    "hest = df[df[\"capital\"].isin([\"Helsinki\",\"Stockholm\"])].reset_index()\n",
    "cities = hest.copy()\n",
    "d = distance.distance((cities.loc[0, \"lat\"], cities.loc[0, \"lon\"]), (cities.loc[1, \"lat\"], cities.loc[1, \"lon\"]))\n",
    "d.km"
   ]
  },
  {
   "cell_type": "markdown",
   "metadata": {},
   "source": [
    "Finlandiya'nın başkenti Helsinky ile İsveç'teki Stockholm arasındaki mesafe 400 km'den az olsa da, gitmeye(kara yolu ile) karar verirseniz 1750km'den ve 20 saatten fazla. Feribotla gitseniz bile neredeyse 500 km yol gideceksiniz. Paris, Roma'dan sadece 1107km uzaklıkta, ancak bu şehirleri birbirine bağlayan yollar en az 1420 km uzunluğunda."
   ]
  },
  {
   "cell_type": "markdown",
   "metadata": {},
   "source": [
    "Bu nedenle, birçok uygulama için  standart matematiksel işlemlerle hesaplanması mümkün olmayan geri dönüş optimizasyonunuda hesaplayan gerçek seyahat mesafesini bilmek istersiniz."
   ]
  },
  {
   "cell_type": "markdown",
   "metadata": {},
   "source": [
    "Bazı harita hizmeti API'lerini çağırarak projemizi ilerlettik - ör. google rotaları veya osrm rota hizmeti gibi  (http://project-osrm.org/docs/v5.5.1/api/#route-service)"
   ]
  },
  {
   "cell_type": "markdown",
   "metadata": {},
   "source": [
    "Belgelerden elde edilen döküman sonuçlarından, sürüş mesafesini elde etmek için bu API endointini çağırmamız gerektiğinine ulaşılmıştır."
   ]
  },
  {
   "cell_type": "markdown",
   "metadata": {},
   "source": [
    "/route/v1/{profile}/{coordinates}?alternatives={true|false}&steps={true|false}&geometries={polyline|polyline6|geojson}&overview={full|simplified|false}&annotations={true|false} sahip parametreler çağrılmıştır:\n",
    "profile - car, bike, foot\n",
    "coordinates - lat,lon of the first point; lon, lat of the second point, e.g. 2.333333,48.866667;12.483333,41.900000\n",
    "alternative - yalnızca ilk seçeneğin mi yoksa daha fazla alternatifin mi döndürüleceğini,\n",
    "steps - rota adımlarının döndürülüp döndürülmeyeceği - ör. kavşakta sola dön gibi,\n",
    "geometries -yol nasıl döndürülür, ya polyline (varsayılan), polyline6, geojson`,\n",
    "overview - rota nasıl döndürülür - simplified (default), full, false\n",
    "annotations -rotadaki her nokta için ek meta veriler sağlanmışsa\n",
    "\n",
    "Süreç dahilinde, her şeyi yanlış veya varsayılan olarak ayarlayarak en basit isteği çalıştıracağız. Biz sadece çağırarak bütünleşik bir yapı ortaya koymuş oluyoruz:\n",
    "http://router.project-osrm.org/route/v1/driving/cities.loc[0, \"lon\"],cities.loc[0, \"lat\"];cities.loc[1, \"lon\"],cities.loc[1, \"lat\"]?overview=false"
   ]
  },
  {
   "cell_type": "markdown",
   "metadata": {},
   "source": [
    "#### API'nin yanıtını almak için Python request yöntemi kulanılmıştır."
   ]
  },
  {
   "cell_type": "code",
   "execution_count": 131,
   "metadata": {},
   "outputs": [],
   "source": [
    "cities = ropa.copy()\n",
    "r = requests.get(f\"\"\"http://router.project-osrm.org/route/v1/car/{cities.loc[0, \"lon\"]},{cities.loc[0, \"lat\"]};{cities.loc[1, \"lon\"]},{cities.loc[1, \"lat\"]}?overview=false\"\"\")"
   ]
  },
  {
   "cell_type": "markdown",
   "metadata": {},
   "source": [
    "#### API tarafından içerik parametresinde sağlananları döndürür."
   ]
  },
  {
   "cell_type": "code",
   "execution_count": 132,
   "metadata": {},
   "outputs": [
    {
     "data": {
      "text/plain": [
       "b'{\"code\":\"Ok\",\"waypoints\":[{\"hint\":\"tzqEi8w6hIsPAAAAJQAAAAAAAAAAAAAAGMXVQMVVc0EAAAAAAAAAAA8AAAAlAAAAAAAAAAAAAAD97QAA0gHAANdnUQOlAcAA62dRAwAAXwLgRcQ5\",\"distance\":3.60203,\"location\":[12.583378,55.666647],\"name\":\"\"},{\"hint\":\"SrjLgP___38hAAAAIwAAAPgAAAAmAAAA-HpuQjlEV0DqJeBDJHuKQiEAAAAjAAAA-AAAACYAAAD97QAAfoH1AfhVYQJrgfUBlVVhAg4ALwbgRcQ5\",\"distance\":11.111453,\"location\":[32.866686,39.933432],\"name\":\"Talat Pa\\xc5\\x9fa Bulvar\\xc4\\xb1\"}],\"routes\":[{\"legs\":[{\"steps\":[],\"weight\":125890.8,\"distance\":3394543.3,\"summary\":\"\",\"duration\":125890.8}],\"weight_name\":\"routability\",\"weight\":125890.8,\"distance\":3394543.3,\"duration\":125890.8}]}'"
      ]
     },
     "execution_count": 132,
     "metadata": {},
     "output_type": "execute_result"
    }
   ],
   "source": [
    "r.content"
   ]
  },
  {
   "cell_type": "markdown",
   "metadata": {},
   "source": [
    "#### Python'un json kitaplığına geçirildiğinde güzel görünen bir json nesnesi döndürdüğü görülmektedir."
   ]
  },
  {
   "cell_type": "code",
   "execution_count": 133,
   "metadata": {},
   "outputs": [
    {
     "data": {
      "text/plain": [
       "{'code': 'Ok',\n",
       " 'waypoints': [{'hint': 'tzqEi8w6hIsPAAAAJQAAAAAAAAAAAAAAGMXVQMVVc0EAAAAAAAAAAA8AAAAlAAAAAAAAAAAAAAD97QAA0gHAANdnUQOlAcAA62dRAwAAXwLgRcQ5',\n",
       "   'distance': 3.60203,\n",
       "   'location': [12.583378, 55.666647],\n",
       "   'name': ''},\n",
       "  {'hint': 'SrjLgP___38hAAAAIwAAAPgAAAAmAAAA-HpuQjlEV0DqJeBDJHuKQiEAAAAjAAAA-AAAACYAAAD97QAAfoH1AfhVYQJrgfUBlVVhAg4ALwbgRcQ5',\n",
       "   'distance': 11.111453,\n",
       "   'location': [32.866686, 39.933432],\n",
       "   'name': 'Talat Paşa Bulvarı'}],\n",
       " 'routes': [{'legs': [{'steps': [],\n",
       "     'weight': 125890.8,\n",
       "     'distance': 3394543.3,\n",
       "     'summary': '',\n",
       "     'duration': 125890.8}],\n",
       "   'weight_name': 'routability',\n",
       "   'weight': 125890.8,\n",
       "   'distance': 3394543.3,\n",
       "   'duration': 125890.8}]}"
      ]
     },
     "execution_count": 133,
     "metadata": {},
     "output_type": "execute_result"
    }
   ],
   "source": [
    "json.loads(r.content)"
   ]
  },
  {
   "cell_type": "markdown",
   "metadata": {},
   "source": [
    "Esas olarak sürüş mesafesi ve/veya sürüş süresi ile ilgileniyoruz. Bu parametreler, bir rota listesi içeren rota alt öğesine dahil edilir. Herhangi bir alternatif aramadığımız için bu listede sadece bir madde var."
   ]
  },
  {
   "cell_type": "code",
   "execution_count": 134,
   "metadata": {},
   "outputs": [
    {
     "data": {
      "text/plain": [
       "(3394543.3, 125890.8)"
      ]
     },
     "execution_count": 134,
     "metadata": {},
     "output_type": "execute_result"
    }
   ],
   "source": [
    "route_1 = json.loads(r.content)[\"routes\"][0]\n",
    "route_1[\"distance\"], route_1[\"duration\"]"
   ]
  },
  {
   "cell_type": "markdown",
   "metadata": {},
   "source": [
    "Ortaya çıkan sayılar garip görünüyorsa, mesafenin metre cinsinden ve sürenin saniye cinsinden olduğuna dikkat edilmesi gerekmektedir.Daha iyi okunabilir bir formata çevirebilmek için süreç işletilmiştir. Bu, alınan süreyi bir parametre olarak datetime'ın timedelta işlevine geçirerek ve dize temsilini döndürerek elde edilmiştir.(1 günden fazla olması durumunda (bu amaçla Paris-Roma mesafesini 100000 saniye eklenmiştir))."
   ]
  },
  {
   "cell_type": "code",
   "execution_count": 135,
   "metadata": {},
   "outputs": [],
   "source": [
    "x = datetime.timedelta(seconds=route_1[\"duration\"])"
   ]
  },
  {
   "cell_type": "code",
   "execution_count": 136,
   "metadata": {},
   "outputs": [
    {
     "data": {
      "text/plain": [
       "'1 day, 10:58:10.800000'"
      ]
     },
     "execution_count": 136,
     "metadata": {},
     "output_type": "execute_result"
    }
   ],
   "source": [
    "str(x)"
   ]
  },
  {
   "cell_type": "markdown",
   "metadata": {},
   "source": [
    "Süre sütununun türünü timedelta64[s] olarak belirtmemizin sebebi, panda kütüphanesinin işlevsel olarak kullanılabilmesi amacıyladır."
   ]
  },
  {
   "cell_type": "code",
   "execution_count": 137,
   "metadata": {},
   "outputs": [
    {
     "data": {
      "text/html": [
       "<div>\n",
       "<style scoped>\n",
       "    .dataframe tbody tr th:only-of-type {\n",
       "        vertical-align: middle;\n",
       "    }\n",
       "\n",
       "    .dataframe tbody tr th {\n",
       "        vertical-align: top;\n",
       "    }\n",
       "\n",
       "    .dataframe thead th {\n",
       "        text-align: right;\n",
       "    }\n",
       "</style>\n",
       "<table border=\"1\" class=\"dataframe\">\n",
       "  <thead>\n",
       "    <tr style=\"text-align: right;\">\n",
       "      <th></th>\n",
       "      <th>duration</th>\n",
       "    </tr>\n",
       "  </thead>\n",
       "  <tbody>\n",
       "    <tr>\n",
       "      <th>0</th>\n",
       "      <td>2 days 14:44:50</td>\n",
       "    </tr>\n",
       "  </tbody>\n",
       "</table>\n",
       "</div>"
      ],
      "text/plain": [
       "         duration\n",
       "0 2 days 14:44:50"
      ]
     },
     "execution_count": 137,
     "metadata": {},
     "output_type": "execute_result"
    }
   ],
   "source": [
    "dftime = pd.DataFrame({\"duration\":route_1[\"duration\"]+100000}, index=[0])\n",
    "dftime[\"duration\"] = dftime[\"duration\"].astype(\"timedelta64[s]\")\n",
    "dftime"
   ]
  },
  {
   "cell_type": "code",
   "execution_count": 138,
   "metadata": {},
   "outputs": [
    {
     "name": "stdout",
     "output_type": "stream",
     "text": [
      "https://maps.googleapis.com/maps/api/directions/json?origin=55.66666666666666,12.583333&destination=39.93333333333333,32.866667&mode=driving&key=...your_google_api_key...\n"
     ]
    }
   ],
   "source": [
    "origin_coor = \",\".join([str(cities.loc[0,\"lat\"]), str(cities.loc[0,\"lon\"])])\n",
    "destination_coor = \",\".join([str(cities.loc[1,\"lat\"]), str(cities.loc[1,\"lon\"])])\n",
    "API_KEY = \"...your_google_api_key...\"\n",
    "url = f\"https://maps.googleapis.com/maps/api/directions/json?origin={origin_coor}&destination={destination_coor}&mode=driving&key={API_KEY}\"\n",
    "\n",
    "# alternatively you can specify the start point (origin) and the destination using the places' names\n",
    "url_alt = f\"https://maps.googleapis.com/maps/api/directions/json?origin=Paris&destination=Rome&mode=driving&key={API_KEY}\"\n",
    "print(url)"
   ]
  },
  {
   "cell_type": "code",
   "execution_count": 139,
   "metadata": {},
   "outputs": [],
   "source": [
    "r = requests.get(url_alt)"
   ]
  },
  {
   "cell_type": "markdown",
   "metadata": {},
   "source": [
    "Bu durumda, sonuçları yanıtın uygun değerlerinde bulabileceğiz."
   ]
  },
  {
   "cell_type": "raw",
   "metadata": {},
   "source": [
    "results = json.loads(r.content)\n",
    "legs = results.get(\"routes\").pop(0).get(\"legs\")\n",
    "legs[0].get(\"duration\"), legs[0].get(\"distance\")\n",
    "\n",
    "\n",
    "\n"
   ]
  },
  {
   "cell_type": "raw",
   "metadata": {},
   "source": [
    "({'text': '13 hours 44 mins', 'value': 49460},\n",
    " {'text': '1,420 km', 'value': 1420429})"
   ]
  },
  {
   "cell_type": "raw",
   "metadata": {},
   "source": [
    "\n",
    "legs.pop(0).get(\"duration\")"
   ]
  },
  {
   "cell_type": "raw",
   "metadata": {},
   "source": [
    "{'text': '13 hours 44 mins', 'value': 49460}"
   ]
  },
  {
   "cell_type": "markdown",
   "metadata": {},
   "source": [
    "## Birden fazla şehir ve optimum rota arasındaki mesafeler"
   ]
  },
  {
   "cell_type": "code",
   "execution_count": 140,
   "metadata": {},
   "outputs": [],
   "source": [
    "ce_countries = [\"AT\",\"CZ\",\"DE\",\"HU\",\"LI\",\"PL\",\"SK\",\"SI\",\"CH\"]"
   ]
  },
  {
   "cell_type": "code",
   "execution_count": 141,
   "metadata": {},
   "outputs": [
    {
     "data": {
      "text/html": [
       "<div>\n",
       "<style scoped>\n",
       "    .dataframe tbody tr th:only-of-type {\n",
       "        vertical-align: middle;\n",
       "    }\n",
       "\n",
       "    .dataframe tbody tr th {\n",
       "        vertical-align: top;\n",
       "    }\n",
       "\n",
       "    .dataframe thead th {\n",
       "        text-align: right;\n",
       "    }\n",
       "</style>\n",
       "<table border=\"1\" class=\"dataframe\">\n",
       "  <thead>\n",
       "    <tr style=\"text-align: right;\">\n",
       "      <th></th>\n",
       "      <th>Country</th>\n",
       "      <th>capital</th>\n",
       "      <th>lat</th>\n",
       "      <th>lon</th>\n",
       "      <th>code</th>\n",
       "      <th>continent</th>\n",
       "    </tr>\n",
       "  </thead>\n",
       "  <tbody>\n",
       "    <tr>\n",
       "      <th>0</th>\n",
       "      <td>Austria</td>\n",
       "      <td>Vienna</td>\n",
       "      <td>48.200000</td>\n",
       "      <td>16.366667</td>\n",
       "      <td>AT</td>\n",
       "      <td>Europe</td>\n",
       "    </tr>\n",
       "    <tr>\n",
       "      <th>1</th>\n",
       "      <td>Czech Republic</td>\n",
       "      <td>Prague</td>\n",
       "      <td>50.083333</td>\n",
       "      <td>14.466667</td>\n",
       "      <td>CZ</td>\n",
       "      <td>Europe</td>\n",
       "    </tr>\n",
       "    <tr>\n",
       "      <th>2</th>\n",
       "      <td>Germany</td>\n",
       "      <td>Berlin</td>\n",
       "      <td>52.516667</td>\n",
       "      <td>13.400000</td>\n",
       "      <td>DE</td>\n",
       "      <td>Europe</td>\n",
       "    </tr>\n",
       "    <tr>\n",
       "      <th>3</th>\n",
       "      <td>Hungary</td>\n",
       "      <td>Budapest</td>\n",
       "      <td>47.500000</td>\n",
       "      <td>19.083333</td>\n",
       "      <td>HU</td>\n",
       "      <td>Europe</td>\n",
       "    </tr>\n",
       "    <tr>\n",
       "      <th>4</th>\n",
       "      <td>Liechtenstein</td>\n",
       "      <td>Vaduz</td>\n",
       "      <td>47.133333</td>\n",
       "      <td>9.516667</td>\n",
       "      <td>LI</td>\n",
       "      <td>Europe</td>\n",
       "    </tr>\n",
       "    <tr>\n",
       "      <th>5</th>\n",
       "      <td>Poland</td>\n",
       "      <td>Warsaw</td>\n",
       "      <td>52.250000</td>\n",
       "      <td>21.000000</td>\n",
       "      <td>PL</td>\n",
       "      <td>Europe</td>\n",
       "    </tr>\n",
       "    <tr>\n",
       "      <th>6</th>\n",
       "      <td>Slovakia</td>\n",
       "      <td>Bratislava</td>\n",
       "      <td>48.150000</td>\n",
       "      <td>17.116667</td>\n",
       "      <td>SK</td>\n",
       "      <td>Europe</td>\n",
       "    </tr>\n",
       "    <tr>\n",
       "      <th>7</th>\n",
       "      <td>Slovenia</td>\n",
       "      <td>Ljubljana</td>\n",
       "      <td>46.050000</td>\n",
       "      <td>14.516667</td>\n",
       "      <td>SI</td>\n",
       "      <td>Europe</td>\n",
       "    </tr>\n",
       "    <tr>\n",
       "      <th>8</th>\n",
       "      <td>Switzerland</td>\n",
       "      <td>Bern</td>\n",
       "      <td>46.916667</td>\n",
       "      <td>7.466667</td>\n",
       "      <td>CH</td>\n",
       "      <td>Europe</td>\n",
       "    </tr>\n",
       "  </tbody>\n",
       "</table>\n",
       "</div>"
      ],
      "text/plain": [
       "          Country     capital        lat        lon code continent\n",
       "0         Austria      Vienna  48.200000  16.366667   AT    Europe\n",
       "1  Czech Republic      Prague  50.083333  14.466667   CZ    Europe\n",
       "2         Germany      Berlin  52.516667  13.400000   DE    Europe\n",
       "3         Hungary    Budapest  47.500000  19.083333   HU    Europe\n",
       "4   Liechtenstein       Vaduz  47.133333   9.516667   LI    Europe\n",
       "5          Poland      Warsaw  52.250000  21.000000   PL    Europe\n",
       "6        Slovakia  Bratislava  48.150000  17.116667   SK    Europe\n",
       "7        Slovenia   Ljubljana  46.050000  14.516667   SI    Europe\n",
       "8     Switzerland        Bern  46.916667   7.466667   CH    Europe"
      ]
     },
     "execution_count": 141,
     "metadata": {},
     "output_type": "execute_result"
    }
   ],
   "source": [
    "ce_cities = df[df[\"code\"].isin(ce_countries)].reset_index(drop=True)\n",
    "ce_cities"
   ]
  },
  {
   "cell_type": "markdown",
   "metadata": {},
   "source": [
    "OSRM uzaklık değerini  fonksiyona çevrilmiştir."
   ]
  },
  {
   "cell_type": "code",
   "execution_count": 142,
   "metadata": {},
   "outputs": [],
   "source": [
    "def get_distance(point1: dict, point2: dict) -> tuple:\n",
    "    \"\"\"Gets distance between two points en route using http://project-osrm.org/docs/v5.10.0/api/#nearest-service\"\"\"\n",
    "    \n",
    "    url = f\"\"\"http://router.project-osrm.org/route/v1/driving/{point1[\"lon\"]},{point1[\"lat\"]};{point2[\"lon\"]},{point2[\"lat\"]}?overview=false&alternatives=false\"\"\"\n",
    "    r = requests.get(url)\n",
    "    \n",
    "    # get the distance from the returned values\n",
    "    route = json.loads(r.content)[\"routes\"][0]\n",
    "    return (route[\"distance\"], route[\"duration\"])"
   ]
  },
  {
   "cell_type": "code",
   "execution_count": 143,
   "metadata": {},
   "outputs": [
    {
     "data": {
      "text/plain": [
       "(333871.2, 13485.7)"
      ]
     },
     "execution_count": 143,
     "metadata": {},
     "output_type": "execute_result"
    }
   ],
   "source": [
    "# İki şehir için deneme yapılmıştır.\n",
    "# bağlantıyı teyit edelim şu adresten: https://www.openstreetmap.org/directions?engine=fossgis_osrm_car&route=48.208%2C16.372%3B50.087%2C14.421\n",
    "get_distance({\"lat\": 48.200000,\"lon\": 16.366667}, {\"lat\": 50.083333,\"lon\": 14.466667})"
   ]
  },
  {
   "cell_type": "markdown",
   "metadata": {},
   "source": [
    "Artık şehirlerin tüm kombinasyonları için mesafe hesaplamasını yapabiliriz.9 a 2 kombinasyon yapılmıştır."
   ]
  },
  {
   "cell_type": "code",
   "execution_count": 144,
   "metadata": {},
   "outputs": [
    {
     "data": {
      "text/plain": [
       "36"
      ]
     },
     "execution_count": 144,
     "metadata": {},
     "output_type": "execute_result"
    }
   ],
   "source": [
    "combination = itertools.combinations(list(ce_cities[\"capital\"]),2)\n",
    "len([c for c in itertools.combinations(list(ce_cities[\"capital\"]),2)])"
   ]
  },
  {
   "cell_type": "code",
   "execution_count": 145,
   "metadata": {},
   "outputs": [
    {
     "data": {
      "text/plain": [
       "['Vienna',\n",
       " 'Prague',\n",
       " 'Berlin',\n",
       " 'Budapest',\n",
       " 'Vaduz',\n",
       " 'Warsaw',\n",
       " 'Bratislava',\n",
       " 'Ljubljana',\n",
       " 'Bern']"
      ]
     },
     "execution_count": 145,
     "metadata": {},
     "output_type": "execute_result"
    }
   ],
   "source": [
    "list(ce_cities[\"capital\"])"
   ]
  },
  {
   "cell_type": "code",
   "execution_count": 146,
   "metadata": {},
   "outputs": [
    {
     "data": {
      "text/plain": [
       "36"
      ]
     },
     "execution_count": 146,
     "metadata": {},
     "output_type": "execute_result"
    }
   ],
   "source": [
    "math.comb(9,2)"
   ]
  },
  {
   "cell_type": "markdown",
   "metadata": {},
   "source": [
    "Tüm kombinasyonlarımız için OSRM API'den mesafe ve süreyi alalım."
   ]
  },
  {
   "cell_type": "code",
   "execution_count": 147,
   "metadata": {},
   "outputs": [],
   "source": [
    "dist_array = []\n",
    "for i , r in ce_cities.iterrows():\n",
    "    point1 = {\"lat\": r[\"lat\"], \"lon\": r[\"lon\"]}\n",
    "    for j, o in ce_cities[ce_cities.index != i].iterrows():\n",
    "        point2 = {\"lat\": o[\"lat\"], \"lon\": o[\"lon\"]}\n",
    "        dist, duration = get_distance(point1, point2)\n",
    "        #dist = geodesic((i_lat, i_lon), (o[\"CapitalLatitude\"], o[\"CapitalLongitude\"])).km\n",
    "        dist_array.append((i, j, duration, dist))"
   ]
  },
  {
   "cell_type": "code",
   "execution_count": 148,
   "metadata": {},
   "outputs": [
    {
     "data": {
      "text/html": [
       "<div>\n",
       "<style scoped>\n",
       "    .dataframe tbody tr th:only-of-type {\n",
       "        vertical-align: middle;\n",
       "    }\n",
       "\n",
       "    .dataframe tbody tr th {\n",
       "        vertical-align: top;\n",
       "    }\n",
       "\n",
       "    .dataframe thead th {\n",
       "        text-align: right;\n",
       "    }\n",
       "</style>\n",
       "<table border=\"1\" class=\"dataframe\">\n",
       "  <thead>\n",
       "    <tr style=\"text-align: right;\">\n",
       "      <th></th>\n",
       "      <th>origin</th>\n",
       "      <th>destination</th>\n",
       "      <th>duration(s)</th>\n",
       "      <th>distnace(m)</th>\n",
       "    </tr>\n",
       "  </thead>\n",
       "  <tbody>\n",
       "    <tr>\n",
       "      <th>0</th>\n",
       "      <td>0</td>\n",
       "      <td>1</td>\n",
       "      <td>13485.7</td>\n",
       "      <td>333871.2</td>\n",
       "    </tr>\n",
       "    <tr>\n",
       "      <th>1</th>\n",
       "      <td>0</td>\n",
       "      <td>2</td>\n",
       "      <td>26971.0</td>\n",
       "      <td>681982.9</td>\n",
       "    </tr>\n",
       "    <tr>\n",
       "      <th>2</th>\n",
       "      <td>0</td>\n",
       "      <td>3</td>\n",
       "      <td>9627.4</td>\n",
       "      <td>246207.5</td>\n",
       "    </tr>\n",
       "    <tr>\n",
       "      <th>3</th>\n",
       "      <td>0</td>\n",
       "      <td>4</td>\n",
       "      <td>24179.8</td>\n",
       "      <td>647086.7</td>\n",
       "    </tr>\n",
       "    <tr>\n",
       "      <th>4</th>\n",
       "      <td>0</td>\n",
       "      <td>5</td>\n",
       "      <td>29590.6</td>\n",
       "      <td>672145.8</td>\n",
       "    </tr>\n",
       "    <tr>\n",
       "      <th>...</th>\n",
       "      <td>...</td>\n",
       "      <td>...</td>\n",
       "      <td>...</td>\n",
       "      <td>...</td>\n",
       "    </tr>\n",
       "    <tr>\n",
       "      <th>67</th>\n",
       "      <td>8</td>\n",
       "      <td>3</td>\n",
       "      <td>42033.8</td>\n",
       "      <td>1102404.1</td>\n",
       "    </tr>\n",
       "    <tr>\n",
       "      <th>68</th>\n",
       "      <td>8</td>\n",
       "      <td>4</td>\n",
       "      <td>10012.4</td>\n",
       "      <td>235665.4</td>\n",
       "    </tr>\n",
       "    <tr>\n",
       "      <th>69</th>\n",
       "      <td>8</td>\n",
       "      <td>5</td>\n",
       "      <td>52620.7</td>\n",
       "      <td>1498735.9</td>\n",
       "    </tr>\n",
       "    <tr>\n",
       "      <th>70</th>\n",
       "      <td>8</td>\n",
       "      <td>6</td>\n",
       "      <td>35890.9</td>\n",
       "      <td>936758.2</td>\n",
       "    </tr>\n",
       "    <tr>\n",
       "      <th>71</th>\n",
       "      <td>8</td>\n",
       "      <td>7</td>\n",
       "      <td>32892.6</td>\n",
       "      <td>804554.5</td>\n",
       "    </tr>\n",
       "  </tbody>\n",
       "</table>\n",
       "<p>72 rows × 4 columns</p>\n",
       "</div>"
      ],
      "text/plain": [
       "    origin  destination  duration(s)  distnace(m)\n",
       "0        0            1      13485.7     333871.2\n",
       "1        0            2      26971.0     681982.9\n",
       "2        0            3       9627.4     246207.5\n",
       "3        0            4      24179.8     647086.7\n",
       "4        0            5      29590.6     672145.8\n",
       "..     ...          ...          ...          ...\n",
       "67       8            3      42033.8    1102404.1\n",
       "68       8            4      10012.4     235665.4\n",
       "69       8            5      52620.7    1498735.9\n",
       "70       8            6      35890.9     936758.2\n",
       "71       8            7      32892.6     804554.5\n",
       "\n",
       "[72 rows x 4 columns]"
      ]
     },
     "execution_count": 148,
     "metadata": {},
     "output_type": "execute_result"
    }
   ],
   "source": [
    "distances_df = pd.DataFrame(dist_array,columns=[\"origin\",\"destination\",\"duration(s)\",\"distnace(m)\"])\n",
    "distances_df"
   ]
  },
  {
   "cell_type": "code",
   "execution_count": 149,
   "metadata": {},
   "outputs": [
    {
     "data": {
      "text/html": [
       "<div>\n",
       "<style scoped>\n",
       "    .dataframe tbody tr th:only-of-type {\n",
       "        vertical-align: middle;\n",
       "    }\n",
       "\n",
       "    .dataframe tbody tr th {\n",
       "        vertical-align: top;\n",
       "    }\n",
       "\n",
       "    .dataframe thead th {\n",
       "        text-align: right;\n",
       "    }\n",
       "</style>\n",
       "<table border=\"1\" class=\"dataframe\">\n",
       "  <thead>\n",
       "    <tr style=\"text-align: right;\">\n",
       "      <th></th>\n",
       "      <th>origin</th>\n",
       "      <th>destination</th>\n",
       "      <th>duration(s)</th>\n",
       "      <th>distnace(m)</th>\n",
       "      <th>origin_name</th>\n",
       "      <th>destination_name</th>\n",
       "    </tr>\n",
       "  </thead>\n",
       "  <tbody>\n",
       "    <tr>\n",
       "      <th>0</th>\n",
       "      <td>0</td>\n",
       "      <td>1</td>\n",
       "      <td>13485.7</td>\n",
       "      <td>333871.2</td>\n",
       "      <td>Vienna</td>\n",
       "      <td>Prague</td>\n",
       "    </tr>\n",
       "    <tr>\n",
       "      <th>17</th>\n",
       "      <td>2</td>\n",
       "      <td>1</td>\n",
       "      <td>13652.6</td>\n",
       "      <td>348020.9</td>\n",
       "      <td>Berlin</td>\n",
       "      <td>Prague</td>\n",
       "    </tr>\n",
       "    <tr>\n",
       "      <th>25</th>\n",
       "      <td>3</td>\n",
       "      <td>1</td>\n",
       "      <td>19593.8</td>\n",
       "      <td>527320.4</td>\n",
       "      <td>Budapest</td>\n",
       "      <td>Prague</td>\n",
       "    </tr>\n",
       "    <tr>\n",
       "      <th>33</th>\n",
       "      <td>4</td>\n",
       "      <td>1</td>\n",
       "      <td>22575.3</td>\n",
       "      <td>633999.7</td>\n",
       "      <td>Vaduz</td>\n",
       "      <td>Prague</td>\n",
       "    </tr>\n",
       "    <tr>\n",
       "      <th>41</th>\n",
       "      <td>5</td>\n",
       "      <td>1</td>\n",
       "      <td>26700.9</td>\n",
       "      <td>673814.6</td>\n",
       "      <td>Warsaw</td>\n",
       "      <td>Prague</td>\n",
       "    </tr>\n",
       "    <tr>\n",
       "      <th>...</th>\n",
       "      <td>...</td>\n",
       "      <td>...</td>\n",
       "      <td>...</td>\n",
       "      <td>...</td>\n",
       "      <td>...</td>\n",
       "      <td>...</td>\n",
       "    </tr>\n",
       "    <tr>\n",
       "      <th>32</th>\n",
       "      <td>4</td>\n",
       "      <td>0</td>\n",
       "      <td>24206.8</td>\n",
       "      <td>646715.5</td>\n",
       "      <td>Vaduz</td>\n",
       "      <td>Vienna</td>\n",
       "    </tr>\n",
       "    <tr>\n",
       "      <th>40</th>\n",
       "      <td>5</td>\n",
       "      <td>0</td>\n",
       "      <td>29661.1</td>\n",
       "      <td>672305.4</td>\n",
       "      <td>Warsaw</td>\n",
       "      <td>Vienna</td>\n",
       "    </tr>\n",
       "    <tr>\n",
       "      <th>48</th>\n",
       "      <td>6</td>\n",
       "      <td>0</td>\n",
       "      <td>3488.7</td>\n",
       "      <td>79230.9</td>\n",
       "      <td>Bratislava</td>\n",
       "      <td>Vienna</td>\n",
       "    </tr>\n",
       "    <tr>\n",
       "      <th>56</th>\n",
       "      <td>7</td>\n",
       "      <td>0</td>\n",
       "      <td>14281.6</td>\n",
       "      <td>374125.5</td>\n",
       "      <td>Ljubljana</td>\n",
       "      <td>Vienna</td>\n",
       "    </tr>\n",
       "    <tr>\n",
       "      <th>64</th>\n",
       "      <td>8</td>\n",
       "      <td>0</td>\n",
       "      <td>32903.3</td>\n",
       "      <td>848738.2</td>\n",
       "      <td>Bern</td>\n",
       "      <td>Vienna</td>\n",
       "    </tr>\n",
       "  </tbody>\n",
       "</table>\n",
       "<p>72 rows × 6 columns</p>\n",
       "</div>"
      ],
      "text/plain": [
       "    origin  destination  duration(s)  distnace(m) origin_name destination_name\n",
       "0        0            1      13485.7     333871.2      Vienna           Prague\n",
       "17       2            1      13652.6     348020.9      Berlin           Prague\n",
       "25       3            1      19593.8     527320.4    Budapest           Prague\n",
       "33       4            1      22575.3     633999.7       Vaduz           Prague\n",
       "41       5            1      26700.9     673814.6      Warsaw           Prague\n",
       "..     ...          ...          ...          ...         ...              ...\n",
       "32       4            0      24206.8     646715.5       Vaduz           Vienna\n",
       "40       5            0      29661.1     672305.4      Warsaw           Vienna\n",
       "48       6            0       3488.7      79230.9  Bratislava           Vienna\n",
       "56       7            0      14281.6     374125.5   Ljubljana           Vienna\n",
       "64       8            0      32903.3     848738.2        Bern           Vienna\n",
       "\n",
       "[72 rows x 6 columns]"
      ]
     },
     "execution_count": 149,
     "metadata": {},
     "output_type": "execute_result"
    }
   ],
   "source": [
    "distances_df = distances_df.merge(ce_cities[[\"capital\"]], left_on = \"origin\", right_index=True).rename(columns={\"capital\":\"origin_name\"})\n",
    "distances_df = distances_df.merge(ce_cities[[\"capital\"]], left_on = \"destination\", right_index=True).rename(columns={\"capital\":\"destination_name\"})\n",
    "distances_df"
   ]
  },
  {
   "cell_type": "markdown",
   "metadata": {},
   "source": [
    "### Gezgin Satıcı Problemi Genetik Algoritma Uygulama Aşaması"
   ]
  },
  {
   "cell_type": "markdown",
   "metadata": {},
   "source": [
    "Bir parametreye dayalı bir nokta liste arasındaki en uygun rotayı bulmak için Gezgin Satıcı Problemini kullanıyoruz."
   ]
  },
  {
   "cell_type": "markdown",
   "metadata": {},
   "source": [
    "Gezgin Satıcı en az çabayla tüm noktaları ziyaret etmek ister."
   ]
  },
  {
   "cell_type": "code",
   "execution_count": 150,
   "metadata": {},
   "outputs": [],
   "source": [
    "\n",
    "# 9 şehre ziyaret planlıyoruz.\n",
    "length = ce_cities.shape[0]"
   ]
  },
  {
   "cell_type": "markdown",
   "metadata": {},
   "source": [
    "Mesafeler listesini kullanmayı planlıyoruz (bizim durumumuzdaki süreler), bu yüzden mesafeler = dist_list param ile başlatıyoruz. Örneğin. 0 ile 1. yer arasındaki mesafe 13949.0 saniye --> (0,1,13949,0)"
   ]
  },
  {
   "cell_type": "code",
   "execution_count": 152,
   "metadata": {},
   "outputs": [
    {
     "data": {
      "text/plain": [
       "[(0, 1, 13485.7),\n",
       " (0, 2, 26971.),\n",
       " (0, 3, 9627.4),\n",
       " (0, 4, 24179.8),\n",
       " (0, 5, 29590.6),\n",
       " '...',\n",
       " (8, 3, 42033.8),\n",
       " (8, 4, 10012.4),\n",
       " (8, 5, 52620.7),\n",
       " (8, 6, 35890.9),\n",
       " (8, 7, 32892.6)]"
      ]
     },
     "execution_count": 152,
     "metadata": {},
     "output_type": "execute_result"
    }
   ],
   "source": [
    "# dataframe'in ilk üç sütununu tuples listesine çeviriyoruz\n",
    "dist_list = list(distances_df[[\"origin\",\"destination\",\"duration(s)\"]].sort_values(by=[\"origin\",\"destination\"]).to_records(index=False))\n",
    "dist_list[:5] + [\"...\"] + dist_list[-5:]"
   ]
  },
  {
   "cell_type": "code",
   "execution_count": 153,
   "metadata": {},
   "outputs": [],
   "source": [
    "\n",
    "# mesafeler listesini kullanmayı planlıyoruz (bizim durumumuzda süreler), bu yüzden `distances = dist list` parametresiyle başlatıyoruz.\n",
    "fitness_dists = mlrose.TravellingSales(distances = dist_array)"
   ]
  },
  {
   "cell_type": "code",
   "execution_count": 154,
   "metadata": {},
   "outputs": [],
   "source": [
    "problem_fit = mlrose.TSPOpt(length = length, fitness_fn = fitness_dists,\n",
    "                            maximize=False)"
   ]
  },
  {
   "cell_type": "code",
   "execution_count": 155,
   "metadata": {},
   "outputs": [
    {
     "data": {
      "text/plain": [
       "(array([5, 0, 6, 3, 7, 4, 8, 1, 2]), 157848.0)"
      ]
     },
     "execution_count": 155,
     "metadata": {},
     "output_type": "execute_result"
    }
   ],
   "source": [
    "\n",
    "mlrose.genetic_alg(problem_fit, random_state = 2)"
   ]
  },
  {
   "cell_type": "code",
   "execution_count": 156,
   "metadata": {},
   "outputs": [],
   "source": [
    "\n",
    "# Genetik algoritmayı kullanarak işlem yapıyoruz\n",
    "best_state, best_fitness = mlrose.genetic_alg(problem_fit, random_state = 2)"
   ]
  },
  {
   "cell_type": "code",
   "execution_count": 157,
   "metadata": {},
   "outputs": [
    {
     "name": "stdout",
     "output_type": "stream",
     "text": [
      "The best state found is: [5 0 6 3 7 4 8 1 2], taking 157848.0 (1 day, 19:50:48)\n"
     ]
    }
   ],
   "source": [
    "print(f\"The best state found is: {best_state}, taking {best_fitness} ({str(datetime.timedelta(seconds=best_fitness))})\")"
   ]
  },
  {
   "cell_type": "code",
   "execution_count": 158,
   "metadata": {},
   "outputs": [],
   "source": [
    "\n",
    "# iyi ama daha fazla yoğun çözümler için\n",
    "best_state, best_fitness = mlrose.genetic_alg(problem_fit, mutation_prob = 0.2,  max_attempts = 500, random_state = 2)"
   ]
  },
  {
   "cell_type": "code",
   "execution_count": 159,
   "metadata": {},
   "outputs": [
    {
     "name": "stdout",
     "output_type": "stream",
     "text": [
      "The best state found is: [6 3 7 4 8 1 2 5 0], taking 157848.0 (1 day, 19:50:48)\n"
     ]
    }
   ],
   "source": [
    "print(f\"The best state found is: {best_state}, taking {best_fitness} ({str(datetime.timedelta(seconds=best_fitness))})\")"
   ]
  },
  {
   "cell_type": "markdown",
   "metadata": {},
   "source": [
    "best_state, ziyaret edilecek yerlerin sırasını içerir. Görmek için şehirler listemize, onları ziyaret edebileceğimiz sıraya eşleyelim."
   ]
  },
  {
   "cell_type": "code",
   "execution_count": 160,
   "metadata": {},
   "outputs": [
    {
     "data": {
      "text/plain": [
       "{6: 0, 3: 1, 7: 2, 4: 3, 8: 4, 1: 5, 2: 6, 5: 7, 0: 8}"
      ]
     },
     "execution_count": 160,
     "metadata": {},
     "output_type": "execute_result"
    }
   ],
   "source": [
    "orders = {city: order for order, city in enumerate(best_state)}\n",
    "orders"
   ]
  },
  {
   "cell_type": "code",
   "execution_count": 162,
   "metadata": {},
   "outputs": [
    {
     "data": {
      "text/html": [
       "<div>\n",
       "<style scoped>\n",
       "    .dataframe tbody tr th:only-of-type {\n",
       "        vertical-align: middle;\n",
       "    }\n",
       "\n",
       "    .dataframe tbody tr th {\n",
       "        vertical-align: top;\n",
       "    }\n",
       "\n",
       "    .dataframe thead th {\n",
       "        text-align: right;\n",
       "    }\n",
       "</style>\n",
       "<table border=\"1\" class=\"dataframe\">\n",
       "  <thead>\n",
       "    <tr style=\"text-align: right;\">\n",
       "      <th></th>\n",
       "      <th>Country</th>\n",
       "      <th>capital</th>\n",
       "      <th>lat</th>\n",
       "      <th>lon</th>\n",
       "      <th>code</th>\n",
       "      <th>continent</th>\n",
       "      <th>order</th>\n",
       "    </tr>\n",
       "  </thead>\n",
       "  <tbody>\n",
       "    <tr>\n",
       "      <th>6</th>\n",
       "      <td>Slovakia</td>\n",
       "      <td>Bratislava</td>\n",
       "      <td>48.150000</td>\n",
       "      <td>17.116667</td>\n",
       "      <td>SK</td>\n",
       "      <td>Europe</td>\n",
       "      <td>0</td>\n",
       "    </tr>\n",
       "    <tr>\n",
       "      <th>3</th>\n",
       "      <td>Hungary</td>\n",
       "      <td>Budapest</td>\n",
       "      <td>47.500000</td>\n",
       "      <td>19.083333</td>\n",
       "      <td>HU</td>\n",
       "      <td>Europe</td>\n",
       "      <td>1</td>\n",
       "    </tr>\n",
       "    <tr>\n",
       "      <th>7</th>\n",
       "      <td>Slovenia</td>\n",
       "      <td>Ljubljana</td>\n",
       "      <td>46.050000</td>\n",
       "      <td>14.516667</td>\n",
       "      <td>SI</td>\n",
       "      <td>Europe</td>\n",
       "      <td>2</td>\n",
       "    </tr>\n",
       "    <tr>\n",
       "      <th>4</th>\n",
       "      <td>Liechtenstein</td>\n",
       "      <td>Vaduz</td>\n",
       "      <td>47.133333</td>\n",
       "      <td>9.516667</td>\n",
       "      <td>LI</td>\n",
       "      <td>Europe</td>\n",
       "      <td>3</td>\n",
       "    </tr>\n",
       "    <tr>\n",
       "      <th>8</th>\n",
       "      <td>Switzerland</td>\n",
       "      <td>Bern</td>\n",
       "      <td>46.916667</td>\n",
       "      <td>7.466667</td>\n",
       "      <td>CH</td>\n",
       "      <td>Europe</td>\n",
       "      <td>4</td>\n",
       "    </tr>\n",
       "    <tr>\n",
       "      <th>1</th>\n",
       "      <td>Czech Republic</td>\n",
       "      <td>Prague</td>\n",
       "      <td>50.083333</td>\n",
       "      <td>14.466667</td>\n",
       "      <td>CZ</td>\n",
       "      <td>Europe</td>\n",
       "      <td>5</td>\n",
       "    </tr>\n",
       "    <tr>\n",
       "      <th>2</th>\n",
       "      <td>Germany</td>\n",
       "      <td>Berlin</td>\n",
       "      <td>52.516667</td>\n",
       "      <td>13.400000</td>\n",
       "      <td>DE</td>\n",
       "      <td>Europe</td>\n",
       "      <td>6</td>\n",
       "    </tr>\n",
       "    <tr>\n",
       "      <th>5</th>\n",
       "      <td>Poland</td>\n",
       "      <td>Warsaw</td>\n",
       "      <td>52.250000</td>\n",
       "      <td>21.000000</td>\n",
       "      <td>PL</td>\n",
       "      <td>Europe</td>\n",
       "      <td>7</td>\n",
       "    </tr>\n",
       "    <tr>\n",
       "      <th>0</th>\n",
       "      <td>Austria</td>\n",
       "      <td>Vienna</td>\n",
       "      <td>48.200000</td>\n",
       "      <td>16.366667</td>\n",
       "      <td>AT</td>\n",
       "      <td>Europe</td>\n",
       "      <td>8</td>\n",
       "    </tr>\n",
       "  </tbody>\n",
       "</table>\n",
       "</div>"
      ],
      "text/plain": [
       "          Country     capital        lat        lon code continent  order\n",
       "6        Slovakia  Bratislava  48.150000  17.116667   SK    Europe      0\n",
       "3         Hungary    Budapest  47.500000  19.083333   HU    Europe      1\n",
       "7        Slovenia   Ljubljana  46.050000  14.516667   SI    Europe      2\n",
       "4   Liechtenstein       Vaduz  47.133333   9.516667   LI    Europe      3\n",
       "8     Switzerland        Bern  46.916667   7.466667   CH    Europe      4\n",
       "1  Czech Republic      Prague  50.083333  14.466667   CZ    Europe      5\n",
       "2         Germany      Berlin  52.516667  13.400000   DE    Europe      6\n",
       "5          Poland      Warsaw  52.250000  21.000000   PL    Europe      7\n",
       "0         Austria      Vienna  48.200000  16.366667   AT    Europe      8"
      ]
     },
     "execution_count": 162,
     "metadata": {},
     "output_type": "execute_result"
    }
   ],
   "source": [
    "ce_cities[\"order\"] = ce_cities.index.map(orders)\n",
    "ce_cities = ce_cities.sort_values(by=\"order\")\n",
    "ce_cities"
   ]
  },
  {
   "cell_type": "markdown",
   "metadata": {},
   "source": [
    "Mesafenin gerçekten best_fitness olduğunu onaylayalım. Sıraya bağlı olarak next_city sütununu ekleyeceğiz ve özellikle son şehri  == 0 (veya minimum ) ile takip eden son şehri ele alacağız."
   ]
  },
  {
   "cell_type": "code",
   "execution_count": 163,
   "metadata": {},
   "outputs": [
    {
     "data": {
      "text/html": [
       "<div>\n",
       "<style scoped>\n",
       "    .dataframe tbody tr th:only-of-type {\n",
       "        vertical-align: middle;\n",
       "    }\n",
       "\n",
       "    .dataframe tbody tr th {\n",
       "        vertical-align: top;\n",
       "    }\n",
       "\n",
       "    .dataframe thead th {\n",
       "        text-align: right;\n",
       "    }\n",
       "</style>\n",
       "<table border=\"1\" class=\"dataframe\">\n",
       "  <thead>\n",
       "    <tr style=\"text-align: right;\">\n",
       "      <th></th>\n",
       "      <th>Country</th>\n",
       "      <th>capital</th>\n",
       "      <th>lat</th>\n",
       "      <th>lon</th>\n",
       "      <th>code</th>\n",
       "      <th>continent</th>\n",
       "      <th>order</th>\n",
       "      <th>next_city</th>\n",
       "    </tr>\n",
       "  </thead>\n",
       "  <tbody>\n",
       "    <tr>\n",
       "      <th>6</th>\n",
       "      <td>Slovakia</td>\n",
       "      <td>Bratislava</td>\n",
       "      <td>48.150000</td>\n",
       "      <td>17.116667</td>\n",
       "      <td>SK</td>\n",
       "      <td>Europe</td>\n",
       "      <td>0</td>\n",
       "      <td>Budapest</td>\n",
       "    </tr>\n",
       "    <tr>\n",
       "      <th>3</th>\n",
       "      <td>Hungary</td>\n",
       "      <td>Budapest</td>\n",
       "      <td>47.500000</td>\n",
       "      <td>19.083333</td>\n",
       "      <td>HU</td>\n",
       "      <td>Europe</td>\n",
       "      <td>1</td>\n",
       "      <td>Ljubljana</td>\n",
       "    </tr>\n",
       "    <tr>\n",
       "      <th>7</th>\n",
       "      <td>Slovenia</td>\n",
       "      <td>Ljubljana</td>\n",
       "      <td>46.050000</td>\n",
       "      <td>14.516667</td>\n",
       "      <td>SI</td>\n",
       "      <td>Europe</td>\n",
       "      <td>2</td>\n",
       "      <td>Vaduz</td>\n",
       "    </tr>\n",
       "    <tr>\n",
       "      <th>4</th>\n",
       "      <td>Liechtenstein</td>\n",
       "      <td>Vaduz</td>\n",
       "      <td>47.133333</td>\n",
       "      <td>9.516667</td>\n",
       "      <td>LI</td>\n",
       "      <td>Europe</td>\n",
       "      <td>3</td>\n",
       "      <td>Bern</td>\n",
       "    </tr>\n",
       "    <tr>\n",
       "      <th>8</th>\n",
       "      <td>Switzerland</td>\n",
       "      <td>Bern</td>\n",
       "      <td>46.916667</td>\n",
       "      <td>7.466667</td>\n",
       "      <td>CH</td>\n",
       "      <td>Europe</td>\n",
       "      <td>4</td>\n",
       "      <td>Prague</td>\n",
       "    </tr>\n",
       "    <tr>\n",
       "      <th>1</th>\n",
       "      <td>Czech Republic</td>\n",
       "      <td>Prague</td>\n",
       "      <td>50.083333</td>\n",
       "      <td>14.466667</td>\n",
       "      <td>CZ</td>\n",
       "      <td>Europe</td>\n",
       "      <td>5</td>\n",
       "      <td>Berlin</td>\n",
       "    </tr>\n",
       "    <tr>\n",
       "      <th>2</th>\n",
       "      <td>Germany</td>\n",
       "      <td>Berlin</td>\n",
       "      <td>52.516667</td>\n",
       "      <td>13.400000</td>\n",
       "      <td>DE</td>\n",
       "      <td>Europe</td>\n",
       "      <td>6</td>\n",
       "      <td>Warsaw</td>\n",
       "    </tr>\n",
       "    <tr>\n",
       "      <th>5</th>\n",
       "      <td>Poland</td>\n",
       "      <td>Warsaw</td>\n",
       "      <td>52.250000</td>\n",
       "      <td>21.000000</td>\n",
       "      <td>PL</td>\n",
       "      <td>Europe</td>\n",
       "      <td>7</td>\n",
       "      <td>Vienna</td>\n",
       "    </tr>\n",
       "    <tr>\n",
       "      <th>0</th>\n",
       "      <td>Austria</td>\n",
       "      <td>Vienna</td>\n",
       "      <td>48.200000</td>\n",
       "      <td>16.366667</td>\n",
       "      <td>AT</td>\n",
       "      <td>Europe</td>\n",
       "      <td>8</td>\n",
       "      <td>Bratislava</td>\n",
       "    </tr>\n",
       "  </tbody>\n",
       "</table>\n",
       "</div>"
      ],
      "text/plain": [
       "          Country     capital        lat        lon code continent  order  \\\n",
       "6        Slovakia  Bratislava  48.150000  17.116667   SK    Europe      0   \n",
       "3         Hungary    Budapest  47.500000  19.083333   HU    Europe      1   \n",
       "7        Slovenia   Ljubljana  46.050000  14.516667   SI    Europe      2   \n",
       "4   Liechtenstein       Vaduz  47.133333   9.516667   LI    Europe      3   \n",
       "8     Switzerland        Bern  46.916667   7.466667   CH    Europe      4   \n",
       "1  Czech Republic      Prague  50.083333  14.466667   CZ    Europe      5   \n",
       "2         Germany      Berlin  52.516667  13.400000   DE    Europe      6   \n",
       "5          Poland      Warsaw  52.250000  21.000000   PL    Europe      7   \n",
       "0         Austria      Vienna  48.200000  16.366667   AT    Europe      8   \n",
       "\n",
       "    next_city  \n",
       "6    Budapest  \n",
       "3   Ljubljana  \n",
       "7       Vaduz  \n",
       "4        Bern  \n",
       "8      Prague  \n",
       "1      Berlin  \n",
       "2      Warsaw  \n",
       "5      Vienna  \n",
       "0  Bratislava  "
      ]
     },
     "execution_count": 163,
     "metadata": {},
     "output_type": "execute_result"
    }
   ],
   "source": [
    "ce_cities[\"next_city\"] = ce_cities[\"capital\"].shift(-1)\n",
    "\n",
    "# son bağlantı, son şehir ile ilk şehir arasında\n",
    "ce_cities.loc[ce_cities[\"order\"] == max(ce_cities[\"order\"]), \"next_city\"] = ce_cities.loc[ce_cities[\"order\"] == min(ce_cities[\"order\"]), \"capital\"].values[0]\n",
    "ce_cities"
   ]
  },
  {
   "cell_type": "markdown",
   "metadata": {},
   "source": [
    "Sonra mesafeleri Distance_df'den saniyeler içinde birleştiriyoruz"
   ]
  },
  {
   "cell_type": "code",
   "execution_count": 164,
   "metadata": {},
   "outputs": [],
   "source": [
    "ordered_ce_cities = ce_cities.merge(distances_df[[\"origin_name\",\"destination_name\",\"duration(s)\"]], left_on=[\"capital\",\"next_city\"], right_on=[\"origin_name\",\"destination_name\"], how=\"left\")"
   ]
  },
  {
   "cell_type": "code",
   "execution_count": 165,
   "metadata": {},
   "outputs": [
    {
     "data": {
      "text/html": [
       "<div>\n",
       "<style scoped>\n",
       "    .dataframe tbody tr th:only-of-type {\n",
       "        vertical-align: middle;\n",
       "    }\n",
       "\n",
       "    .dataframe tbody tr th {\n",
       "        vertical-align: top;\n",
       "    }\n",
       "\n",
       "    .dataframe thead th {\n",
       "        text-align: right;\n",
       "    }\n",
       "</style>\n",
       "<table border=\"1\" class=\"dataframe\">\n",
       "  <thead>\n",
       "    <tr style=\"text-align: right;\">\n",
       "      <th></th>\n",
       "      <th>Country</th>\n",
       "      <th>capital</th>\n",
       "      <th>lat</th>\n",
       "      <th>lon</th>\n",
       "      <th>code</th>\n",
       "      <th>continent</th>\n",
       "      <th>order</th>\n",
       "      <th>next_city</th>\n",
       "      <th>origin_name</th>\n",
       "      <th>destination_name</th>\n",
       "      <th>duration(s)</th>\n",
       "    </tr>\n",
       "  </thead>\n",
       "  <tbody>\n",
       "    <tr>\n",
       "      <th>0</th>\n",
       "      <td>Slovakia</td>\n",
       "      <td>Bratislava</td>\n",
       "      <td>48.150000</td>\n",
       "      <td>17.116667</td>\n",
       "      <td>SK</td>\n",
       "      <td>Europe</td>\n",
       "      <td>0</td>\n",
       "      <td>Budapest</td>\n",
       "      <td>Bratislava</td>\n",
       "      <td>Budapest</td>\n",
       "      <td>7913.2</td>\n",
       "    </tr>\n",
       "    <tr>\n",
       "      <th>1</th>\n",
       "      <td>Hungary</td>\n",
       "      <td>Budapest</td>\n",
       "      <td>47.500000</td>\n",
       "      <td>19.083333</td>\n",
       "      <td>HU</td>\n",
       "      <td>Europe</td>\n",
       "      <td>1</td>\n",
       "      <td>Ljubljana</td>\n",
       "      <td>Budapest</td>\n",
       "      <td>Ljubljana</td>\n",
       "      <td>17602.4</td>\n",
       "    </tr>\n",
       "    <tr>\n",
       "      <th>2</th>\n",
       "      <td>Slovenia</td>\n",
       "      <td>Ljubljana</td>\n",
       "      <td>46.050000</td>\n",
       "      <td>14.516667</td>\n",
       "      <td>SI</td>\n",
       "      <td>Europe</td>\n",
       "      <td>2</td>\n",
       "      <td>Vaduz</td>\n",
       "      <td>Ljubljana</td>\n",
       "      <td>Vaduz</td>\n",
       "      <td>25030.4</td>\n",
       "    </tr>\n",
       "    <tr>\n",
       "      <th>3</th>\n",
       "      <td>Liechtenstein</td>\n",
       "      <td>Vaduz</td>\n",
       "      <td>47.133333</td>\n",
       "      <td>9.516667</td>\n",
       "      <td>LI</td>\n",
       "      <td>Europe</td>\n",
       "      <td>3</td>\n",
       "      <td>Bern</td>\n",
       "      <td>Vaduz</td>\n",
       "      <td>Bern</td>\n",
       "      <td>10100.8</td>\n",
       "    </tr>\n",
       "    <tr>\n",
       "      <th>4</th>\n",
       "      <td>Switzerland</td>\n",
       "      <td>Bern</td>\n",
       "      <td>46.916667</td>\n",
       "      <td>7.466667</td>\n",
       "      <td>CH</td>\n",
       "      <td>Europe</td>\n",
       "      <td>4</td>\n",
       "      <td>Prague</td>\n",
       "      <td>Bern</td>\n",
       "      <td>Prague</td>\n",
       "      <td>30125.8</td>\n",
       "    </tr>\n",
       "    <tr>\n",
       "      <th>5</th>\n",
       "      <td>Czech Republic</td>\n",
       "      <td>Prague</td>\n",
       "      <td>50.083333</td>\n",
       "      <td>14.466667</td>\n",
       "      <td>CZ</td>\n",
       "      <td>Europe</td>\n",
       "      <td>5</td>\n",
       "      <td>Berlin</td>\n",
       "      <td>Prague</td>\n",
       "      <td>Berlin</td>\n",
       "      <td>13625.0</td>\n",
       "    </tr>\n",
       "    <tr>\n",
       "      <th>6</th>\n",
       "      <td>Germany</td>\n",
       "      <td>Berlin</td>\n",
       "      <td>52.516667</td>\n",
       "      <td>13.400000</td>\n",
       "      <td>DE</td>\n",
       "      <td>Europe</td>\n",
       "      <td>6</td>\n",
       "      <td>Warsaw</td>\n",
       "      <td>Berlin</td>\n",
       "      <td>Warsaw</td>\n",
       "      <td>20523.7</td>\n",
       "    </tr>\n",
       "    <tr>\n",
       "      <th>7</th>\n",
       "      <td>Poland</td>\n",
       "      <td>Warsaw</td>\n",
       "      <td>52.250000</td>\n",
       "      <td>21.000000</td>\n",
       "      <td>PL</td>\n",
       "      <td>Europe</td>\n",
       "      <td>7</td>\n",
       "      <td>Vienna</td>\n",
       "      <td>Warsaw</td>\n",
       "      <td>Vienna</td>\n",
       "      <td>29661.1</td>\n",
       "    </tr>\n",
       "    <tr>\n",
       "      <th>8</th>\n",
       "      <td>Austria</td>\n",
       "      <td>Vienna</td>\n",
       "      <td>48.200000</td>\n",
       "      <td>16.366667</td>\n",
       "      <td>AT</td>\n",
       "      <td>Europe</td>\n",
       "      <td>8</td>\n",
       "      <td>Bratislava</td>\n",
       "      <td>Vienna</td>\n",
       "      <td>Bratislava</td>\n",
       "      <td>3484.5</td>\n",
       "    </tr>\n",
       "  </tbody>\n",
       "</table>\n",
       "</div>"
      ],
      "text/plain": [
       "          Country     capital        lat        lon code continent  order  \\\n",
       "0        Slovakia  Bratislava  48.150000  17.116667   SK    Europe      0   \n",
       "1         Hungary    Budapest  47.500000  19.083333   HU    Europe      1   \n",
       "2        Slovenia   Ljubljana  46.050000  14.516667   SI    Europe      2   \n",
       "3   Liechtenstein       Vaduz  47.133333   9.516667   LI    Europe      3   \n",
       "4     Switzerland        Bern  46.916667   7.466667   CH    Europe      4   \n",
       "5  Czech Republic      Prague  50.083333  14.466667   CZ    Europe      5   \n",
       "6         Germany      Berlin  52.516667  13.400000   DE    Europe      6   \n",
       "7          Poland      Warsaw  52.250000  21.000000   PL    Europe      7   \n",
       "8         Austria      Vienna  48.200000  16.366667   AT    Europe      8   \n",
       "\n",
       "    next_city origin_name destination_name  duration(s)  \n",
       "0    Budapest  Bratislava         Budapest       7913.2  \n",
       "1   Ljubljana    Budapest        Ljubljana      17602.4  \n",
       "2       Vaduz   Ljubljana            Vaduz      25030.4  \n",
       "3        Bern       Vaduz             Bern      10100.8  \n",
       "4      Prague        Bern           Prague      30125.8  \n",
       "5      Berlin      Prague           Berlin      13625.0  \n",
       "6      Warsaw      Berlin           Warsaw      20523.7  \n",
       "7      Vienna      Warsaw           Vienna      29661.1  \n",
       "8  Bratislava      Vienna       Bratislava       3484.5  "
      ]
     },
     "execution_count": 165,
     "metadata": {},
     "output_type": "execute_result"
    }
   ],
   "source": [
    "\n",
    "ordered_ce_cities"
   ]
  },
  {
   "cell_type": "markdown",
   "metadata": {},
   "source": [
    "Bu mesafenin toplamının gerçekten, Gezgin Satıcı Probleminin best_fitness olarak tanımladığı şey olup olmadığını kontrol edelim."
   ]
  },
  {
   "cell_type": "code",
   "execution_count": 166,
   "metadata": {},
   "outputs": [
    {
     "data": {
      "text/plain": [
       "158066.90000000002"
      ]
     },
     "execution_count": 166,
     "metadata": {},
     "output_type": "execute_result"
    }
   ],
   "source": [
    "ordered_ce_cities[\"duration(s)\"].sum()"
   ]
  },
  {
   "cell_type": "markdown",
   "metadata": {},
   "source": [
    "Rota döngüsel olduğu için başkentlerin herhangi birinden başlayabiliriz. Minimum seyahat süresini elde etmek için, en uzun sürenin takip ettiği şehirde bitirilebilir."
   ]
  },
  {
   "cell_type": "code",
   "execution_count": 167,
   "metadata": {},
   "outputs": [
    {
     "data": {
      "text/plain": [
       "30125.8"
      ]
     },
     "execution_count": 167,
     "metadata": {},
     "output_type": "execute_result"
    }
   ],
   "source": [
    "ordered_ce_cities[\"duration(s)\"].max()"
   ]
  },
  {
   "cell_type": "code",
   "execution_count": 168,
   "metadata": {},
   "outputs": [
    {
     "data": {
      "text/plain": [
       "3484.5"
      ]
     },
     "execution_count": 168,
     "metadata": {},
     "output_type": "execute_result"
    }
   ],
   "source": [
    "ordered_ce_cities[\"duration(s)\"].min()"
   ]
  },
  {
   "cell_type": "code",
   "execution_count": 169,
   "metadata": {},
   "outputs": [
    {
     "data": {
      "text/html": [
       "<style  type=\"text/css\" >\n",
       "#T_4ccd336e_c131_11eb_8c7c_54bef7640f59row4_col10{\n",
       "            background-color:  red;\n",
       "        }</style><table id=\"T_4ccd336e_c131_11eb_8c7c_54bef7640f59\" ><thead>    <tr>        <th class=\"blank level0\" ></th>        <th class=\"col_heading level0 col0\" >Country</th>        <th class=\"col_heading level0 col1\" >capital</th>        <th class=\"col_heading level0 col2\" >lat</th>        <th class=\"col_heading level0 col3\" >lon</th>        <th class=\"col_heading level0 col4\" >code</th>        <th class=\"col_heading level0 col5\" >continent</th>        <th class=\"col_heading level0 col6\" >order</th>        <th class=\"col_heading level0 col7\" >next_city</th>        <th class=\"col_heading level0 col8\" >origin_name</th>        <th class=\"col_heading level0 col9\" >destination_name</th>        <th class=\"col_heading level0 col10\" >duration(s)</th>    </tr></thead><tbody>\n",
       "                <tr>\n",
       "                        <th id=\"T_4ccd336e_c131_11eb_8c7c_54bef7640f59level0_row0\" class=\"row_heading level0 row0\" >0</th>\n",
       "                        <td id=\"T_4ccd336e_c131_11eb_8c7c_54bef7640f59row0_col0\" class=\"data row0 col0\" >Slovakia</td>\n",
       "                        <td id=\"T_4ccd336e_c131_11eb_8c7c_54bef7640f59row0_col1\" class=\"data row0 col1\" >Bratislava</td>\n",
       "                        <td id=\"T_4ccd336e_c131_11eb_8c7c_54bef7640f59row0_col2\" class=\"data row0 col2\" >48.150000</td>\n",
       "                        <td id=\"T_4ccd336e_c131_11eb_8c7c_54bef7640f59row0_col3\" class=\"data row0 col3\" >17.116667</td>\n",
       "                        <td id=\"T_4ccd336e_c131_11eb_8c7c_54bef7640f59row0_col4\" class=\"data row0 col4\" >SK</td>\n",
       "                        <td id=\"T_4ccd336e_c131_11eb_8c7c_54bef7640f59row0_col5\" class=\"data row0 col5\" >Europe</td>\n",
       "                        <td id=\"T_4ccd336e_c131_11eb_8c7c_54bef7640f59row0_col6\" class=\"data row0 col6\" >0</td>\n",
       "                        <td id=\"T_4ccd336e_c131_11eb_8c7c_54bef7640f59row0_col7\" class=\"data row0 col7\" >Budapest</td>\n",
       "                        <td id=\"T_4ccd336e_c131_11eb_8c7c_54bef7640f59row0_col8\" class=\"data row0 col8\" >Bratislava</td>\n",
       "                        <td id=\"T_4ccd336e_c131_11eb_8c7c_54bef7640f59row0_col9\" class=\"data row0 col9\" >Budapest</td>\n",
       "                        <td id=\"T_4ccd336e_c131_11eb_8c7c_54bef7640f59row0_col10\" class=\"data row0 col10\" >7913.200000</td>\n",
       "            </tr>\n",
       "            <tr>\n",
       "                        <th id=\"T_4ccd336e_c131_11eb_8c7c_54bef7640f59level0_row1\" class=\"row_heading level0 row1\" >1</th>\n",
       "                        <td id=\"T_4ccd336e_c131_11eb_8c7c_54bef7640f59row1_col0\" class=\"data row1 col0\" >Hungary</td>\n",
       "                        <td id=\"T_4ccd336e_c131_11eb_8c7c_54bef7640f59row1_col1\" class=\"data row1 col1\" >Budapest</td>\n",
       "                        <td id=\"T_4ccd336e_c131_11eb_8c7c_54bef7640f59row1_col2\" class=\"data row1 col2\" >47.500000</td>\n",
       "                        <td id=\"T_4ccd336e_c131_11eb_8c7c_54bef7640f59row1_col3\" class=\"data row1 col3\" >19.083333</td>\n",
       "                        <td id=\"T_4ccd336e_c131_11eb_8c7c_54bef7640f59row1_col4\" class=\"data row1 col4\" >HU</td>\n",
       "                        <td id=\"T_4ccd336e_c131_11eb_8c7c_54bef7640f59row1_col5\" class=\"data row1 col5\" >Europe</td>\n",
       "                        <td id=\"T_4ccd336e_c131_11eb_8c7c_54bef7640f59row1_col6\" class=\"data row1 col6\" >1</td>\n",
       "                        <td id=\"T_4ccd336e_c131_11eb_8c7c_54bef7640f59row1_col7\" class=\"data row1 col7\" >Ljubljana</td>\n",
       "                        <td id=\"T_4ccd336e_c131_11eb_8c7c_54bef7640f59row1_col8\" class=\"data row1 col8\" >Budapest</td>\n",
       "                        <td id=\"T_4ccd336e_c131_11eb_8c7c_54bef7640f59row1_col9\" class=\"data row1 col9\" >Ljubljana</td>\n",
       "                        <td id=\"T_4ccd336e_c131_11eb_8c7c_54bef7640f59row1_col10\" class=\"data row1 col10\" >17602.400000</td>\n",
       "            </tr>\n",
       "            <tr>\n",
       "                        <th id=\"T_4ccd336e_c131_11eb_8c7c_54bef7640f59level0_row2\" class=\"row_heading level0 row2\" >2</th>\n",
       "                        <td id=\"T_4ccd336e_c131_11eb_8c7c_54bef7640f59row2_col0\" class=\"data row2 col0\" >Slovenia</td>\n",
       "                        <td id=\"T_4ccd336e_c131_11eb_8c7c_54bef7640f59row2_col1\" class=\"data row2 col1\" >Ljubljana</td>\n",
       "                        <td id=\"T_4ccd336e_c131_11eb_8c7c_54bef7640f59row2_col2\" class=\"data row2 col2\" >46.050000</td>\n",
       "                        <td id=\"T_4ccd336e_c131_11eb_8c7c_54bef7640f59row2_col3\" class=\"data row2 col3\" >14.516667</td>\n",
       "                        <td id=\"T_4ccd336e_c131_11eb_8c7c_54bef7640f59row2_col4\" class=\"data row2 col4\" >SI</td>\n",
       "                        <td id=\"T_4ccd336e_c131_11eb_8c7c_54bef7640f59row2_col5\" class=\"data row2 col5\" >Europe</td>\n",
       "                        <td id=\"T_4ccd336e_c131_11eb_8c7c_54bef7640f59row2_col6\" class=\"data row2 col6\" >2</td>\n",
       "                        <td id=\"T_4ccd336e_c131_11eb_8c7c_54bef7640f59row2_col7\" class=\"data row2 col7\" >Vaduz</td>\n",
       "                        <td id=\"T_4ccd336e_c131_11eb_8c7c_54bef7640f59row2_col8\" class=\"data row2 col8\" >Ljubljana</td>\n",
       "                        <td id=\"T_4ccd336e_c131_11eb_8c7c_54bef7640f59row2_col9\" class=\"data row2 col9\" >Vaduz</td>\n",
       "                        <td id=\"T_4ccd336e_c131_11eb_8c7c_54bef7640f59row2_col10\" class=\"data row2 col10\" >25030.400000</td>\n",
       "            </tr>\n",
       "            <tr>\n",
       "                        <th id=\"T_4ccd336e_c131_11eb_8c7c_54bef7640f59level0_row3\" class=\"row_heading level0 row3\" >3</th>\n",
       "                        <td id=\"T_4ccd336e_c131_11eb_8c7c_54bef7640f59row3_col0\" class=\"data row3 col0\" >Liechtenstein</td>\n",
       "                        <td id=\"T_4ccd336e_c131_11eb_8c7c_54bef7640f59row3_col1\" class=\"data row3 col1\" >Vaduz</td>\n",
       "                        <td id=\"T_4ccd336e_c131_11eb_8c7c_54bef7640f59row3_col2\" class=\"data row3 col2\" >47.133333</td>\n",
       "                        <td id=\"T_4ccd336e_c131_11eb_8c7c_54bef7640f59row3_col3\" class=\"data row3 col3\" >9.516667</td>\n",
       "                        <td id=\"T_4ccd336e_c131_11eb_8c7c_54bef7640f59row3_col4\" class=\"data row3 col4\" >LI</td>\n",
       "                        <td id=\"T_4ccd336e_c131_11eb_8c7c_54bef7640f59row3_col5\" class=\"data row3 col5\" >Europe</td>\n",
       "                        <td id=\"T_4ccd336e_c131_11eb_8c7c_54bef7640f59row3_col6\" class=\"data row3 col6\" >3</td>\n",
       "                        <td id=\"T_4ccd336e_c131_11eb_8c7c_54bef7640f59row3_col7\" class=\"data row3 col7\" >Bern</td>\n",
       "                        <td id=\"T_4ccd336e_c131_11eb_8c7c_54bef7640f59row3_col8\" class=\"data row3 col8\" >Vaduz</td>\n",
       "                        <td id=\"T_4ccd336e_c131_11eb_8c7c_54bef7640f59row3_col9\" class=\"data row3 col9\" >Bern</td>\n",
       "                        <td id=\"T_4ccd336e_c131_11eb_8c7c_54bef7640f59row3_col10\" class=\"data row3 col10\" >10100.800000</td>\n",
       "            </tr>\n",
       "            <tr>\n",
       "                        <th id=\"T_4ccd336e_c131_11eb_8c7c_54bef7640f59level0_row4\" class=\"row_heading level0 row4\" >4</th>\n",
       "                        <td id=\"T_4ccd336e_c131_11eb_8c7c_54bef7640f59row4_col0\" class=\"data row4 col0\" >Switzerland</td>\n",
       "                        <td id=\"T_4ccd336e_c131_11eb_8c7c_54bef7640f59row4_col1\" class=\"data row4 col1\" >Bern</td>\n",
       "                        <td id=\"T_4ccd336e_c131_11eb_8c7c_54bef7640f59row4_col2\" class=\"data row4 col2\" >46.916667</td>\n",
       "                        <td id=\"T_4ccd336e_c131_11eb_8c7c_54bef7640f59row4_col3\" class=\"data row4 col3\" >7.466667</td>\n",
       "                        <td id=\"T_4ccd336e_c131_11eb_8c7c_54bef7640f59row4_col4\" class=\"data row4 col4\" >CH</td>\n",
       "                        <td id=\"T_4ccd336e_c131_11eb_8c7c_54bef7640f59row4_col5\" class=\"data row4 col5\" >Europe</td>\n",
       "                        <td id=\"T_4ccd336e_c131_11eb_8c7c_54bef7640f59row4_col6\" class=\"data row4 col6\" >4</td>\n",
       "                        <td id=\"T_4ccd336e_c131_11eb_8c7c_54bef7640f59row4_col7\" class=\"data row4 col7\" >Prague</td>\n",
       "                        <td id=\"T_4ccd336e_c131_11eb_8c7c_54bef7640f59row4_col8\" class=\"data row4 col8\" >Bern</td>\n",
       "                        <td id=\"T_4ccd336e_c131_11eb_8c7c_54bef7640f59row4_col9\" class=\"data row4 col9\" >Prague</td>\n",
       "                        <td id=\"T_4ccd336e_c131_11eb_8c7c_54bef7640f59row4_col10\" class=\"data row4 col10\" >30125.800000</td>\n",
       "            </tr>\n",
       "            <tr>\n",
       "                        <th id=\"T_4ccd336e_c131_11eb_8c7c_54bef7640f59level0_row5\" class=\"row_heading level0 row5\" >5</th>\n",
       "                        <td id=\"T_4ccd336e_c131_11eb_8c7c_54bef7640f59row5_col0\" class=\"data row5 col0\" >Czech Republic</td>\n",
       "                        <td id=\"T_4ccd336e_c131_11eb_8c7c_54bef7640f59row5_col1\" class=\"data row5 col1\" >Prague</td>\n",
       "                        <td id=\"T_4ccd336e_c131_11eb_8c7c_54bef7640f59row5_col2\" class=\"data row5 col2\" >50.083333</td>\n",
       "                        <td id=\"T_4ccd336e_c131_11eb_8c7c_54bef7640f59row5_col3\" class=\"data row5 col3\" >14.466667</td>\n",
       "                        <td id=\"T_4ccd336e_c131_11eb_8c7c_54bef7640f59row5_col4\" class=\"data row5 col4\" >CZ</td>\n",
       "                        <td id=\"T_4ccd336e_c131_11eb_8c7c_54bef7640f59row5_col5\" class=\"data row5 col5\" >Europe</td>\n",
       "                        <td id=\"T_4ccd336e_c131_11eb_8c7c_54bef7640f59row5_col6\" class=\"data row5 col6\" >5</td>\n",
       "                        <td id=\"T_4ccd336e_c131_11eb_8c7c_54bef7640f59row5_col7\" class=\"data row5 col7\" >Berlin</td>\n",
       "                        <td id=\"T_4ccd336e_c131_11eb_8c7c_54bef7640f59row5_col8\" class=\"data row5 col8\" >Prague</td>\n",
       "                        <td id=\"T_4ccd336e_c131_11eb_8c7c_54bef7640f59row5_col9\" class=\"data row5 col9\" >Berlin</td>\n",
       "                        <td id=\"T_4ccd336e_c131_11eb_8c7c_54bef7640f59row5_col10\" class=\"data row5 col10\" >13625.000000</td>\n",
       "            </tr>\n",
       "            <tr>\n",
       "                        <th id=\"T_4ccd336e_c131_11eb_8c7c_54bef7640f59level0_row6\" class=\"row_heading level0 row6\" >6</th>\n",
       "                        <td id=\"T_4ccd336e_c131_11eb_8c7c_54bef7640f59row6_col0\" class=\"data row6 col0\" >Germany</td>\n",
       "                        <td id=\"T_4ccd336e_c131_11eb_8c7c_54bef7640f59row6_col1\" class=\"data row6 col1\" >Berlin</td>\n",
       "                        <td id=\"T_4ccd336e_c131_11eb_8c7c_54bef7640f59row6_col2\" class=\"data row6 col2\" >52.516667</td>\n",
       "                        <td id=\"T_4ccd336e_c131_11eb_8c7c_54bef7640f59row6_col3\" class=\"data row6 col3\" >13.400000</td>\n",
       "                        <td id=\"T_4ccd336e_c131_11eb_8c7c_54bef7640f59row6_col4\" class=\"data row6 col4\" >DE</td>\n",
       "                        <td id=\"T_4ccd336e_c131_11eb_8c7c_54bef7640f59row6_col5\" class=\"data row6 col5\" >Europe</td>\n",
       "                        <td id=\"T_4ccd336e_c131_11eb_8c7c_54bef7640f59row6_col6\" class=\"data row6 col6\" >6</td>\n",
       "                        <td id=\"T_4ccd336e_c131_11eb_8c7c_54bef7640f59row6_col7\" class=\"data row6 col7\" >Warsaw</td>\n",
       "                        <td id=\"T_4ccd336e_c131_11eb_8c7c_54bef7640f59row6_col8\" class=\"data row6 col8\" >Berlin</td>\n",
       "                        <td id=\"T_4ccd336e_c131_11eb_8c7c_54bef7640f59row6_col9\" class=\"data row6 col9\" >Warsaw</td>\n",
       "                        <td id=\"T_4ccd336e_c131_11eb_8c7c_54bef7640f59row6_col10\" class=\"data row6 col10\" >20523.700000</td>\n",
       "            </tr>\n",
       "            <tr>\n",
       "                        <th id=\"T_4ccd336e_c131_11eb_8c7c_54bef7640f59level0_row7\" class=\"row_heading level0 row7\" >7</th>\n",
       "                        <td id=\"T_4ccd336e_c131_11eb_8c7c_54bef7640f59row7_col0\" class=\"data row7 col0\" >Poland</td>\n",
       "                        <td id=\"T_4ccd336e_c131_11eb_8c7c_54bef7640f59row7_col1\" class=\"data row7 col1\" >Warsaw</td>\n",
       "                        <td id=\"T_4ccd336e_c131_11eb_8c7c_54bef7640f59row7_col2\" class=\"data row7 col2\" >52.250000</td>\n",
       "                        <td id=\"T_4ccd336e_c131_11eb_8c7c_54bef7640f59row7_col3\" class=\"data row7 col3\" >21.000000</td>\n",
       "                        <td id=\"T_4ccd336e_c131_11eb_8c7c_54bef7640f59row7_col4\" class=\"data row7 col4\" >PL</td>\n",
       "                        <td id=\"T_4ccd336e_c131_11eb_8c7c_54bef7640f59row7_col5\" class=\"data row7 col5\" >Europe</td>\n",
       "                        <td id=\"T_4ccd336e_c131_11eb_8c7c_54bef7640f59row7_col6\" class=\"data row7 col6\" >7</td>\n",
       "                        <td id=\"T_4ccd336e_c131_11eb_8c7c_54bef7640f59row7_col7\" class=\"data row7 col7\" >Vienna</td>\n",
       "                        <td id=\"T_4ccd336e_c131_11eb_8c7c_54bef7640f59row7_col8\" class=\"data row7 col8\" >Warsaw</td>\n",
       "                        <td id=\"T_4ccd336e_c131_11eb_8c7c_54bef7640f59row7_col9\" class=\"data row7 col9\" >Vienna</td>\n",
       "                        <td id=\"T_4ccd336e_c131_11eb_8c7c_54bef7640f59row7_col10\" class=\"data row7 col10\" >29661.100000</td>\n",
       "            </tr>\n",
       "            <tr>\n",
       "                        <th id=\"T_4ccd336e_c131_11eb_8c7c_54bef7640f59level0_row8\" class=\"row_heading level0 row8\" >8</th>\n",
       "                        <td id=\"T_4ccd336e_c131_11eb_8c7c_54bef7640f59row8_col0\" class=\"data row8 col0\" >Austria</td>\n",
       "                        <td id=\"T_4ccd336e_c131_11eb_8c7c_54bef7640f59row8_col1\" class=\"data row8 col1\" >Vienna</td>\n",
       "                        <td id=\"T_4ccd336e_c131_11eb_8c7c_54bef7640f59row8_col2\" class=\"data row8 col2\" >48.200000</td>\n",
       "                        <td id=\"T_4ccd336e_c131_11eb_8c7c_54bef7640f59row8_col3\" class=\"data row8 col3\" >16.366667</td>\n",
       "                        <td id=\"T_4ccd336e_c131_11eb_8c7c_54bef7640f59row8_col4\" class=\"data row8 col4\" >AT</td>\n",
       "                        <td id=\"T_4ccd336e_c131_11eb_8c7c_54bef7640f59row8_col5\" class=\"data row8 col5\" >Europe</td>\n",
       "                        <td id=\"T_4ccd336e_c131_11eb_8c7c_54bef7640f59row8_col6\" class=\"data row8 col6\" >8</td>\n",
       "                        <td id=\"T_4ccd336e_c131_11eb_8c7c_54bef7640f59row8_col7\" class=\"data row8 col7\" >Bratislava</td>\n",
       "                        <td id=\"T_4ccd336e_c131_11eb_8c7c_54bef7640f59row8_col8\" class=\"data row8 col8\" >Vienna</td>\n",
       "                        <td id=\"T_4ccd336e_c131_11eb_8c7c_54bef7640f59row8_col9\" class=\"data row8 col9\" >Bratislava</td>\n",
       "                        <td id=\"T_4ccd336e_c131_11eb_8c7c_54bef7640f59row8_col10\" class=\"data row8 col10\" >3484.500000</td>\n",
       "            </tr>\n",
       "    </tbody></table>"
      ],
      "text/plain": [
       "<pandas.io.formats.style.Styler at 0x20efd5b8fd0>"
      ]
     },
     "execution_count": 169,
     "metadata": {},
     "output_type": "execute_result"
    }
   ],
   "source": [
    "ordered_ce_cities.style.highlight_max(color = 'red', axis = 0, subset=\"duration(s)\")"
   ]
  },
  {
   "cell_type": "code",
   "execution_count": 170,
   "metadata": {},
   "outputs": [
    {
     "data": {
      "text/html": [
       "<style  type=\"text/css\" >\n",
       "#T_4ee9931d_c131_11eb_bc05_54bef7640f59row8_col10{\n",
       "            background-color:  blue;\n",
       "        }</style><table id=\"T_4ee9931d_c131_11eb_bc05_54bef7640f59\" ><thead>    <tr>        <th class=\"blank level0\" ></th>        <th class=\"col_heading level0 col0\" >Country</th>        <th class=\"col_heading level0 col1\" >capital</th>        <th class=\"col_heading level0 col2\" >lat</th>        <th class=\"col_heading level0 col3\" >lon</th>        <th class=\"col_heading level0 col4\" >code</th>        <th class=\"col_heading level0 col5\" >continent</th>        <th class=\"col_heading level0 col6\" >order</th>        <th class=\"col_heading level0 col7\" >next_city</th>        <th class=\"col_heading level0 col8\" >origin_name</th>        <th class=\"col_heading level0 col9\" >destination_name</th>        <th class=\"col_heading level0 col10\" >duration(s)</th>    </tr></thead><tbody>\n",
       "                <tr>\n",
       "                        <th id=\"T_4ee9931d_c131_11eb_bc05_54bef7640f59level0_row0\" class=\"row_heading level0 row0\" >0</th>\n",
       "                        <td id=\"T_4ee9931d_c131_11eb_bc05_54bef7640f59row0_col0\" class=\"data row0 col0\" >Slovakia</td>\n",
       "                        <td id=\"T_4ee9931d_c131_11eb_bc05_54bef7640f59row0_col1\" class=\"data row0 col1\" >Bratislava</td>\n",
       "                        <td id=\"T_4ee9931d_c131_11eb_bc05_54bef7640f59row0_col2\" class=\"data row0 col2\" >48.150000</td>\n",
       "                        <td id=\"T_4ee9931d_c131_11eb_bc05_54bef7640f59row0_col3\" class=\"data row0 col3\" >17.116667</td>\n",
       "                        <td id=\"T_4ee9931d_c131_11eb_bc05_54bef7640f59row0_col4\" class=\"data row0 col4\" >SK</td>\n",
       "                        <td id=\"T_4ee9931d_c131_11eb_bc05_54bef7640f59row0_col5\" class=\"data row0 col5\" >Europe</td>\n",
       "                        <td id=\"T_4ee9931d_c131_11eb_bc05_54bef7640f59row0_col6\" class=\"data row0 col6\" >0</td>\n",
       "                        <td id=\"T_4ee9931d_c131_11eb_bc05_54bef7640f59row0_col7\" class=\"data row0 col7\" >Budapest</td>\n",
       "                        <td id=\"T_4ee9931d_c131_11eb_bc05_54bef7640f59row0_col8\" class=\"data row0 col8\" >Bratislava</td>\n",
       "                        <td id=\"T_4ee9931d_c131_11eb_bc05_54bef7640f59row0_col9\" class=\"data row0 col9\" >Budapest</td>\n",
       "                        <td id=\"T_4ee9931d_c131_11eb_bc05_54bef7640f59row0_col10\" class=\"data row0 col10\" >7913.200000</td>\n",
       "            </tr>\n",
       "            <tr>\n",
       "                        <th id=\"T_4ee9931d_c131_11eb_bc05_54bef7640f59level0_row1\" class=\"row_heading level0 row1\" >1</th>\n",
       "                        <td id=\"T_4ee9931d_c131_11eb_bc05_54bef7640f59row1_col0\" class=\"data row1 col0\" >Hungary</td>\n",
       "                        <td id=\"T_4ee9931d_c131_11eb_bc05_54bef7640f59row1_col1\" class=\"data row1 col1\" >Budapest</td>\n",
       "                        <td id=\"T_4ee9931d_c131_11eb_bc05_54bef7640f59row1_col2\" class=\"data row1 col2\" >47.500000</td>\n",
       "                        <td id=\"T_4ee9931d_c131_11eb_bc05_54bef7640f59row1_col3\" class=\"data row1 col3\" >19.083333</td>\n",
       "                        <td id=\"T_4ee9931d_c131_11eb_bc05_54bef7640f59row1_col4\" class=\"data row1 col4\" >HU</td>\n",
       "                        <td id=\"T_4ee9931d_c131_11eb_bc05_54bef7640f59row1_col5\" class=\"data row1 col5\" >Europe</td>\n",
       "                        <td id=\"T_4ee9931d_c131_11eb_bc05_54bef7640f59row1_col6\" class=\"data row1 col6\" >1</td>\n",
       "                        <td id=\"T_4ee9931d_c131_11eb_bc05_54bef7640f59row1_col7\" class=\"data row1 col7\" >Ljubljana</td>\n",
       "                        <td id=\"T_4ee9931d_c131_11eb_bc05_54bef7640f59row1_col8\" class=\"data row1 col8\" >Budapest</td>\n",
       "                        <td id=\"T_4ee9931d_c131_11eb_bc05_54bef7640f59row1_col9\" class=\"data row1 col9\" >Ljubljana</td>\n",
       "                        <td id=\"T_4ee9931d_c131_11eb_bc05_54bef7640f59row1_col10\" class=\"data row1 col10\" >17602.400000</td>\n",
       "            </tr>\n",
       "            <tr>\n",
       "                        <th id=\"T_4ee9931d_c131_11eb_bc05_54bef7640f59level0_row2\" class=\"row_heading level0 row2\" >2</th>\n",
       "                        <td id=\"T_4ee9931d_c131_11eb_bc05_54bef7640f59row2_col0\" class=\"data row2 col0\" >Slovenia</td>\n",
       "                        <td id=\"T_4ee9931d_c131_11eb_bc05_54bef7640f59row2_col1\" class=\"data row2 col1\" >Ljubljana</td>\n",
       "                        <td id=\"T_4ee9931d_c131_11eb_bc05_54bef7640f59row2_col2\" class=\"data row2 col2\" >46.050000</td>\n",
       "                        <td id=\"T_4ee9931d_c131_11eb_bc05_54bef7640f59row2_col3\" class=\"data row2 col3\" >14.516667</td>\n",
       "                        <td id=\"T_4ee9931d_c131_11eb_bc05_54bef7640f59row2_col4\" class=\"data row2 col4\" >SI</td>\n",
       "                        <td id=\"T_4ee9931d_c131_11eb_bc05_54bef7640f59row2_col5\" class=\"data row2 col5\" >Europe</td>\n",
       "                        <td id=\"T_4ee9931d_c131_11eb_bc05_54bef7640f59row2_col6\" class=\"data row2 col6\" >2</td>\n",
       "                        <td id=\"T_4ee9931d_c131_11eb_bc05_54bef7640f59row2_col7\" class=\"data row2 col7\" >Vaduz</td>\n",
       "                        <td id=\"T_4ee9931d_c131_11eb_bc05_54bef7640f59row2_col8\" class=\"data row2 col8\" >Ljubljana</td>\n",
       "                        <td id=\"T_4ee9931d_c131_11eb_bc05_54bef7640f59row2_col9\" class=\"data row2 col9\" >Vaduz</td>\n",
       "                        <td id=\"T_4ee9931d_c131_11eb_bc05_54bef7640f59row2_col10\" class=\"data row2 col10\" >25030.400000</td>\n",
       "            </tr>\n",
       "            <tr>\n",
       "                        <th id=\"T_4ee9931d_c131_11eb_bc05_54bef7640f59level0_row3\" class=\"row_heading level0 row3\" >3</th>\n",
       "                        <td id=\"T_4ee9931d_c131_11eb_bc05_54bef7640f59row3_col0\" class=\"data row3 col0\" >Liechtenstein</td>\n",
       "                        <td id=\"T_4ee9931d_c131_11eb_bc05_54bef7640f59row3_col1\" class=\"data row3 col1\" >Vaduz</td>\n",
       "                        <td id=\"T_4ee9931d_c131_11eb_bc05_54bef7640f59row3_col2\" class=\"data row3 col2\" >47.133333</td>\n",
       "                        <td id=\"T_4ee9931d_c131_11eb_bc05_54bef7640f59row3_col3\" class=\"data row3 col3\" >9.516667</td>\n",
       "                        <td id=\"T_4ee9931d_c131_11eb_bc05_54bef7640f59row3_col4\" class=\"data row3 col4\" >LI</td>\n",
       "                        <td id=\"T_4ee9931d_c131_11eb_bc05_54bef7640f59row3_col5\" class=\"data row3 col5\" >Europe</td>\n",
       "                        <td id=\"T_4ee9931d_c131_11eb_bc05_54bef7640f59row3_col6\" class=\"data row3 col6\" >3</td>\n",
       "                        <td id=\"T_4ee9931d_c131_11eb_bc05_54bef7640f59row3_col7\" class=\"data row3 col7\" >Bern</td>\n",
       "                        <td id=\"T_4ee9931d_c131_11eb_bc05_54bef7640f59row3_col8\" class=\"data row3 col8\" >Vaduz</td>\n",
       "                        <td id=\"T_4ee9931d_c131_11eb_bc05_54bef7640f59row3_col9\" class=\"data row3 col9\" >Bern</td>\n",
       "                        <td id=\"T_4ee9931d_c131_11eb_bc05_54bef7640f59row3_col10\" class=\"data row3 col10\" >10100.800000</td>\n",
       "            </tr>\n",
       "            <tr>\n",
       "                        <th id=\"T_4ee9931d_c131_11eb_bc05_54bef7640f59level0_row4\" class=\"row_heading level0 row4\" >4</th>\n",
       "                        <td id=\"T_4ee9931d_c131_11eb_bc05_54bef7640f59row4_col0\" class=\"data row4 col0\" >Switzerland</td>\n",
       "                        <td id=\"T_4ee9931d_c131_11eb_bc05_54bef7640f59row4_col1\" class=\"data row4 col1\" >Bern</td>\n",
       "                        <td id=\"T_4ee9931d_c131_11eb_bc05_54bef7640f59row4_col2\" class=\"data row4 col2\" >46.916667</td>\n",
       "                        <td id=\"T_4ee9931d_c131_11eb_bc05_54bef7640f59row4_col3\" class=\"data row4 col3\" >7.466667</td>\n",
       "                        <td id=\"T_4ee9931d_c131_11eb_bc05_54bef7640f59row4_col4\" class=\"data row4 col4\" >CH</td>\n",
       "                        <td id=\"T_4ee9931d_c131_11eb_bc05_54bef7640f59row4_col5\" class=\"data row4 col5\" >Europe</td>\n",
       "                        <td id=\"T_4ee9931d_c131_11eb_bc05_54bef7640f59row4_col6\" class=\"data row4 col6\" >4</td>\n",
       "                        <td id=\"T_4ee9931d_c131_11eb_bc05_54bef7640f59row4_col7\" class=\"data row4 col7\" >Prague</td>\n",
       "                        <td id=\"T_4ee9931d_c131_11eb_bc05_54bef7640f59row4_col8\" class=\"data row4 col8\" >Bern</td>\n",
       "                        <td id=\"T_4ee9931d_c131_11eb_bc05_54bef7640f59row4_col9\" class=\"data row4 col9\" >Prague</td>\n",
       "                        <td id=\"T_4ee9931d_c131_11eb_bc05_54bef7640f59row4_col10\" class=\"data row4 col10\" >30125.800000</td>\n",
       "            </tr>\n",
       "            <tr>\n",
       "                        <th id=\"T_4ee9931d_c131_11eb_bc05_54bef7640f59level0_row5\" class=\"row_heading level0 row5\" >5</th>\n",
       "                        <td id=\"T_4ee9931d_c131_11eb_bc05_54bef7640f59row5_col0\" class=\"data row5 col0\" >Czech Republic</td>\n",
       "                        <td id=\"T_4ee9931d_c131_11eb_bc05_54bef7640f59row5_col1\" class=\"data row5 col1\" >Prague</td>\n",
       "                        <td id=\"T_4ee9931d_c131_11eb_bc05_54bef7640f59row5_col2\" class=\"data row5 col2\" >50.083333</td>\n",
       "                        <td id=\"T_4ee9931d_c131_11eb_bc05_54bef7640f59row5_col3\" class=\"data row5 col3\" >14.466667</td>\n",
       "                        <td id=\"T_4ee9931d_c131_11eb_bc05_54bef7640f59row5_col4\" class=\"data row5 col4\" >CZ</td>\n",
       "                        <td id=\"T_4ee9931d_c131_11eb_bc05_54bef7640f59row5_col5\" class=\"data row5 col5\" >Europe</td>\n",
       "                        <td id=\"T_4ee9931d_c131_11eb_bc05_54bef7640f59row5_col6\" class=\"data row5 col6\" >5</td>\n",
       "                        <td id=\"T_4ee9931d_c131_11eb_bc05_54bef7640f59row5_col7\" class=\"data row5 col7\" >Berlin</td>\n",
       "                        <td id=\"T_4ee9931d_c131_11eb_bc05_54bef7640f59row5_col8\" class=\"data row5 col8\" >Prague</td>\n",
       "                        <td id=\"T_4ee9931d_c131_11eb_bc05_54bef7640f59row5_col9\" class=\"data row5 col9\" >Berlin</td>\n",
       "                        <td id=\"T_4ee9931d_c131_11eb_bc05_54bef7640f59row5_col10\" class=\"data row5 col10\" >13625.000000</td>\n",
       "            </tr>\n",
       "            <tr>\n",
       "                        <th id=\"T_4ee9931d_c131_11eb_bc05_54bef7640f59level0_row6\" class=\"row_heading level0 row6\" >6</th>\n",
       "                        <td id=\"T_4ee9931d_c131_11eb_bc05_54bef7640f59row6_col0\" class=\"data row6 col0\" >Germany</td>\n",
       "                        <td id=\"T_4ee9931d_c131_11eb_bc05_54bef7640f59row6_col1\" class=\"data row6 col1\" >Berlin</td>\n",
       "                        <td id=\"T_4ee9931d_c131_11eb_bc05_54bef7640f59row6_col2\" class=\"data row6 col2\" >52.516667</td>\n",
       "                        <td id=\"T_4ee9931d_c131_11eb_bc05_54bef7640f59row6_col3\" class=\"data row6 col3\" >13.400000</td>\n",
       "                        <td id=\"T_4ee9931d_c131_11eb_bc05_54bef7640f59row6_col4\" class=\"data row6 col4\" >DE</td>\n",
       "                        <td id=\"T_4ee9931d_c131_11eb_bc05_54bef7640f59row6_col5\" class=\"data row6 col5\" >Europe</td>\n",
       "                        <td id=\"T_4ee9931d_c131_11eb_bc05_54bef7640f59row6_col6\" class=\"data row6 col6\" >6</td>\n",
       "                        <td id=\"T_4ee9931d_c131_11eb_bc05_54bef7640f59row6_col7\" class=\"data row6 col7\" >Warsaw</td>\n",
       "                        <td id=\"T_4ee9931d_c131_11eb_bc05_54bef7640f59row6_col8\" class=\"data row6 col8\" >Berlin</td>\n",
       "                        <td id=\"T_4ee9931d_c131_11eb_bc05_54bef7640f59row6_col9\" class=\"data row6 col9\" >Warsaw</td>\n",
       "                        <td id=\"T_4ee9931d_c131_11eb_bc05_54bef7640f59row6_col10\" class=\"data row6 col10\" >20523.700000</td>\n",
       "            </tr>\n",
       "            <tr>\n",
       "                        <th id=\"T_4ee9931d_c131_11eb_bc05_54bef7640f59level0_row7\" class=\"row_heading level0 row7\" >7</th>\n",
       "                        <td id=\"T_4ee9931d_c131_11eb_bc05_54bef7640f59row7_col0\" class=\"data row7 col0\" >Poland</td>\n",
       "                        <td id=\"T_4ee9931d_c131_11eb_bc05_54bef7640f59row7_col1\" class=\"data row7 col1\" >Warsaw</td>\n",
       "                        <td id=\"T_4ee9931d_c131_11eb_bc05_54bef7640f59row7_col2\" class=\"data row7 col2\" >52.250000</td>\n",
       "                        <td id=\"T_4ee9931d_c131_11eb_bc05_54bef7640f59row7_col3\" class=\"data row7 col3\" >21.000000</td>\n",
       "                        <td id=\"T_4ee9931d_c131_11eb_bc05_54bef7640f59row7_col4\" class=\"data row7 col4\" >PL</td>\n",
       "                        <td id=\"T_4ee9931d_c131_11eb_bc05_54bef7640f59row7_col5\" class=\"data row7 col5\" >Europe</td>\n",
       "                        <td id=\"T_4ee9931d_c131_11eb_bc05_54bef7640f59row7_col6\" class=\"data row7 col6\" >7</td>\n",
       "                        <td id=\"T_4ee9931d_c131_11eb_bc05_54bef7640f59row7_col7\" class=\"data row7 col7\" >Vienna</td>\n",
       "                        <td id=\"T_4ee9931d_c131_11eb_bc05_54bef7640f59row7_col8\" class=\"data row7 col8\" >Warsaw</td>\n",
       "                        <td id=\"T_4ee9931d_c131_11eb_bc05_54bef7640f59row7_col9\" class=\"data row7 col9\" >Vienna</td>\n",
       "                        <td id=\"T_4ee9931d_c131_11eb_bc05_54bef7640f59row7_col10\" class=\"data row7 col10\" >29661.100000</td>\n",
       "            </tr>\n",
       "            <tr>\n",
       "                        <th id=\"T_4ee9931d_c131_11eb_bc05_54bef7640f59level0_row8\" class=\"row_heading level0 row8\" >8</th>\n",
       "                        <td id=\"T_4ee9931d_c131_11eb_bc05_54bef7640f59row8_col0\" class=\"data row8 col0\" >Austria</td>\n",
       "                        <td id=\"T_4ee9931d_c131_11eb_bc05_54bef7640f59row8_col1\" class=\"data row8 col1\" >Vienna</td>\n",
       "                        <td id=\"T_4ee9931d_c131_11eb_bc05_54bef7640f59row8_col2\" class=\"data row8 col2\" >48.200000</td>\n",
       "                        <td id=\"T_4ee9931d_c131_11eb_bc05_54bef7640f59row8_col3\" class=\"data row8 col3\" >16.366667</td>\n",
       "                        <td id=\"T_4ee9931d_c131_11eb_bc05_54bef7640f59row8_col4\" class=\"data row8 col4\" >AT</td>\n",
       "                        <td id=\"T_4ee9931d_c131_11eb_bc05_54bef7640f59row8_col5\" class=\"data row8 col5\" >Europe</td>\n",
       "                        <td id=\"T_4ee9931d_c131_11eb_bc05_54bef7640f59row8_col6\" class=\"data row8 col6\" >8</td>\n",
       "                        <td id=\"T_4ee9931d_c131_11eb_bc05_54bef7640f59row8_col7\" class=\"data row8 col7\" >Bratislava</td>\n",
       "                        <td id=\"T_4ee9931d_c131_11eb_bc05_54bef7640f59row8_col8\" class=\"data row8 col8\" >Vienna</td>\n",
       "                        <td id=\"T_4ee9931d_c131_11eb_bc05_54bef7640f59row8_col9\" class=\"data row8 col9\" >Bratislava</td>\n",
       "                        <td id=\"T_4ee9931d_c131_11eb_bc05_54bef7640f59row8_col10\" class=\"data row8 col10\" >3484.500000</td>\n",
       "            </tr>\n",
       "    </tbody></table>"
      ],
      "text/plain": [
       "<pandas.io.formats.style.Styler at 0x20e80e9bee0>"
      ]
     },
     "execution_count": 170,
     "metadata": {},
     "output_type": "execute_result"
    }
   ],
   "source": [
    "ordered_ce_cities.style.highlight_min(color = 'blue', axis = 0, subset=\"duration(s)\")"
   ]
  },
  {
   "cell_type": "markdown",
   "metadata": {},
   "source": [
    "Gördüğünüz gibi, bizim durumumuzda, Berlin'de başlayıp Prauge'da bitirebilirseniz, mesafe en küçük olacaktır."
   ]
  },
  {
   "cell_type": "code",
   "execution_count": 171,
   "metadata": {},
   "outputs": [
    {
     "data": {
      "text/plain": [
       "(127941.10000000002, '1 day, 11:32:21.100000')"
      ]
     },
     "execution_count": 171,
     "metadata": {},
     "output_type": "execute_result"
    }
   ],
   "source": [
    "duration_s = ordered_ce_cities[\"duration(s)\"].sum() - ordered_ce_cities[\"duration(s)\"].max()\n",
    "duration_s, str(datetime.timedelta(seconds=duration_s))"
   ]
  },
  {
   "cell_type": "markdown",
   "metadata": {},
   "source": [
    "## Bunun gerçekten kısaltılmış olası yol seçimi olduğunu onaylayalım"
   ]
  },
  {
   "cell_type": "code",
   "execution_count": 172,
   "metadata": {},
   "outputs": [],
   "source": [
    "l = [0,1,2,3,4,5,6,7,8]"
   ]
  },
  {
   "cell_type": "code",
   "execution_count": 173,
   "metadata": {},
   "outputs": [
    {
     "data": {
      "text/plain": [
       "19958400.0"
      ]
     },
     "execution_count": 173,
     "metadata": {},
     "output_type": "execute_result"
    }
   ],
   "source": [
    "# There's possible (n)!/2 combinations; 1/2 because path 1-2-3 is the same as 3-2-1\n",
    "math.factorial(length+2)/2"
   ]
  },
  {
   "cell_type": "markdown",
   "metadata": {},
   "source": [
    "Tüm olası yolları oluşturduk"
   ]
  },
  {
   "cell_type": "code",
   "execution_count": 174,
   "metadata": {},
   "outputs": [
    {
     "data": {
      "text/plain": [
       "362880"
      ]
     },
     "execution_count": 174,
     "metadata": {},
     "output_type": "execute_result"
    }
   ],
   "source": [
    "perm = [l for l in itertools.permutations(range(9), 9)]\n",
    "len(perm)"
   ]
  },
  {
   "cell_type": "code",
   "execution_count": 175,
   "metadata": {},
   "outputs": [
    {
     "data": {
      "text/plain": [
       "[(0, 1, 2, 3, 4, 5, 6, 7, 8),\n",
       " (0, 1, 2, 3, 4, 5, 6, 8, 7),\n",
       " (0, 1, 2, 3, 4, 5, 7, 6, 8),\n",
       " (0, 1, 2, 3, 4, 5, 7, 8, 6),\n",
       " (0, 1, 2, 3, 4, 5, 8, 6, 7)]"
      ]
     },
     "execution_count": 175,
     "metadata": {},
     "output_type": "execute_result"
    }
   ],
   "source": [
    "perm[:5]"
   ]
  },
  {
   "cell_type": "code",
   "execution_count": 176,
   "metadata": {},
   "outputs": [
    {
     "data": {
      "text/plain": [
       "13485.7"
      ]
     },
     "execution_count": 176,
     "metadata": {},
     "output_type": "execute_result"
    }
   ],
   "source": [
    "distances = {(int(d[0]), int(d[1])):d[2] for d in distances_df[[\"origin\",\"destination\",\"duration(s)\"]].values.tolist()}\n",
    "distances[(0,1)]"
   ]
  },
  {
   "cell_type": "code",
   "execution_count": 177,
   "metadata": {},
   "outputs": [
    {
     "name": "stdout",
     "output_type": "stream",
     "text": [
      "(0, 1) 13485.7\n",
      "(1, 2) 13625.0\n",
      "(2, 3) 33090.8\n",
      "(3, 4) 33404.8\n",
      "(4, 5) 45070.2\n",
      "(5, 6) 28368.8\n",
      "(6, 7) 16745.4\n",
      "(7, 8) 32862.3\n",
      "(8, 0) 32903.3\n",
      "249556.3\n"
     ]
    },
    {
     "data": {
      "text/plain": [
       "249556.3"
      ]
     },
     "execution_count": 177,
     "metadata": {},
     "output_type": "execute_result"
    }
   ],
   "source": [
    "# pick the first path\n",
    "path = perm[0]\n",
    "\n",
    "# add th first element to conclude the circular path\n",
    "path = path + (path[0],)\n",
    "\n",
    "# iterate through the path and sum all the distances\n",
    "total_path_distance = 0\n",
    "for i in range(len(path)-1):\n",
    "    edge = (path[i], path[i+1])\n",
    "    total_path_distance += distances[edge]\n",
    "    print(edge, distances[edge])\n",
    "print(total_path_distance)\n",
    "\n",
    "# list comprehension\n",
    "sum([distances[(path[i],path[i+1])] for i in range(len(path)-1)])"
   ]
  },
  {
   "cell_type": "code",
   "execution_count": 178,
   "metadata": {},
   "outputs": [
    {
     "name": "stdout",
     "output_type": "stream",
     "text": [
      "157645.09999999998 1 [(5, 2, 1, 8, 4, 7, 3, 6, 0, 5)]\n"
     ]
    }
   ],
   "source": [
    "mn = np.inf\n",
    "min_paths = []\n",
    "\n",
    "for p in perm:\n",
    "    \n",
    "    # add th first element to conclude the circular path\n",
    "    p = p + (p[0],)\n",
    "    \n",
    "    total_path_distance = sum([distances[(p[i],p[i+1])] for i in range(len(path)-1)])\n",
    "    \n",
    "    if total_path_distance < mn:\n",
    "        mn = total_path_distance\n",
    "        min_paths = [p]\n",
    "    elif total_path_distance == mn:\n",
    "        min_paths.append(p)\n",
    "    else:\n",
    "        pass\n",
    "    \n",
    "print(mn, len(min_paths), min_paths)"
   ]
  },
  {
   "cell_type": "code",
   "execution_count": 179,
   "metadata": {},
   "outputs": [],
   "source": [
    "def path_to_df(path, cities, distances_df):\n",
    "    orders = {city: order for order, city in enumerate(path[0])}\n",
    "    \n",
    "    cities[\"order\"] = cities.index.map(orders)\n",
    "    cities = cities.sort_values(by=\"order\")\n",
    "    \n",
    "    cities[\"next_city\"] = cities[\"capital\"].shift(-1)\n",
    "    cities[\"prev_city\"] = cities[\"capital\"].shift(1)\n",
    "\n",
    "    # the last connection is between the last city and the first one\n",
    "    cities.loc[cities[\"order\"] == max(cities[\"order\"]), \"next_city\"] = cities.loc[cities[\"order\"] == min(cities[\"order\"]), \"capital\"].values[0]\n",
    "    cities.loc[cities[\"order\"] == min(cities[\"order\"]), \"prev_city\"] = cities.loc[cities[\"order\"] == max(cities[\"order\"]), \"capital\"].values[0]\n",
    "    \n",
    "    ordered_ce_cities = cities.merge(distances_df[[\"origin_name\",\"destination_name\",\"duration(s)\"]], left_on=[\"capital\",\"next_city\"], right_on=[\"origin_name\",\"destination_name\"], how=\"left\")\n",
    "    \n",
    "    return ordered_ce_cities[\"duration(s)\"].sum(), ordered_ce_cities"
   ]
  },
  {
   "cell_type": "code",
   "execution_count": 180,
   "metadata": {},
   "outputs": [
    {
     "data": {
      "text/html": [
       "<style  type=\"text/css\" >\n",
       "#T_63232ba8_c131_11eb_8c52_54bef7640f59row1_col11{\n",
       "            background-color:  red;\n",
       "        }</style><table id=\"T_63232ba8_c131_11eb_8c52_54bef7640f59\" ><thead>    <tr>        <th class=\"blank level0\" ></th>        <th class=\"col_heading level0 col0\" >Country</th>        <th class=\"col_heading level0 col1\" >capital</th>        <th class=\"col_heading level0 col2\" >lat</th>        <th class=\"col_heading level0 col3\" >lon</th>        <th class=\"col_heading level0 col4\" >code</th>        <th class=\"col_heading level0 col5\" >continent</th>        <th class=\"col_heading level0 col6\" >order</th>        <th class=\"col_heading level0 col7\" >next_city</th>        <th class=\"col_heading level0 col8\" >prev_city</th>        <th class=\"col_heading level0 col9\" >origin_name</th>        <th class=\"col_heading level0 col10\" >destination_name</th>        <th class=\"col_heading level0 col11\" >duration(s)</th>    </tr></thead><tbody>\n",
       "                <tr>\n",
       "                        <th id=\"T_63232ba8_c131_11eb_8c52_54bef7640f59level0_row0\" class=\"row_heading level0 row0\" >0</th>\n",
       "                        <td id=\"T_63232ba8_c131_11eb_8c52_54bef7640f59row0_col0\" class=\"data row0 col0\" >Germany</td>\n",
       "                        <td id=\"T_63232ba8_c131_11eb_8c52_54bef7640f59row0_col1\" class=\"data row0 col1\" >Berlin</td>\n",
       "                        <td id=\"T_63232ba8_c131_11eb_8c52_54bef7640f59row0_col2\" class=\"data row0 col2\" >52.516667</td>\n",
       "                        <td id=\"T_63232ba8_c131_11eb_8c52_54bef7640f59row0_col3\" class=\"data row0 col3\" >13.400000</td>\n",
       "                        <td id=\"T_63232ba8_c131_11eb_8c52_54bef7640f59row0_col4\" class=\"data row0 col4\" >DE</td>\n",
       "                        <td id=\"T_63232ba8_c131_11eb_8c52_54bef7640f59row0_col5\" class=\"data row0 col5\" >Europe</td>\n",
       "                        <td id=\"T_63232ba8_c131_11eb_8c52_54bef7640f59row0_col6\" class=\"data row0 col6\" >1</td>\n",
       "                        <td id=\"T_63232ba8_c131_11eb_8c52_54bef7640f59row0_col7\" class=\"data row0 col7\" >Prague</td>\n",
       "                        <td id=\"T_63232ba8_c131_11eb_8c52_54bef7640f59row0_col8\" class=\"data row0 col8\" >Warsaw</td>\n",
       "                        <td id=\"T_63232ba8_c131_11eb_8c52_54bef7640f59row0_col9\" class=\"data row0 col9\" >Berlin</td>\n",
       "                        <td id=\"T_63232ba8_c131_11eb_8c52_54bef7640f59row0_col10\" class=\"data row0 col10\" >Prague</td>\n",
       "                        <td id=\"T_63232ba8_c131_11eb_8c52_54bef7640f59row0_col11\" class=\"data row0 col11\" >13652.600000</td>\n",
       "            </tr>\n",
       "            <tr>\n",
       "                        <th id=\"T_63232ba8_c131_11eb_8c52_54bef7640f59level0_row1\" class=\"row_heading level0 row1\" >1</th>\n",
       "                        <td id=\"T_63232ba8_c131_11eb_8c52_54bef7640f59row1_col0\" class=\"data row1 col0\" >Czech Republic</td>\n",
       "                        <td id=\"T_63232ba8_c131_11eb_8c52_54bef7640f59row1_col1\" class=\"data row1 col1\" >Prague</td>\n",
       "                        <td id=\"T_63232ba8_c131_11eb_8c52_54bef7640f59row1_col2\" class=\"data row1 col2\" >50.083333</td>\n",
       "                        <td id=\"T_63232ba8_c131_11eb_8c52_54bef7640f59row1_col3\" class=\"data row1 col3\" >14.466667</td>\n",
       "                        <td id=\"T_63232ba8_c131_11eb_8c52_54bef7640f59row1_col4\" class=\"data row1 col4\" >CZ</td>\n",
       "                        <td id=\"T_63232ba8_c131_11eb_8c52_54bef7640f59row1_col5\" class=\"data row1 col5\" >Europe</td>\n",
       "                        <td id=\"T_63232ba8_c131_11eb_8c52_54bef7640f59row1_col6\" class=\"data row1 col6\" >2</td>\n",
       "                        <td id=\"T_63232ba8_c131_11eb_8c52_54bef7640f59row1_col7\" class=\"data row1 col7\" >Bern</td>\n",
       "                        <td id=\"T_63232ba8_c131_11eb_8c52_54bef7640f59row1_col8\" class=\"data row1 col8\" >Berlin</td>\n",
       "                        <td id=\"T_63232ba8_c131_11eb_8c52_54bef7640f59row1_col9\" class=\"data row1 col9\" >Prague</td>\n",
       "                        <td id=\"T_63232ba8_c131_11eb_8c52_54bef7640f59row1_col10\" class=\"data row1 col10\" >Bern</td>\n",
       "                        <td id=\"T_63232ba8_c131_11eb_8c52_54bef7640f59row1_col11\" class=\"data row1 col11\" >30028.300000</td>\n",
       "            </tr>\n",
       "            <tr>\n",
       "                        <th id=\"T_63232ba8_c131_11eb_8c52_54bef7640f59level0_row2\" class=\"row_heading level0 row2\" >2</th>\n",
       "                        <td id=\"T_63232ba8_c131_11eb_8c52_54bef7640f59row2_col0\" class=\"data row2 col0\" >Switzerland</td>\n",
       "                        <td id=\"T_63232ba8_c131_11eb_8c52_54bef7640f59row2_col1\" class=\"data row2 col1\" >Bern</td>\n",
       "                        <td id=\"T_63232ba8_c131_11eb_8c52_54bef7640f59row2_col2\" class=\"data row2 col2\" >46.916667</td>\n",
       "                        <td id=\"T_63232ba8_c131_11eb_8c52_54bef7640f59row2_col3\" class=\"data row2 col3\" >7.466667</td>\n",
       "                        <td id=\"T_63232ba8_c131_11eb_8c52_54bef7640f59row2_col4\" class=\"data row2 col4\" >CH</td>\n",
       "                        <td id=\"T_63232ba8_c131_11eb_8c52_54bef7640f59row2_col5\" class=\"data row2 col5\" >Europe</td>\n",
       "                        <td id=\"T_63232ba8_c131_11eb_8c52_54bef7640f59row2_col6\" class=\"data row2 col6\" >3</td>\n",
       "                        <td id=\"T_63232ba8_c131_11eb_8c52_54bef7640f59row2_col7\" class=\"data row2 col7\" >Vaduz</td>\n",
       "                        <td id=\"T_63232ba8_c131_11eb_8c52_54bef7640f59row2_col8\" class=\"data row2 col8\" >Prague</td>\n",
       "                        <td id=\"T_63232ba8_c131_11eb_8c52_54bef7640f59row2_col9\" class=\"data row2 col9\" >Bern</td>\n",
       "                        <td id=\"T_63232ba8_c131_11eb_8c52_54bef7640f59row2_col10\" class=\"data row2 col10\" >Vaduz</td>\n",
       "                        <td id=\"T_63232ba8_c131_11eb_8c52_54bef7640f59row2_col11\" class=\"data row2 col11\" >10012.400000</td>\n",
       "            </tr>\n",
       "            <tr>\n",
       "                        <th id=\"T_63232ba8_c131_11eb_8c52_54bef7640f59level0_row3\" class=\"row_heading level0 row3\" >3</th>\n",
       "                        <td id=\"T_63232ba8_c131_11eb_8c52_54bef7640f59row3_col0\" class=\"data row3 col0\" >Liechtenstein</td>\n",
       "                        <td id=\"T_63232ba8_c131_11eb_8c52_54bef7640f59row3_col1\" class=\"data row3 col1\" >Vaduz</td>\n",
       "                        <td id=\"T_63232ba8_c131_11eb_8c52_54bef7640f59row3_col2\" class=\"data row3 col2\" >47.133333</td>\n",
       "                        <td id=\"T_63232ba8_c131_11eb_8c52_54bef7640f59row3_col3\" class=\"data row3 col3\" >9.516667</td>\n",
       "                        <td id=\"T_63232ba8_c131_11eb_8c52_54bef7640f59row3_col4\" class=\"data row3 col4\" >LI</td>\n",
       "                        <td id=\"T_63232ba8_c131_11eb_8c52_54bef7640f59row3_col5\" class=\"data row3 col5\" >Europe</td>\n",
       "                        <td id=\"T_63232ba8_c131_11eb_8c52_54bef7640f59row3_col6\" class=\"data row3 col6\" >4</td>\n",
       "                        <td id=\"T_63232ba8_c131_11eb_8c52_54bef7640f59row3_col7\" class=\"data row3 col7\" >Ljubljana</td>\n",
       "                        <td id=\"T_63232ba8_c131_11eb_8c52_54bef7640f59row3_col8\" class=\"data row3 col8\" >Bern</td>\n",
       "                        <td id=\"T_63232ba8_c131_11eb_8c52_54bef7640f59row3_col9\" class=\"data row3 col9\" >Vaduz</td>\n",
       "                        <td id=\"T_63232ba8_c131_11eb_8c52_54bef7640f59row3_col10\" class=\"data row3 col10\" >Ljubljana</td>\n",
       "                        <td id=\"T_63232ba8_c131_11eb_8c52_54bef7640f59row3_col11\" class=\"data row3 col11\" >24886.900000</td>\n",
       "            </tr>\n",
       "            <tr>\n",
       "                        <th id=\"T_63232ba8_c131_11eb_8c52_54bef7640f59level0_row4\" class=\"row_heading level0 row4\" >4</th>\n",
       "                        <td id=\"T_63232ba8_c131_11eb_8c52_54bef7640f59row4_col0\" class=\"data row4 col0\" >Slovenia</td>\n",
       "                        <td id=\"T_63232ba8_c131_11eb_8c52_54bef7640f59row4_col1\" class=\"data row4 col1\" >Ljubljana</td>\n",
       "                        <td id=\"T_63232ba8_c131_11eb_8c52_54bef7640f59row4_col2\" class=\"data row4 col2\" >46.050000</td>\n",
       "                        <td id=\"T_63232ba8_c131_11eb_8c52_54bef7640f59row4_col3\" class=\"data row4 col3\" >14.516667</td>\n",
       "                        <td id=\"T_63232ba8_c131_11eb_8c52_54bef7640f59row4_col4\" class=\"data row4 col4\" >SI</td>\n",
       "                        <td id=\"T_63232ba8_c131_11eb_8c52_54bef7640f59row4_col5\" class=\"data row4 col5\" >Europe</td>\n",
       "                        <td id=\"T_63232ba8_c131_11eb_8c52_54bef7640f59row4_col6\" class=\"data row4 col6\" >5</td>\n",
       "                        <td id=\"T_63232ba8_c131_11eb_8c52_54bef7640f59row4_col7\" class=\"data row4 col7\" >Budapest</td>\n",
       "                        <td id=\"T_63232ba8_c131_11eb_8c52_54bef7640f59row4_col8\" class=\"data row4 col8\" >Vaduz</td>\n",
       "                        <td id=\"T_63232ba8_c131_11eb_8c52_54bef7640f59row4_col9\" class=\"data row4 col9\" >Ljubljana</td>\n",
       "                        <td id=\"T_63232ba8_c131_11eb_8c52_54bef7640f59row4_col10\" class=\"data row4 col10\" >Budapest</td>\n",
       "                        <td id=\"T_63232ba8_c131_11eb_8c52_54bef7640f59row4_col11\" class=\"data row4 col11\" >17640.200000</td>\n",
       "            </tr>\n",
       "            <tr>\n",
       "                        <th id=\"T_63232ba8_c131_11eb_8c52_54bef7640f59level0_row5\" class=\"row_heading level0 row5\" >5</th>\n",
       "                        <td id=\"T_63232ba8_c131_11eb_8c52_54bef7640f59row5_col0\" class=\"data row5 col0\" >Hungary</td>\n",
       "                        <td id=\"T_63232ba8_c131_11eb_8c52_54bef7640f59row5_col1\" class=\"data row5 col1\" >Budapest</td>\n",
       "                        <td id=\"T_63232ba8_c131_11eb_8c52_54bef7640f59row5_col2\" class=\"data row5 col2\" >47.500000</td>\n",
       "                        <td id=\"T_63232ba8_c131_11eb_8c52_54bef7640f59row5_col3\" class=\"data row5 col3\" >19.083333</td>\n",
       "                        <td id=\"T_63232ba8_c131_11eb_8c52_54bef7640f59row5_col4\" class=\"data row5 col4\" >HU</td>\n",
       "                        <td id=\"T_63232ba8_c131_11eb_8c52_54bef7640f59row5_col5\" class=\"data row5 col5\" >Europe</td>\n",
       "                        <td id=\"T_63232ba8_c131_11eb_8c52_54bef7640f59row5_col6\" class=\"data row5 col6\" >6</td>\n",
       "                        <td id=\"T_63232ba8_c131_11eb_8c52_54bef7640f59row5_col7\" class=\"data row5 col7\" >Bratislava</td>\n",
       "                        <td id=\"T_63232ba8_c131_11eb_8c52_54bef7640f59row5_col8\" class=\"data row5 col8\" >Ljubljana</td>\n",
       "                        <td id=\"T_63232ba8_c131_11eb_8c52_54bef7640f59row5_col9\" class=\"data row5 col9\" >Budapest</td>\n",
       "                        <td id=\"T_63232ba8_c131_11eb_8c52_54bef7640f59row5_col10\" class=\"data row5 col10\" >Bratislava</td>\n",
       "                        <td id=\"T_63232ba8_c131_11eb_8c52_54bef7640f59row5_col11\" class=\"data row5 col11\" >7880.200000</td>\n",
       "            </tr>\n",
       "            <tr>\n",
       "                        <th id=\"T_63232ba8_c131_11eb_8c52_54bef7640f59level0_row6\" class=\"row_heading level0 row6\" >6</th>\n",
       "                        <td id=\"T_63232ba8_c131_11eb_8c52_54bef7640f59row6_col0\" class=\"data row6 col0\" >Slovakia</td>\n",
       "                        <td id=\"T_63232ba8_c131_11eb_8c52_54bef7640f59row6_col1\" class=\"data row6 col1\" >Bratislava</td>\n",
       "                        <td id=\"T_63232ba8_c131_11eb_8c52_54bef7640f59row6_col2\" class=\"data row6 col2\" >48.150000</td>\n",
       "                        <td id=\"T_63232ba8_c131_11eb_8c52_54bef7640f59row6_col3\" class=\"data row6 col3\" >17.116667</td>\n",
       "                        <td id=\"T_63232ba8_c131_11eb_8c52_54bef7640f59row6_col4\" class=\"data row6 col4\" >SK</td>\n",
       "                        <td id=\"T_63232ba8_c131_11eb_8c52_54bef7640f59row6_col5\" class=\"data row6 col5\" >Europe</td>\n",
       "                        <td id=\"T_63232ba8_c131_11eb_8c52_54bef7640f59row6_col6\" class=\"data row6 col6\" >7</td>\n",
       "                        <td id=\"T_63232ba8_c131_11eb_8c52_54bef7640f59row6_col7\" class=\"data row6 col7\" >Vienna</td>\n",
       "                        <td id=\"T_63232ba8_c131_11eb_8c52_54bef7640f59row6_col8\" class=\"data row6 col8\" >Budapest</td>\n",
       "                        <td id=\"T_63232ba8_c131_11eb_8c52_54bef7640f59row6_col9\" class=\"data row6 col9\" >Bratislava</td>\n",
       "                        <td id=\"T_63232ba8_c131_11eb_8c52_54bef7640f59row6_col10\" class=\"data row6 col10\" >Vienna</td>\n",
       "                        <td id=\"T_63232ba8_c131_11eb_8c52_54bef7640f59row6_col11\" class=\"data row6 col11\" >3488.700000</td>\n",
       "            </tr>\n",
       "            <tr>\n",
       "                        <th id=\"T_63232ba8_c131_11eb_8c52_54bef7640f59level0_row7\" class=\"row_heading level0 row7\" >7</th>\n",
       "                        <td id=\"T_63232ba8_c131_11eb_8c52_54bef7640f59row7_col0\" class=\"data row7 col0\" >Austria</td>\n",
       "                        <td id=\"T_63232ba8_c131_11eb_8c52_54bef7640f59row7_col1\" class=\"data row7 col1\" >Vienna</td>\n",
       "                        <td id=\"T_63232ba8_c131_11eb_8c52_54bef7640f59row7_col2\" class=\"data row7 col2\" >48.200000</td>\n",
       "                        <td id=\"T_63232ba8_c131_11eb_8c52_54bef7640f59row7_col3\" class=\"data row7 col3\" >16.366667</td>\n",
       "                        <td id=\"T_63232ba8_c131_11eb_8c52_54bef7640f59row7_col4\" class=\"data row7 col4\" >AT</td>\n",
       "                        <td id=\"T_63232ba8_c131_11eb_8c52_54bef7640f59row7_col5\" class=\"data row7 col5\" >Europe</td>\n",
       "                        <td id=\"T_63232ba8_c131_11eb_8c52_54bef7640f59row7_col6\" class=\"data row7 col6\" >8</td>\n",
       "                        <td id=\"T_63232ba8_c131_11eb_8c52_54bef7640f59row7_col7\" class=\"data row7 col7\" >Warsaw</td>\n",
       "                        <td id=\"T_63232ba8_c131_11eb_8c52_54bef7640f59row7_col8\" class=\"data row7 col8\" >Bratislava</td>\n",
       "                        <td id=\"T_63232ba8_c131_11eb_8c52_54bef7640f59row7_col9\" class=\"data row7 col9\" >Vienna</td>\n",
       "                        <td id=\"T_63232ba8_c131_11eb_8c52_54bef7640f59row7_col10\" class=\"data row7 col10\" >Warsaw</td>\n",
       "                        <td id=\"T_63232ba8_c131_11eb_8c52_54bef7640f59row7_col11\" class=\"data row7 col11\" >29590.600000</td>\n",
       "            </tr>\n",
       "            <tr>\n",
       "                        <th id=\"T_63232ba8_c131_11eb_8c52_54bef7640f59level0_row8\" class=\"row_heading level0 row8\" >8</th>\n",
       "                        <td id=\"T_63232ba8_c131_11eb_8c52_54bef7640f59row8_col0\" class=\"data row8 col0\" >Poland</td>\n",
       "                        <td id=\"T_63232ba8_c131_11eb_8c52_54bef7640f59row8_col1\" class=\"data row8 col1\" >Warsaw</td>\n",
       "                        <td id=\"T_63232ba8_c131_11eb_8c52_54bef7640f59row8_col2\" class=\"data row8 col2\" >52.250000</td>\n",
       "                        <td id=\"T_63232ba8_c131_11eb_8c52_54bef7640f59row8_col3\" class=\"data row8 col3\" >21.000000</td>\n",
       "                        <td id=\"T_63232ba8_c131_11eb_8c52_54bef7640f59row8_col4\" class=\"data row8 col4\" >PL</td>\n",
       "                        <td id=\"T_63232ba8_c131_11eb_8c52_54bef7640f59row8_col5\" class=\"data row8 col5\" >Europe</td>\n",
       "                        <td id=\"T_63232ba8_c131_11eb_8c52_54bef7640f59row8_col6\" class=\"data row8 col6\" >9</td>\n",
       "                        <td id=\"T_63232ba8_c131_11eb_8c52_54bef7640f59row8_col7\" class=\"data row8 col7\" >Berlin</td>\n",
       "                        <td id=\"T_63232ba8_c131_11eb_8c52_54bef7640f59row8_col8\" class=\"data row8 col8\" >Vienna</td>\n",
       "                        <td id=\"T_63232ba8_c131_11eb_8c52_54bef7640f59row8_col9\" class=\"data row8 col9\" >Warsaw</td>\n",
       "                        <td id=\"T_63232ba8_c131_11eb_8c52_54bef7640f59row8_col10\" class=\"data row8 col10\" >Berlin</td>\n",
       "                        <td id=\"T_63232ba8_c131_11eb_8c52_54bef7640f59row8_col11\" class=\"data row8 col11\" >20465.200000</td>\n",
       "            </tr>\n",
       "    </tbody></table>"
      ],
      "text/plain": [
       "<pandas.io.formats.style.Styler at 0x20efd62a6a0>"
      ]
     },
     "execution_count": 180,
     "metadata": {},
     "output_type": "execute_result"
    }
   ],
   "source": [
    "total_duration, path_df = path_to_df(min_paths, ce_cities, distances_df)\n",
    "path_df.style.highlight_max(color = 'red', axis = 0, subset=\"duration(s)\")"
   ]
  },
  {
   "cell_type": "code",
   "execution_count": 181,
   "metadata": {},
   "outputs": [
    {
     "data": {
      "text/plain": [
       "157645.10000000003"
      ]
     },
     "execution_count": 181,
     "metadata": {},
     "output_type": "execute_result"
    }
   ],
   "source": [
    "total_duration"
   ]
  },
  {
   "cell_type": "markdown",
   "metadata": {},
   "source": [
    "Yolun Berlin'den başlaması için sırayı değiştiriyoruz."
   ]
  },
  {
   "cell_type": "code",
   "execution_count": 182,
   "metadata": {},
   "outputs": [
    {
     "data": {
      "text/html": [
       "<div>\n",
       "<style scoped>\n",
       "    .dataframe tbody tr th:only-of-type {\n",
       "        vertical-align: middle;\n",
       "    }\n",
       "\n",
       "    .dataframe tbody tr th {\n",
       "        vertical-align: top;\n",
       "    }\n",
       "\n",
       "    .dataframe thead th {\n",
       "        text-align: right;\n",
       "    }\n",
       "</style>\n",
       "<table border=\"1\" class=\"dataframe\">\n",
       "  <thead>\n",
       "    <tr style=\"text-align: right;\">\n",
       "      <th></th>\n",
       "      <th>order</th>\n",
       "      <th>origin_name</th>\n",
       "      <th>destination_name</th>\n",
       "      <th>duration(s)</th>\n",
       "    </tr>\n",
       "  </thead>\n",
       "  <tbody>\n",
       "    <tr>\n",
       "      <th>8</th>\n",
       "      <td>9</td>\n",
       "      <td>Berlin</td>\n",
       "      <td>Warsaw</td>\n",
       "      <td>20465.2</td>\n",
       "    </tr>\n",
       "    <tr>\n",
       "      <th>7</th>\n",
       "      <td>8</td>\n",
       "      <td>Warsaw</td>\n",
       "      <td>Vienna</td>\n",
       "      <td>29590.6</td>\n",
       "    </tr>\n",
       "    <tr>\n",
       "      <th>6</th>\n",
       "      <td>7</td>\n",
       "      <td>Vienna</td>\n",
       "      <td>Bratislava</td>\n",
       "      <td>3488.7</td>\n",
       "    </tr>\n",
       "    <tr>\n",
       "      <th>5</th>\n",
       "      <td>6</td>\n",
       "      <td>Bratislava</td>\n",
       "      <td>Budapest</td>\n",
       "      <td>7880.2</td>\n",
       "    </tr>\n",
       "    <tr>\n",
       "      <th>4</th>\n",
       "      <td>5</td>\n",
       "      <td>Budapest</td>\n",
       "      <td>Ljubljana</td>\n",
       "      <td>17640.2</td>\n",
       "    </tr>\n",
       "    <tr>\n",
       "      <th>3</th>\n",
       "      <td>4</td>\n",
       "      <td>Ljubljana</td>\n",
       "      <td>Vaduz</td>\n",
       "      <td>24886.9</td>\n",
       "    </tr>\n",
       "    <tr>\n",
       "      <th>2</th>\n",
       "      <td>3</td>\n",
       "      <td>Vaduz</td>\n",
       "      <td>Bern</td>\n",
       "      <td>10012.4</td>\n",
       "    </tr>\n",
       "    <tr>\n",
       "      <th>1</th>\n",
       "      <td>2</td>\n",
       "      <td>Bern</td>\n",
       "      <td>Prague</td>\n",
       "      <td>30028.3</td>\n",
       "    </tr>\n",
       "    <tr>\n",
       "      <th>0</th>\n",
       "      <td>1</td>\n",
       "      <td>Prague</td>\n",
       "      <td>Berlin</td>\n",
       "      <td>13652.6</td>\n",
       "    </tr>\n",
       "  </tbody>\n",
       "</table>\n",
       "</div>"
      ],
      "text/plain": [
       "   order origin_name destination_name  duration(s)\n",
       "8      9      Berlin           Warsaw      20465.2\n",
       "7      8      Warsaw           Vienna      29590.6\n",
       "6      7      Vienna       Bratislava       3488.7\n",
       "5      6  Bratislava         Budapest       7880.2\n",
       "4      5    Budapest        Ljubljana      17640.2\n",
       "3      4   Ljubljana            Vaduz      24886.9\n",
       "2      3       Vaduz             Bern      10012.4\n",
       "1      2        Bern           Prague      30028.3\n",
       "0      1      Prague           Berlin      13652.6"
      ]
     },
     "execution_count": 182,
     "metadata": {},
     "output_type": "execute_result"
    }
   ],
   "source": [
    "path_df_reversed = path_df.sort_values(by=\"order\").reset_index(drop=True)\n",
    "path_df_reversed = path_df_reversed.reindex(index=path_df_reversed.index[::-1])\n",
    "path_df_reversed.rename(columns={\"destination_name\":\"origin_name\", \"origin_name\":\"destination_name\"}, inplace=True)\n",
    "path_df_reversed[[\"order\", \"origin_name\", \"destination_name\", \"duration(s)\"]]"
   ]
  },
  {
   "cell_type": "markdown",
   "metadata": {},
   "source": [
    "Bu yol, Gezgin Satıcı algoritmamızın bulduğuyla tamamen aynıdır. min_paths değişkeninde, bu yolların tüm kombinasyonlarının en kısa olduğunu görebilirsiniz (başladığımız yere geri döndüğümüz düşünülürse)."
   ]
  },
  {
   "cell_type": "markdown",
   "metadata": {},
   "source": [
    "Plotly Geochart ile görsel"
   ]
  },
  {
   "cell_type": "code",
   "execution_count": 74,
   "metadata": {},
   "outputs": [],
   "source": [
    "import plotly.graph_objects as go"
   ]
  },
  {
   "cell_type": "code",
   "execution_count": 185,
   "metadata": {},
   "outputs": [
    {
     "data": {
      "application/vnd.plotly.v1+json": {
       "config": {
        "plotlyServerURL": "https://plot.ly"
       },
       "data": [
        {
         "lat": [
          52.51666666666666,
          50.08333333333334,
          46.91666666666666,
          47.13333333333333,
          46.05,
          47.5,
          48.15,
          48.2,
          52.25
         ],
         "locationmode": "USA-states",
         "lon": [
          13.4,
          14.466667000000001,
          7.466667,
          9.516667,
          14.516667000000002,
          19.083333,
          17.116667,
          16.366667,
          21
         ],
         "mode": "markers",
         "name": "capitals",
         "text": [
          "Hargeisa",
          "King Edward Point",
          "Port-aux-Français",
          "Jerusalem",
          "Mariehamn",
          "Yaren",
          "Marigot",
          "Atafu",
          "El-Aaiún",
          "Kabul",
          "Tirana",
          "Algiers",
          "Pago Pago",
          "Andorra la Vella",
          "Luanda",
          "The Valley",
          "Saint John's",
          "Buenos Aires",
          "Yerevan",
          "Oranjestad",
          "Canberra",
          "Vienna",
          "Baku",
          "Nassau",
          "Manama",
          "Dhaka",
          "Bridgetown",
          "Minsk",
          "Brussels",
          "Belmopan",
          "Porto-Novo",
          "Hamilton",
          "Thimphu",
          "La Paz",
          "Sarajevo",
          "Gaborone",
          "Brasilia",
          "Road Town",
          "Bandar Seri Begawan",
          "Sofia",
          "Ouagadougou",
          "Rangoon",
          "Bujumbura",
          "Phnom Penh",
          "Yaounde",
          "Ottawa",
          "Praia",
          "George Town",
          "Bangui",
          "N'Djamena",
          "Santiago",
          "Beijing",
          "The Settlement",
          "West Island",
          "Bogota",
          "Moroni",
          "Kinshasa",
          "Brazzaville",
          "Avarua",
          "San Jose",
          "Yamoussoukro",
          "Zagreb",
          "Havana",
          "Willemstad",
          "Nicosia",
          "Prague",
          "Copenhagen",
          "Djibouti",
          "Roseau",
          "Santo Domingo",
          "Quito",
          "Cairo",
          "San Salvador",
          "Malabo",
          "Asmara",
          "Tallinn",
          "Addis Ababa",
          "Stanley",
          "Torshavn",
          "Suva",
          "Helsinki",
          "Paris",
          "Papeete",
          "Libreville",
          "Banjul",
          "Tbilisi",
          "Berlin",
          "Accra",
          "Gibraltar",
          "Athens",
          "Nuuk",
          "Saint George's",
          "Hagatna",
          "Guatemala City",
          "Saint Peter Port",
          "Conakry",
          "Bissau",
          "Georgetown",
          "Port-au-Prince",
          "Vatican City",
          "Tegucigalpa",
          "Budapest",
          "Reykjavik",
          "New Delhi",
          "Jakarta",
          "Tehran",
          "Baghdad",
          "Dublin",
          "Douglas",
          "Jerusalem",
          "Rome",
          "Kingston",
          "Tokyo",
          "Saint Helier",
          "Amman",
          "Astana",
          "Nairobi",
          "Tarawa",
          "Pyongyang",
          "Seoul",
          "Pristina",
          "Kuwait City",
          "Bishkek",
          "Vientiane",
          "Riga",
          "Beirut",
          "Maseru",
          "Monrovia",
          "Tripoli",
          "Vaduz",
          "Vilnius",
          "Luxembourg",
          "Skopje",
          "Antananarivo",
          "Lilongwe",
          "Kuala Lumpur",
          "Male",
          "Bamako",
          "Valletta",
          "Majuro",
          "Nouakchott",
          "Port Louis",
          "Mexico City",
          "Palikir",
          "Chisinau",
          "Monaco",
          "Ulaanbaatar",
          "Podgorica",
          "Plymouth",
          "Rabat",
          "Maputo",
          "Windhoek",
          "Kathmandu",
          "Amsterdam",
          "Noumea",
          "Wellington",
          "Managua",
          "Niamey",
          "Abuja",
          "Alofi",
          "Kingston",
          "Saipan",
          "Oslo",
          "Muscat",
          "Islamabad",
          "Melekeok",
          "Panama City",
          "Port Moresby",
          "Asuncion",
          "Lima",
          "Manila",
          "Adamstown",
          "Warsaw",
          "Lisbon",
          "San Juan",
          "Doha",
          "Bucharest",
          "Moscow",
          "Kigali",
          "Gustavia",
          "Jamestown",
          "Basseterre",
          "Castries",
          "Saint-Pierre",
          "Kingstown",
          "Apia",
          "San Marino",
          "Sao Tome",
          "Riyadh",
          "Dakar",
          "Belgrade",
          "Victoria",
          "Freetown",
          "Singapore",
          "Philipsburg",
          "Bratislava",
          "Ljubljana",
          "Honiara",
          "Mogadishu",
          "Pretoria",
          "Juba",
          "Madrid",
          "Colombo",
          "Khartoum",
          "Paramaribo",
          "Longyearbyen",
          "Mbabane",
          "Stockholm",
          "Bern",
          "Damascus",
          "Taipei",
          "Dushanbe",
          "Dar es Salaam",
          "Bangkok",
          "Dili",
          "Lome",
          "Nuku'alofa",
          "Port of Spain",
          "Tunis",
          "Ankara",
          "Ashgabat",
          "Grand Turk",
          "Funafuti",
          "Kampala",
          "Kyiv",
          "Abu Dhabi",
          "London",
          "Washington",
          "Montevideo",
          "Tashkent",
          "Port-Vila",
          "Caracas",
          "Hanoi",
          "Charlotte Amalie",
          "Mata-Utu",
          "Sanaa",
          "Lusaka",
          "Harare",
          "Washington",
          null,
          "North Nicosia",
          null,
          null,
          "Diego Garcia",
          null
         ],
         "type": "scattergeo"
        },
        {
         "lat": [
          52.51666666666666,
          50.08333333333334
         ],
         "locationmode": "USA-states",
         "lon": [
          13.4,
          14.466667000000001
         ],
         "mode": "lines",
         "name": "Berlin-Prague",
         "type": "scattergeo"
        },
        {
         "lat": [
          50.08333333333334,
          46.91666666666666
         ],
         "locationmode": "USA-states",
         "lon": [
          14.466667000000001,
          7.466667
         ],
         "mode": "lines",
         "name": "Prague-Bern",
         "type": "scattergeo"
        },
        {
         "lat": [
          46.91666666666666,
          47.13333333333333
         ],
         "locationmode": "USA-states",
         "lon": [
          7.466667,
          9.516667
         ],
         "mode": "lines",
         "name": "Bern-Vaduz",
         "type": "scattergeo"
        },
        {
         "lat": [
          47.13333333333333,
          46.05
         ],
         "locationmode": "USA-states",
         "lon": [
          9.516667,
          14.516667000000002
         ],
         "mode": "lines",
         "name": "Vaduz-Ljubljana",
         "type": "scattergeo"
        },
        {
         "lat": [
          46.05,
          47.5
         ],
         "locationmode": "USA-states",
         "lon": [
          14.516667000000002,
          19.083333
         ],
         "mode": "lines",
         "name": "Ljubljana-Budapest",
         "type": "scattergeo"
        },
        {
         "lat": [
          47.5,
          48.15
         ],
         "locationmode": "USA-states",
         "lon": [
          19.083333,
          17.116667
         ],
         "mode": "lines",
         "name": "Budapest-Bratislava",
         "type": "scattergeo"
        },
        {
         "lat": [
          48.15,
          48.2
         ],
         "locationmode": "USA-states",
         "lon": [
          17.116667,
          16.366667
         ],
         "mode": "lines",
         "name": "Bratislava-Vienna",
         "type": "scattergeo"
        },
        {
         "lat": [
          48.2,
          52.25
         ],
         "locationmode": "USA-states",
         "lon": [
          16.366667,
          21
         ],
         "mode": "lines",
         "name": "Vienna-Warsaw",
         "type": "scattergeo"
        },
        {
         "lat": [
          52.25,
          52.51666666666666
         ],
         "locationmode": "USA-states",
         "lon": [
          21,
          13.4
         ],
         "mode": "lines",
         "name": "Warsaw-Berlin",
         "type": "scattergeo"
        }
       ],
       "layout": {
        "geo": {
         "scope": "europe"
        },
        "template": {
         "data": {
          "bar": [
           {
            "error_x": {
             "color": "#2a3f5f"
            },
            "error_y": {
             "color": "#2a3f5f"
            },
            "marker": {
             "line": {
              "color": "#E5ECF6",
              "width": 0.5
             }
            },
            "type": "bar"
           }
          ],
          "barpolar": [
           {
            "marker": {
             "line": {
              "color": "#E5ECF6",
              "width": 0.5
             }
            },
            "type": "barpolar"
           }
          ],
          "carpet": [
           {
            "aaxis": {
             "endlinecolor": "#2a3f5f",
             "gridcolor": "white",
             "linecolor": "white",
             "minorgridcolor": "white",
             "startlinecolor": "#2a3f5f"
            },
            "baxis": {
             "endlinecolor": "#2a3f5f",
             "gridcolor": "white",
             "linecolor": "white",
             "minorgridcolor": "white",
             "startlinecolor": "#2a3f5f"
            },
            "type": "carpet"
           }
          ],
          "choropleth": [
           {
            "colorbar": {
             "outlinewidth": 0,
             "ticks": ""
            },
            "type": "choropleth"
           }
          ],
          "contour": [
           {
            "colorbar": {
             "outlinewidth": 0,
             "ticks": ""
            },
            "colorscale": [
             [
              0,
              "#0d0887"
             ],
             [
              0.1111111111111111,
              "#46039f"
             ],
             [
              0.2222222222222222,
              "#7201a8"
             ],
             [
              0.3333333333333333,
              "#9c179e"
             ],
             [
              0.4444444444444444,
              "#bd3786"
             ],
             [
              0.5555555555555556,
              "#d8576b"
             ],
             [
              0.6666666666666666,
              "#ed7953"
             ],
             [
              0.7777777777777778,
              "#fb9f3a"
             ],
             [
              0.8888888888888888,
              "#fdca26"
             ],
             [
              1,
              "#f0f921"
             ]
            ],
            "type": "contour"
           }
          ],
          "contourcarpet": [
           {
            "colorbar": {
             "outlinewidth": 0,
             "ticks": ""
            },
            "type": "contourcarpet"
           }
          ],
          "heatmap": [
           {
            "colorbar": {
             "outlinewidth": 0,
             "ticks": ""
            },
            "colorscale": [
             [
              0,
              "#0d0887"
             ],
             [
              0.1111111111111111,
              "#46039f"
             ],
             [
              0.2222222222222222,
              "#7201a8"
             ],
             [
              0.3333333333333333,
              "#9c179e"
             ],
             [
              0.4444444444444444,
              "#bd3786"
             ],
             [
              0.5555555555555556,
              "#d8576b"
             ],
             [
              0.6666666666666666,
              "#ed7953"
             ],
             [
              0.7777777777777778,
              "#fb9f3a"
             ],
             [
              0.8888888888888888,
              "#fdca26"
             ],
             [
              1,
              "#f0f921"
             ]
            ],
            "type": "heatmap"
           }
          ],
          "heatmapgl": [
           {
            "colorbar": {
             "outlinewidth": 0,
             "ticks": ""
            },
            "colorscale": [
             [
              0,
              "#0d0887"
             ],
             [
              0.1111111111111111,
              "#46039f"
             ],
             [
              0.2222222222222222,
              "#7201a8"
             ],
             [
              0.3333333333333333,
              "#9c179e"
             ],
             [
              0.4444444444444444,
              "#bd3786"
             ],
             [
              0.5555555555555556,
              "#d8576b"
             ],
             [
              0.6666666666666666,
              "#ed7953"
             ],
             [
              0.7777777777777778,
              "#fb9f3a"
             ],
             [
              0.8888888888888888,
              "#fdca26"
             ],
             [
              1,
              "#f0f921"
             ]
            ],
            "type": "heatmapgl"
           }
          ],
          "histogram": [
           {
            "marker": {
             "colorbar": {
              "outlinewidth": 0,
              "ticks": ""
             }
            },
            "type": "histogram"
           }
          ],
          "histogram2d": [
           {
            "colorbar": {
             "outlinewidth": 0,
             "ticks": ""
            },
            "colorscale": [
             [
              0,
              "#0d0887"
             ],
             [
              0.1111111111111111,
              "#46039f"
             ],
             [
              0.2222222222222222,
              "#7201a8"
             ],
             [
              0.3333333333333333,
              "#9c179e"
             ],
             [
              0.4444444444444444,
              "#bd3786"
             ],
             [
              0.5555555555555556,
              "#d8576b"
             ],
             [
              0.6666666666666666,
              "#ed7953"
             ],
             [
              0.7777777777777778,
              "#fb9f3a"
             ],
             [
              0.8888888888888888,
              "#fdca26"
             ],
             [
              1,
              "#f0f921"
             ]
            ],
            "type": "histogram2d"
           }
          ],
          "histogram2dcontour": [
           {
            "colorbar": {
             "outlinewidth": 0,
             "ticks": ""
            },
            "colorscale": [
             [
              0,
              "#0d0887"
             ],
             [
              0.1111111111111111,
              "#46039f"
             ],
             [
              0.2222222222222222,
              "#7201a8"
             ],
             [
              0.3333333333333333,
              "#9c179e"
             ],
             [
              0.4444444444444444,
              "#bd3786"
             ],
             [
              0.5555555555555556,
              "#d8576b"
             ],
             [
              0.6666666666666666,
              "#ed7953"
             ],
             [
              0.7777777777777778,
              "#fb9f3a"
             ],
             [
              0.8888888888888888,
              "#fdca26"
             ],
             [
              1,
              "#f0f921"
             ]
            ],
            "type": "histogram2dcontour"
           }
          ],
          "mesh3d": [
           {
            "colorbar": {
             "outlinewidth": 0,
             "ticks": ""
            },
            "type": "mesh3d"
           }
          ],
          "parcoords": [
           {
            "line": {
             "colorbar": {
              "outlinewidth": 0,
              "ticks": ""
             }
            },
            "type": "parcoords"
           }
          ],
          "pie": [
           {
            "automargin": true,
            "type": "pie"
           }
          ],
          "scatter": [
           {
            "marker": {
             "colorbar": {
              "outlinewidth": 0,
              "ticks": ""
             }
            },
            "type": "scatter"
           }
          ],
          "scatter3d": [
           {
            "line": {
             "colorbar": {
              "outlinewidth": 0,
              "ticks": ""
             }
            },
            "marker": {
             "colorbar": {
              "outlinewidth": 0,
              "ticks": ""
             }
            },
            "type": "scatter3d"
           }
          ],
          "scattercarpet": [
           {
            "marker": {
             "colorbar": {
              "outlinewidth": 0,
              "ticks": ""
             }
            },
            "type": "scattercarpet"
           }
          ],
          "scattergeo": [
           {
            "marker": {
             "colorbar": {
              "outlinewidth": 0,
              "ticks": ""
             }
            },
            "type": "scattergeo"
           }
          ],
          "scattergl": [
           {
            "marker": {
             "colorbar": {
              "outlinewidth": 0,
              "ticks": ""
             }
            },
            "type": "scattergl"
           }
          ],
          "scattermapbox": [
           {
            "marker": {
             "colorbar": {
              "outlinewidth": 0,
              "ticks": ""
             }
            },
            "type": "scattermapbox"
           }
          ],
          "scatterpolar": [
           {
            "marker": {
             "colorbar": {
              "outlinewidth": 0,
              "ticks": ""
             }
            },
            "type": "scatterpolar"
           }
          ],
          "scatterpolargl": [
           {
            "marker": {
             "colorbar": {
              "outlinewidth": 0,
              "ticks": ""
             }
            },
            "type": "scatterpolargl"
           }
          ],
          "scatterternary": [
           {
            "marker": {
             "colorbar": {
              "outlinewidth": 0,
              "ticks": ""
             }
            },
            "type": "scatterternary"
           }
          ],
          "surface": [
           {
            "colorbar": {
             "outlinewidth": 0,
             "ticks": ""
            },
            "colorscale": [
             [
              0,
              "#0d0887"
             ],
             [
              0.1111111111111111,
              "#46039f"
             ],
             [
              0.2222222222222222,
              "#7201a8"
             ],
             [
              0.3333333333333333,
              "#9c179e"
             ],
             [
              0.4444444444444444,
              "#bd3786"
             ],
             [
              0.5555555555555556,
              "#d8576b"
             ],
             [
              0.6666666666666666,
              "#ed7953"
             ],
             [
              0.7777777777777778,
              "#fb9f3a"
             ],
             [
              0.8888888888888888,
              "#fdca26"
             ],
             [
              1,
              "#f0f921"
             ]
            ],
            "type": "surface"
           }
          ],
          "table": [
           {
            "cells": {
             "fill": {
              "color": "#EBF0F8"
             },
             "line": {
              "color": "white"
             }
            },
            "header": {
             "fill": {
              "color": "#C8D4E3"
             },
             "line": {
              "color": "white"
             }
            },
            "type": "table"
           }
          ]
         },
         "layout": {
          "annotationdefaults": {
           "arrowcolor": "#2a3f5f",
           "arrowhead": 0,
           "arrowwidth": 1
          },
          "autotypenumbers": "strict",
          "coloraxis": {
           "colorbar": {
            "outlinewidth": 0,
            "ticks": ""
           }
          },
          "colorscale": {
           "diverging": [
            [
             0,
             "#8e0152"
            ],
            [
             0.1,
             "#c51b7d"
            ],
            [
             0.2,
             "#de77ae"
            ],
            [
             0.3,
             "#f1b6da"
            ],
            [
             0.4,
             "#fde0ef"
            ],
            [
             0.5,
             "#f7f7f7"
            ],
            [
             0.6,
             "#e6f5d0"
            ],
            [
             0.7,
             "#b8e186"
            ],
            [
             0.8,
             "#7fbc41"
            ],
            [
             0.9,
             "#4d9221"
            ],
            [
             1,
             "#276419"
            ]
           ],
           "sequential": [
            [
             0,
             "#0d0887"
            ],
            [
             0.1111111111111111,
             "#46039f"
            ],
            [
             0.2222222222222222,
             "#7201a8"
            ],
            [
             0.3333333333333333,
             "#9c179e"
            ],
            [
             0.4444444444444444,
             "#bd3786"
            ],
            [
             0.5555555555555556,
             "#d8576b"
            ],
            [
             0.6666666666666666,
             "#ed7953"
            ],
            [
             0.7777777777777778,
             "#fb9f3a"
            ],
            [
             0.8888888888888888,
             "#fdca26"
            ],
            [
             1,
             "#f0f921"
            ]
           ],
           "sequentialminus": [
            [
             0,
             "#0d0887"
            ],
            [
             0.1111111111111111,
             "#46039f"
            ],
            [
             0.2222222222222222,
             "#7201a8"
            ],
            [
             0.3333333333333333,
             "#9c179e"
            ],
            [
             0.4444444444444444,
             "#bd3786"
            ],
            [
             0.5555555555555556,
             "#d8576b"
            ],
            [
             0.6666666666666666,
             "#ed7953"
            ],
            [
             0.7777777777777778,
             "#fb9f3a"
            ],
            [
             0.8888888888888888,
             "#fdca26"
            ],
            [
             1,
             "#f0f921"
            ]
           ]
          },
          "colorway": [
           "#636efa",
           "#EF553B",
           "#00cc96",
           "#ab63fa",
           "#FFA15A",
           "#19d3f3",
           "#FF6692",
           "#B6E880",
           "#FF97FF",
           "#FECB52"
          ],
          "font": {
           "color": "#2a3f5f"
          },
          "geo": {
           "bgcolor": "white",
           "lakecolor": "white",
           "landcolor": "#E5ECF6",
           "showlakes": true,
           "showland": true,
           "subunitcolor": "white"
          },
          "hoverlabel": {
           "align": "left"
          },
          "hovermode": "closest",
          "mapbox": {
           "style": "light"
          },
          "paper_bgcolor": "white",
          "plot_bgcolor": "#E5ECF6",
          "polar": {
           "angularaxis": {
            "gridcolor": "white",
            "linecolor": "white",
            "ticks": ""
           },
           "bgcolor": "#E5ECF6",
           "radialaxis": {
            "gridcolor": "white",
            "linecolor": "white",
            "ticks": ""
           }
          },
          "scene": {
           "xaxis": {
            "backgroundcolor": "#E5ECF6",
            "gridcolor": "white",
            "gridwidth": 2,
            "linecolor": "white",
            "showbackground": true,
            "ticks": "",
            "zerolinecolor": "white"
           },
           "yaxis": {
            "backgroundcolor": "#E5ECF6",
            "gridcolor": "white",
            "gridwidth": 2,
            "linecolor": "white",
            "showbackground": true,
            "ticks": "",
            "zerolinecolor": "white"
           },
           "zaxis": {
            "backgroundcolor": "#E5ECF6",
            "gridcolor": "white",
            "gridwidth": 2,
            "linecolor": "white",
            "showbackground": true,
            "ticks": "",
            "zerolinecolor": "white"
           }
          },
          "shapedefaults": {
           "line": {
            "color": "#2a3f5f"
           }
          },
          "ternary": {
           "aaxis": {
            "gridcolor": "white",
            "linecolor": "white",
            "ticks": ""
           },
           "baxis": {
            "gridcolor": "white",
            "linecolor": "white",
            "ticks": ""
           },
           "bgcolor": "#E5ECF6",
           "caxis": {
            "gridcolor": "white",
            "linecolor": "white",
            "ticks": ""
           }
          },
          "title": {
           "x": 0.05
          },
          "xaxis": {
           "automargin": true,
           "gridcolor": "white",
           "linecolor": "white",
           "ticks": "",
           "title": {
            "standoff": 15
           },
           "zerolinecolor": "white",
           "zerolinewidth": 2
          },
          "yaxis": {
           "automargin": true,
           "gridcolor": "white",
           "linecolor": "white",
           "ticks": "",
           "title": {
            "standoff": 15
           },
           "zerolinecolor": "white",
           "zerolinewidth": 2
          }
         }
        },
        "title": {
         "text": "Shortest Route Between Central European Cities"
        }
       }
      },
      "text/html": [
       "<div>                            <div id=\"5c116404-1dbf-401c-a0df-66f2c18e59c2\" class=\"plotly-graph-div\" style=\"height:525px; width:100%;\"></div>            <script type=\"text/javascript\">                require([\"plotly\"], function(Plotly) {                    window.PLOTLYENV=window.PLOTLYENV || {};                                    if (document.getElementById(\"5c116404-1dbf-401c-a0df-66f2c18e59c2\")) {                    Plotly.newPlot(                        \"5c116404-1dbf-401c-a0df-66f2c18e59c2\",                        [{\"lat\": [52.51666666666666, 50.08333333333334, 46.91666666666666, 47.13333333333333, 46.05, 47.5, 48.15, 48.2, 52.25], \"locationmode\": \"USA-states\", \"lon\": [13.4, 14.466667000000001, 7.466667, 9.516667, 14.516667000000002, 19.083333, 17.116667, 16.366667, 21.0], \"mode\": \"markers\", \"name\": \"capitals\", \"text\": [\"Hargeisa\", \"King Edward Point\", \"Port-aux-Fran\\u00e7ais\", \"Jerusalem\", \"Mariehamn\", \"Yaren\", \"Marigot\", \"Atafu\", \"El-Aai\\u00fan\", \"Kabul\", \"Tirana\", \"Algiers\", \"Pago Pago\", \"Andorra la Vella\", \"Luanda\", \"The Valley\", \"Saint John's\", \"Buenos Aires\", \"Yerevan\", \"Oranjestad\", \"Canberra\", \"Vienna\", \"Baku\", \"Nassau\", \"Manama\", \"Dhaka\", \"Bridgetown\", \"Minsk\", \"Brussels\", \"Belmopan\", \"Porto-Novo\", \"Hamilton\", \"Thimphu\", \"La Paz\", \"Sarajevo\", \"Gaborone\", \"Brasilia\", \"Road Town\", \"Bandar Seri Begawan\", \"Sofia\", \"Ouagadougou\", \"Rangoon\", \"Bujumbura\", \"Phnom Penh\", \"Yaounde\", \"Ottawa\", \"Praia\", \"George Town\", \"Bangui\", \"N'Djamena\", \"Santiago\", \"Beijing\", \"The Settlement\", \"West Island\", \"Bogota\", \"Moroni\", \"Kinshasa\", \"Brazzaville\", \"Avarua\", \"San Jose\", \"Yamoussoukro\", \"Zagreb\", \"Havana\", \"Willemstad\", \"Nicosia\", \"Prague\", \"Copenhagen\", \"Djibouti\", \"Roseau\", \"Santo Domingo\", \"Quito\", \"Cairo\", \"San Salvador\", \"Malabo\", \"Asmara\", \"Tallinn\", \"Addis Ababa\", \"Stanley\", \"Torshavn\", \"Suva\", \"Helsinki\", \"Paris\", \"Papeete\", \"Libreville\", \"Banjul\", \"Tbilisi\", \"Berlin\", \"Accra\", \"Gibraltar\", \"Athens\", \"Nuuk\", \"Saint George's\", \"Hagatna\", \"Guatemala City\", \"Saint Peter Port\", \"Conakry\", \"Bissau\", \"Georgetown\", \"Port-au-Prince\", \"Vatican City\", \"Tegucigalpa\", \"Budapest\", \"Reykjavik\", \"New Delhi\", \"Jakarta\", \"Tehran\", \"Baghdad\", \"Dublin\", \"Douglas\", \"Jerusalem\", \"Rome\", \"Kingston\", \"Tokyo\", \"Saint Helier\", \"Amman\", \"Astana\", \"Nairobi\", \"Tarawa\", \"Pyongyang\", \"Seoul\", \"Pristina\", \"Kuwait City\", \"Bishkek\", \"Vientiane\", \"Riga\", \"Beirut\", \"Maseru\", \"Monrovia\", \"Tripoli\", \"Vaduz\", \"Vilnius\", \"Luxembourg\", \"Skopje\", \"Antananarivo\", \"Lilongwe\", \"Kuala Lumpur\", \"Male\", \"Bamako\", \"Valletta\", \"Majuro\", \"Nouakchott\", \"Port Louis\", \"Mexico City\", \"Palikir\", \"Chisinau\", \"Monaco\", \"Ulaanbaatar\", \"Podgorica\", \"Plymouth\", \"Rabat\", \"Maputo\", \"Windhoek\", \"Kathmandu\", \"Amsterdam\", \"Noumea\", \"Wellington\", \"Managua\", \"Niamey\", \"Abuja\", \"Alofi\", \"Kingston\", \"Saipan\", \"Oslo\", \"Muscat\", \"Islamabad\", \"Melekeok\", \"Panama City\", \"Port Moresby\", \"Asuncion\", \"Lima\", \"Manila\", \"Adamstown\", \"Warsaw\", \"Lisbon\", \"San Juan\", \"Doha\", \"Bucharest\", \"Moscow\", \"Kigali\", \"Gustavia\", \"Jamestown\", \"Basseterre\", \"Castries\", \"Saint-Pierre\", \"Kingstown\", \"Apia\", \"San Marino\", \"Sao Tome\", \"Riyadh\", \"Dakar\", \"Belgrade\", \"Victoria\", \"Freetown\", \"Singapore\", \"Philipsburg\", \"Bratislava\", \"Ljubljana\", \"Honiara\", \"Mogadishu\", \"Pretoria\", \"Juba\", \"Madrid\", \"Colombo\", \"Khartoum\", \"Paramaribo\", \"Longyearbyen\", \"Mbabane\", \"Stockholm\", \"Bern\", \"Damascus\", \"Taipei\", \"Dushanbe\", \"Dar es Salaam\", \"Bangkok\", \"Dili\", \"Lome\", \"Nuku'alofa\", \"Port of Spain\", \"Tunis\", \"Ankara\", \"Ashgabat\", \"Grand Turk\", \"Funafuti\", \"Kampala\", \"Kyiv\", \"Abu Dhabi\", \"London\", \"Washington\", \"Montevideo\", \"Tashkent\", \"Port-Vila\", \"Caracas\", \"Hanoi\", \"Charlotte Amalie\", \"Mata-Utu\", \"Sanaa\", \"Lusaka\", \"Harare\", \"Washington\", null, \"North Nicosia\", null, null, \"Diego Garcia\", null], \"type\": \"scattergeo\"}, {\"lat\": [52.51666666666666, 50.08333333333334], \"locationmode\": \"USA-states\", \"lon\": [13.4, 14.466667000000001], \"mode\": \"lines\", \"name\": \"Berlin-Prague\", \"type\": \"scattergeo\"}, {\"lat\": [50.08333333333334, 46.91666666666666], \"locationmode\": \"USA-states\", \"lon\": [14.466667000000001, 7.466667], \"mode\": \"lines\", \"name\": \"Prague-Bern\", \"type\": \"scattergeo\"}, {\"lat\": [46.91666666666666, 47.13333333333333], \"locationmode\": \"USA-states\", \"lon\": [7.466667, 9.516667], \"mode\": \"lines\", \"name\": \"Bern-Vaduz\", \"type\": \"scattergeo\"}, {\"lat\": [47.13333333333333, 46.05], \"locationmode\": \"USA-states\", \"lon\": [9.516667, 14.516667000000002], \"mode\": \"lines\", \"name\": \"Vaduz-Ljubljana\", \"type\": \"scattergeo\"}, {\"lat\": [46.05, 47.5], \"locationmode\": \"USA-states\", \"lon\": [14.516667000000002, 19.083333], \"mode\": \"lines\", \"name\": \"Ljubljana-Budapest\", \"type\": \"scattergeo\"}, {\"lat\": [47.5, 48.15], \"locationmode\": \"USA-states\", \"lon\": [19.083333, 17.116667], \"mode\": \"lines\", \"name\": \"Budapest-Bratislava\", \"type\": \"scattergeo\"}, {\"lat\": [48.15, 48.2], \"locationmode\": \"USA-states\", \"lon\": [17.116667, 16.366667], \"mode\": \"lines\", \"name\": \"Bratislava-Vienna\", \"type\": \"scattergeo\"}, {\"lat\": [48.2, 52.25], \"locationmode\": \"USA-states\", \"lon\": [16.366667, 21.0], \"mode\": \"lines\", \"name\": \"Vienna-Warsaw\", \"type\": \"scattergeo\"}, {\"lat\": [52.25, 52.51666666666666], \"locationmode\": \"USA-states\", \"lon\": [21.0, 13.4], \"mode\": \"lines\", \"name\": \"Warsaw-Berlin\", \"type\": \"scattergeo\"}],                        {\"geo\": {\"scope\": \"europe\"}, \"template\": {\"data\": {\"bar\": [{\"error_x\": {\"color\": \"#2a3f5f\"}, \"error_y\": {\"color\": \"#2a3f5f\"}, \"marker\": {\"line\": {\"color\": \"#E5ECF6\", \"width\": 0.5}}, \"type\": \"bar\"}], \"barpolar\": [{\"marker\": {\"line\": {\"color\": \"#E5ECF6\", \"width\": 0.5}}, \"type\": \"barpolar\"}], \"carpet\": [{\"aaxis\": {\"endlinecolor\": \"#2a3f5f\", \"gridcolor\": \"white\", \"linecolor\": \"white\", \"minorgridcolor\": \"white\", \"startlinecolor\": \"#2a3f5f\"}, \"baxis\": {\"endlinecolor\": \"#2a3f5f\", \"gridcolor\": \"white\", \"linecolor\": \"white\", \"minorgridcolor\": \"white\", \"startlinecolor\": \"#2a3f5f\"}, \"type\": \"carpet\"}], \"choropleth\": [{\"colorbar\": {\"outlinewidth\": 0, \"ticks\": \"\"}, \"type\": \"choropleth\"}], \"contour\": [{\"colorbar\": {\"outlinewidth\": 0, \"ticks\": \"\"}, \"colorscale\": [[0.0, \"#0d0887\"], [0.1111111111111111, \"#46039f\"], [0.2222222222222222, \"#7201a8\"], [0.3333333333333333, \"#9c179e\"], [0.4444444444444444, \"#bd3786\"], [0.5555555555555556, \"#d8576b\"], [0.6666666666666666, \"#ed7953\"], [0.7777777777777778, \"#fb9f3a\"], [0.8888888888888888, \"#fdca26\"], [1.0, \"#f0f921\"]], \"type\": \"contour\"}], \"contourcarpet\": [{\"colorbar\": {\"outlinewidth\": 0, \"ticks\": \"\"}, \"type\": \"contourcarpet\"}], \"heatmap\": [{\"colorbar\": {\"outlinewidth\": 0, \"ticks\": \"\"}, \"colorscale\": [[0.0, \"#0d0887\"], [0.1111111111111111, \"#46039f\"], [0.2222222222222222, \"#7201a8\"], [0.3333333333333333, \"#9c179e\"], [0.4444444444444444, \"#bd3786\"], [0.5555555555555556, \"#d8576b\"], [0.6666666666666666, \"#ed7953\"], [0.7777777777777778, \"#fb9f3a\"], [0.8888888888888888, \"#fdca26\"], [1.0, \"#f0f921\"]], \"type\": \"heatmap\"}], \"heatmapgl\": [{\"colorbar\": {\"outlinewidth\": 0, \"ticks\": \"\"}, \"colorscale\": [[0.0, \"#0d0887\"], [0.1111111111111111, \"#46039f\"], [0.2222222222222222, \"#7201a8\"], [0.3333333333333333, \"#9c179e\"], [0.4444444444444444, \"#bd3786\"], [0.5555555555555556, \"#d8576b\"], [0.6666666666666666, \"#ed7953\"], [0.7777777777777778, \"#fb9f3a\"], [0.8888888888888888, \"#fdca26\"], [1.0, \"#f0f921\"]], \"type\": \"heatmapgl\"}], \"histogram\": [{\"marker\": {\"colorbar\": {\"outlinewidth\": 0, \"ticks\": \"\"}}, \"type\": \"histogram\"}], \"histogram2d\": [{\"colorbar\": {\"outlinewidth\": 0, \"ticks\": \"\"}, \"colorscale\": [[0.0, \"#0d0887\"], [0.1111111111111111, \"#46039f\"], [0.2222222222222222, \"#7201a8\"], [0.3333333333333333, \"#9c179e\"], [0.4444444444444444, \"#bd3786\"], [0.5555555555555556, \"#d8576b\"], [0.6666666666666666, \"#ed7953\"], [0.7777777777777778, \"#fb9f3a\"], [0.8888888888888888, \"#fdca26\"], [1.0, \"#f0f921\"]], \"type\": \"histogram2d\"}], \"histogram2dcontour\": [{\"colorbar\": {\"outlinewidth\": 0, \"ticks\": \"\"}, \"colorscale\": [[0.0, \"#0d0887\"], [0.1111111111111111, \"#46039f\"], [0.2222222222222222, \"#7201a8\"], [0.3333333333333333, \"#9c179e\"], [0.4444444444444444, \"#bd3786\"], [0.5555555555555556, \"#d8576b\"], [0.6666666666666666, \"#ed7953\"], [0.7777777777777778, \"#fb9f3a\"], [0.8888888888888888, \"#fdca26\"], [1.0, \"#f0f921\"]], \"type\": \"histogram2dcontour\"}], \"mesh3d\": [{\"colorbar\": {\"outlinewidth\": 0, \"ticks\": \"\"}, \"type\": \"mesh3d\"}], \"parcoords\": [{\"line\": {\"colorbar\": {\"outlinewidth\": 0, \"ticks\": \"\"}}, \"type\": \"parcoords\"}], \"pie\": [{\"automargin\": true, \"type\": \"pie\"}], \"scatter\": [{\"marker\": {\"colorbar\": {\"outlinewidth\": 0, \"ticks\": \"\"}}, \"type\": \"scatter\"}], \"scatter3d\": [{\"line\": {\"colorbar\": {\"outlinewidth\": 0, \"ticks\": \"\"}}, \"marker\": {\"colorbar\": {\"outlinewidth\": 0, \"ticks\": \"\"}}, \"type\": \"scatter3d\"}], \"scattercarpet\": [{\"marker\": {\"colorbar\": {\"outlinewidth\": 0, \"ticks\": \"\"}}, \"type\": \"scattercarpet\"}], \"scattergeo\": [{\"marker\": {\"colorbar\": {\"outlinewidth\": 0, \"ticks\": \"\"}}, \"type\": \"scattergeo\"}], \"scattergl\": [{\"marker\": {\"colorbar\": {\"outlinewidth\": 0, \"ticks\": \"\"}}, \"type\": \"scattergl\"}], \"scattermapbox\": [{\"marker\": {\"colorbar\": {\"outlinewidth\": 0, \"ticks\": \"\"}}, \"type\": \"scattermapbox\"}], \"scatterpolar\": [{\"marker\": {\"colorbar\": {\"outlinewidth\": 0, \"ticks\": \"\"}}, \"type\": \"scatterpolar\"}], \"scatterpolargl\": [{\"marker\": {\"colorbar\": {\"outlinewidth\": 0, \"ticks\": \"\"}}, \"type\": \"scatterpolargl\"}], \"scatterternary\": [{\"marker\": {\"colorbar\": {\"outlinewidth\": 0, \"ticks\": \"\"}}, \"type\": \"scatterternary\"}], \"surface\": [{\"colorbar\": {\"outlinewidth\": 0, \"ticks\": \"\"}, \"colorscale\": [[0.0, \"#0d0887\"], [0.1111111111111111, \"#46039f\"], [0.2222222222222222, \"#7201a8\"], [0.3333333333333333, \"#9c179e\"], [0.4444444444444444, \"#bd3786\"], [0.5555555555555556, \"#d8576b\"], [0.6666666666666666, \"#ed7953\"], [0.7777777777777778, \"#fb9f3a\"], [0.8888888888888888, \"#fdca26\"], [1.0, \"#f0f921\"]], \"type\": \"surface\"}], \"table\": [{\"cells\": {\"fill\": {\"color\": \"#EBF0F8\"}, \"line\": {\"color\": \"white\"}}, \"header\": {\"fill\": {\"color\": \"#C8D4E3\"}, \"line\": {\"color\": \"white\"}}, \"type\": \"table\"}]}, \"layout\": {\"annotationdefaults\": {\"arrowcolor\": \"#2a3f5f\", \"arrowhead\": 0, \"arrowwidth\": 1}, \"autotypenumbers\": \"strict\", \"coloraxis\": {\"colorbar\": {\"outlinewidth\": 0, \"ticks\": \"\"}}, \"colorscale\": {\"diverging\": [[0, \"#8e0152\"], [0.1, \"#c51b7d\"], [0.2, \"#de77ae\"], [0.3, \"#f1b6da\"], [0.4, \"#fde0ef\"], [0.5, \"#f7f7f7\"], [0.6, \"#e6f5d0\"], [0.7, \"#b8e186\"], [0.8, \"#7fbc41\"], [0.9, \"#4d9221\"], [1, \"#276419\"]], \"sequential\": [[0.0, \"#0d0887\"], [0.1111111111111111, \"#46039f\"], [0.2222222222222222, \"#7201a8\"], [0.3333333333333333, \"#9c179e\"], [0.4444444444444444, \"#bd3786\"], [0.5555555555555556, \"#d8576b\"], [0.6666666666666666, \"#ed7953\"], [0.7777777777777778, \"#fb9f3a\"], [0.8888888888888888, \"#fdca26\"], [1.0, \"#f0f921\"]], \"sequentialminus\": [[0.0, \"#0d0887\"], [0.1111111111111111, \"#46039f\"], [0.2222222222222222, \"#7201a8\"], [0.3333333333333333, \"#9c179e\"], [0.4444444444444444, \"#bd3786\"], [0.5555555555555556, \"#d8576b\"], [0.6666666666666666, \"#ed7953\"], [0.7777777777777778, \"#fb9f3a\"], [0.8888888888888888, \"#fdca26\"], [1.0, \"#f0f921\"]]}, \"colorway\": [\"#636efa\", \"#EF553B\", \"#00cc96\", \"#ab63fa\", \"#FFA15A\", \"#19d3f3\", \"#FF6692\", \"#B6E880\", \"#FF97FF\", \"#FECB52\"], \"font\": {\"color\": \"#2a3f5f\"}, \"geo\": {\"bgcolor\": \"white\", \"lakecolor\": \"white\", \"landcolor\": \"#E5ECF6\", \"showlakes\": true, \"showland\": true, \"subunitcolor\": \"white\"}, \"hoverlabel\": {\"align\": \"left\"}, \"hovermode\": \"closest\", \"mapbox\": {\"style\": \"light\"}, \"paper_bgcolor\": \"white\", \"plot_bgcolor\": \"#E5ECF6\", \"polar\": {\"angularaxis\": {\"gridcolor\": \"white\", \"linecolor\": \"white\", \"ticks\": \"\"}, \"bgcolor\": \"#E5ECF6\", \"radialaxis\": {\"gridcolor\": \"white\", \"linecolor\": \"white\", \"ticks\": \"\"}}, \"scene\": {\"xaxis\": {\"backgroundcolor\": \"#E5ECF6\", \"gridcolor\": \"white\", \"gridwidth\": 2, \"linecolor\": \"white\", \"showbackground\": true, \"ticks\": \"\", \"zerolinecolor\": \"white\"}, \"yaxis\": {\"backgroundcolor\": \"#E5ECF6\", \"gridcolor\": \"white\", \"gridwidth\": 2, \"linecolor\": \"white\", \"showbackground\": true, \"ticks\": \"\", \"zerolinecolor\": \"white\"}, \"zaxis\": {\"backgroundcolor\": \"#E5ECF6\", \"gridcolor\": \"white\", \"gridwidth\": 2, \"linecolor\": \"white\", \"showbackground\": true, \"ticks\": \"\", \"zerolinecolor\": \"white\"}}, \"shapedefaults\": {\"line\": {\"color\": \"#2a3f5f\"}}, \"ternary\": {\"aaxis\": {\"gridcolor\": \"white\", \"linecolor\": \"white\", \"ticks\": \"\"}, \"baxis\": {\"gridcolor\": \"white\", \"linecolor\": \"white\", \"ticks\": \"\"}, \"bgcolor\": \"#E5ECF6\", \"caxis\": {\"gridcolor\": \"white\", \"linecolor\": \"white\", \"ticks\": \"\"}}, \"title\": {\"x\": 0.05}, \"xaxis\": {\"automargin\": true, \"gridcolor\": \"white\", \"linecolor\": \"white\", \"ticks\": \"\", \"title\": {\"standoff\": 15}, \"zerolinecolor\": \"white\", \"zerolinewidth\": 2}, \"yaxis\": {\"automargin\": true, \"gridcolor\": \"white\", \"linecolor\": \"white\", \"ticks\": \"\", \"title\": {\"standoff\": 15}, \"zerolinecolor\": \"white\", \"zerolinewidth\": 2}}}, \"title\": {\"text\": \"Shortest Route Between Central European Cities\"}},                        {\"responsive\": true}                    ).then(function(){\n",
       "                            \n",
       "var gd = document.getElementById('5c116404-1dbf-401c-a0df-66f2c18e59c2');\n",
       "var x = new MutationObserver(function (mutations, observer) {{\n",
       "        var display = window.getComputedStyle(gd).display;\n",
       "        if (!display || display === 'none') {{\n",
       "            console.log([gd, 'removed!']);\n",
       "            Plotly.purge(gd);\n",
       "            observer.disconnect();\n",
       "        }}\n",
       "}});\n",
       "\n",
       "// Listen for the removal of the full notebook cells\n",
       "var notebookContainer = gd.closest('#notebook-container');\n",
       "if (notebookContainer) {{\n",
       "    x.observe(notebookContainer, {childList: true});\n",
       "}}\n",
       "\n",
       "// Listen for the clearing of the current output cell\n",
       "var outputEl = gd.closest('.output');\n",
       "if (outputEl) {{\n",
       "    x.observe(outputEl, {childList: true});\n",
       "}}\n",
       "\n",
       "                        })                };                });            </script>        </div>"
      ]
     },
     "metadata": {},
     "output_type": "display_data"
    }
   ],
   "source": [
    "# başkentlerin çizilmesi\n",
    "fig = go.Figure(data=go.Scattergeo(\n",
    "    locationmode = 'USA-states',\n",
    "        lon = path_df['lon'],\n",
    "        lat = path_df['lat'],\n",
    "        text = df['capital'],\n",
    "        mode = 'markers',\n",
    "    name=\"capitals\"\n",
    "        ))\n",
    "\n",
    "# draw the paths between the capitals\n",
    "for i in range(len(path_df)-1):\n",
    "    fig.add_trace(go.Scattergeo(\n",
    "        locationmode = 'USA-states',\n",
    "        lon=[path_df.loc[i,\"lon\"],path_df.loc[i+1,\"lon\"]], \n",
    "        lat=[path_df.loc[i,\"lat\"],path_df.loc[i+1,\"lat\"]], \n",
    "        name=\"-\".join([path_df.loc[i,\"capital\"],path_df.loc[i+1,\"capital\"]]),\n",
    "        mode=\"lines\"))\n",
    "    \n",
    "# the last path\n",
    "fig.add_trace(go.Scattergeo(\n",
    "        locationmode = 'USA-states',\n",
    "        lon=[path_df.loc[8,\"lon\"],path_df.loc[0,\"lon\"]], \n",
    "        lat=[path_df.loc[8,\"lat\"],path_df.loc[0,\"lat\"]], \n",
    "        name=\"-\".join([path_df.loc[8,\"capital\"],path_df.loc[0,\"capital\"]]),\n",
    "        mode=\"lines\"))\n",
    "\n",
    "fig.update_layout(\n",
    "        title = 'Shortest Route Between Central European Cities',\n",
    "        geo_scope='europe',\n",
    "    )\n",
    "fig.show()\n"
   ]
  },
  {
   "cell_type": "code",
   "execution_count": null,
   "metadata": {},
   "outputs": [],
   "source": []
  }
 ],
 "metadata": {
  "kernelspec": {
   "display_name": "Python 3",
   "language": "python",
   "name": "python3"
  },
  "language_info": {
   "codemirror_mode": {
    "name": "ipython",
    "version": 3
   },
   "file_extension": ".py",
   "mimetype": "text/x-python",
   "name": "python",
   "nbconvert_exporter": "python",
   "pygments_lexer": "ipython3",
   "version": "3.8.5"
  }
 },
 "nbformat": 4,
 "nbformat_minor": 4
}
