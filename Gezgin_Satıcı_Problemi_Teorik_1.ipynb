{
 "cells": [
  {
   "cell_type": "markdown",
   "metadata": {},
   "source": [
    "### Traveling Salesman Probleminin Jupyter Lab, Python 3 ile Uygulanması-Teorik Yalın Yaklaşım Metodu"
   ]
  },
  {
   "cell_type": "code",
   "execution_count": 1,
   "metadata": {},
   "outputs": [
    {
     "name": "stdout",
     "output_type": "stream",
     "text": [
      "80\n"
     ]
    }
   ],
   "source": [
    "\n",
    "from sys import maxsize\n",
    "from itertools import permutations\n",
    "V = 4\n",
    " \n",
    "# traveling Salesman Probleminin uygulanması\n",
    "def travellingSalesmanProblem(graph, s):\n",
    " \n",
    "    # tüm köşeleri kaynak köşeden ayrı olarak saklama amacıyla \n",
    "    vertex = []\n",
    "    for i in range(V):\n",
    "        if i != s:\n",
    "            vertex.append(i)\n",
    " \n",
    "    # Hamilton döngüsünün minimum ağırlığının saklanması\n",
    "    min_path = maxsize\n",
    "    next_permutation=permutations(vertex)\n",
    "    for i in next_permutation:\n",
    " \n",
    "        # geçerli yol ağırlığını(maliyet)saklama\n",
    "        current_pathweight = 0\n",
    " \n",
    "        # geçerli yol ağırlığını hesapla\n",
    "        k = s\n",
    "        for j in i:\n",
    "            current_pathweight += graph[k][j]\n",
    "            k = j\n",
    "        current_pathweight += graph[k][s]\n",
    " \n",
    "        #  minimum değeri güncelleme\n",
    "        min_path = min(min_path, current_pathweight)\n",
    "         \n",
    "    return min_path\n",
    " \n",
    " \n",
    "# Driver Code\n",
    "if __name__ == \"__main__\":\n",
    " \n",
    "    # grafiğin matris gösterimi\n",
    "    graph = [[0, 10, 15, 20], [10, 0, 35, 25],\n",
    "            [15, 35, 0, 30], [20, 25, 30, 0]]\n",
    "    s = 0\n",
    "    print(travellingSalesmanProblem(graph, s))"
   ]
  },
  {
   "cell_type": "code",
   "execution_count": null,
   "metadata": {},
   "outputs": [],
   "source": []
  }
 ],
 "metadata": {
  "kernelspec": {
   "display_name": "Python 3",
   "language": "python",
   "name": "python3"
  },
  "language_info": {
   "codemirror_mode": {
    "name": "ipython",
    "version": 3
   },
   "file_extension": ".py",
   "mimetype": "text/x-python",
   "name": "python",
   "nbconvert_exporter": "python",
   "pygments_lexer": "ipython3",
   "version": "3.8.5"
  }
 },
 "nbformat": 4,
 "nbformat_minor": 4
}
